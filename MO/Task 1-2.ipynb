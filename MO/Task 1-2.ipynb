{
 "cells": [
  {
   "cell_type": "markdown",
   "id": "58f218cf-0265-41a1-8211-093848aafbdf",
   "metadata": {},
   "source": [
    "Task 1"
   ]
  },
  {
   "cell_type": "code",
   "execution_count": 1,
   "id": "c24cfd70-f466-4031-ac44-24441f884f42",
   "metadata": {},
   "outputs": [],
   "source": [
    "array1 = [6.67, 10.02, 3.78, 6.48, 7.65, 8.77, 7, 11.06, 6.7, 6.69, 9.42, 7.24, 5.39, 5.61, 4.23, 5.22, 18, 11.03]\n",
    "array2 = [5.68, 5.22, 8.16, 10.44, 9.27, 5.59, 6.57]\n",
    "array3 = [9.37, 9.02, 6.54]\n",
    "array4 = [13.17, 13.28]"
   ]
  },
  {
   "cell_type": "code",
   "execution_count": 2,
   "id": "59787fc2-9477-4a24-aefe-96e436a48234",
   "metadata": {},
   "outputs": [],
   "source": [
    "y1 = 7.4189\n",
    "y2 = 7.2426\n",
    "y3 = 8.31\n",
    "y4 = 13.225"
   ]
  },
  {
   "cell_type": "code",
   "execution_count": 3,
   "id": "cad43c93-4f80-430d-a5ce-59c85941a977",
   "metadata": {},
   "outputs": [
    {
     "data": {
      "text/plain": [
       "30"
      ]
     },
     "execution_count": 3,
     "metadata": {},
     "output_type": "execute_result"
    }
   ],
   "source": [
    "x = [24868, 24868, 24868, 24868, 24868, 24868, 24868, 24868, 24868, 24868, 24868, 24868, 24868, 24868, 24868, 24868, 24868, 24868, 24868,\n",
    "     43501, 43501, 43501, 43501, 43501, 43501,\n",
    "     62134, 62134, 62134, \n",
    "     99400, 99400]\n",
    "len(x)"
   ]
  },
  {
   "cell_type": "code",
   "execution_count": 4,
   "id": "b44a077b-308f-4002-99b3-eadb72532e48",
   "metadata": {},
   "outputs": [
    {
     "data": {
      "text/plain": [
       "37290.0"
      ]
     },
     "execution_count": 4,
     "metadata": {},
     "output_type": "execute_result"
    }
   ],
   "source": [
    "sum = 0\n",
    "for i in x:\n",
    "    sum = sum + i\n",
    "X_mean = sum/30\n",
    "X_mean"
   ]
  },
  {
   "cell_type": "code",
   "execution_count": 5,
   "id": "8b457002-b69a-411c-bca0-6f6e4b928963",
   "metadata": {},
   "outputs": [
    {
     "data": {
      "text/plain": [
       "0.006049999999999937"
      ]
     },
     "execution_count": 5,
     "metadata": {},
     "output_type": "execute_result"
    }
   ],
   "source": [
    "sum = 0\n",
    "for i in array4:\n",
    "    sum = sum + (i - y4)**2\n",
    "sum"
   ]
  },
  {
   "cell_type": "code",
   "execution_count": 6,
   "id": "3a75c1ec-c0e3-4725-983e-437bd4fcf483",
   "metadata": {},
   "outputs": [
    {
     "data": {
      "text/plain": [
       "[6.67,\n",
       " 10.02,\n",
       " 3.78,\n",
       " 6.48,\n",
       " 7.65,\n",
       " 8.77,\n",
       " 7,\n",
       " 11.06,\n",
       " 6.7,\n",
       " 6.69,\n",
       " 9.42,\n",
       " 7.24,\n",
       " 5.39,\n",
       " 5.61,\n",
       " 4.23,\n",
       " 5.22,\n",
       " 18,\n",
       " 11.03,\n",
       " 5.68,\n",
       " 5.22,\n",
       " 8.16,\n",
       " 10.44,\n",
       " 9.27,\n",
       " 5.59,\n",
       " 6.57,\n",
       " 9.37,\n",
       " 9.02,\n",
       " 6.54,\n",
       " 13.17,\n",
       " 13.28]"
      ]
     },
     "execution_count": 6,
     "metadata": {},
     "output_type": "execute_result"
    }
   ],
   "source": [
    "array = array1+ array2 + array3 + array4\n",
    "array"
   ]
  },
  {
   "cell_type": "code",
   "execution_count": 7,
   "id": "0eb0ad07-ddc0-4d33-82f5-658db38e9802",
   "metadata": {},
   "outputs": [
    {
     "name": "stdout",
     "output_type": "stream",
     "text": [
      "243.27\n",
      "8.109\n"
     ]
    }
   ],
   "source": [
    "sum = 0\n",
    "for i in array:\n",
    "    sum = sum + i\n",
    "\n",
    "print(sum)\n",
    "print(sum/30)"
   ]
  },
  {
   "cell_type": "code",
   "execution_count": 8,
   "id": "3ceb2915-17c3-49d2-bfa4-8382f0031ee0",
   "metadata": {},
   "outputs": [
    {
     "data": {
      "text/plain": [
       "9.151642333333333"
      ]
     },
     "execution_count": 8,
     "metadata": {},
     "output_type": "execute_result"
    }
   ],
   "source": [
    "y = 8.109\n",
    "sum = 0\n",
    "for i in array:\n",
    "    sum = sum + (i-y)**2\n",
    "    \n",
    "sum/30"
   ]
  },
  {
   "cell_type": "code",
   "execution_count": 9,
   "id": "4ea2f840-186c-4d69-bf0a-ff3b5a856c42",
   "metadata": {},
   "outputs": [
    {
     "data": {
      "text/plain": [
       "0.2027186502906595"
      ]
     },
     "execution_count": 9,
     "metadata": {},
     "output_type": "execute_result"
    }
   ],
   "source": [
    "1 - (7.2964/9.1516)"
   ]
  },
  {
   "cell_type": "code",
   "execution_count": 10,
   "id": "cbc6a810-baa7-4863-888d-7553473784df",
   "metadata": {},
   "outputs": [
    {
     "name": "stdout",
     "output_type": "stream",
     "text": [
      "y\n",
      "====\n",
      "1 ) 6.67 \t-\t 8.109 =  -1.439\n",
      "2 ) 10.02 \t-\t 8.109 =  1.9109999999999996\n",
      "3 ) 3.78 \t-\t 8.109 =  -4.329000000000001\n",
      "4 ) 6.48 \t-\t 8.109 =  -1.6289999999999996\n",
      "5 ) 7.65 \t-\t 8.109 =  -0.45899999999999963\n",
      "6 ) 8.77 \t-\t 8.109 =  0.6609999999999996\n",
      "7 ) 7 \t-\t 8.109 =  -1.109\n",
      "8 ) 11.06 \t-\t 8.109 =  2.9510000000000005\n",
      "9 ) 6.7 \t-\t 8.109 =  -1.4089999999999998\n",
      "10 ) 6.69 \t-\t 8.109 =  -1.4189999999999996\n",
      "11 ) 9.42 \t-\t 8.109 =  1.311\n",
      "12 ) 7.24 \t-\t 8.109 =  -0.8689999999999998\n",
      "13 ) 5.39 \t-\t 8.109 =  -2.7190000000000003\n",
      "14 ) 5.61 \t-\t 8.109 =  -2.4989999999999997\n",
      "15 ) 4.23 \t-\t 8.109 =  -3.8789999999999996\n",
      "16 ) 5.22 \t-\t 8.109 =  -2.8890000000000002\n",
      "17 ) 18 \t-\t 8.109 =  9.891\n",
      "18 ) 11.03 \t-\t 8.109 =  2.9209999999999994\n",
      "19 ) 5.68 \t-\t 8.109 =  -2.4290000000000003\n",
      "20 ) 5.22 \t-\t 8.109 =  -2.8890000000000002\n",
      "21 ) 8.16 \t-\t 8.109 =  0.051000000000000156\n",
      "22 ) 10.44 \t-\t 8.109 =  2.3309999999999995\n",
      "23 ) 9.27 \t-\t 8.109 =  1.1609999999999996\n",
      "24 ) 5.59 \t-\t 8.109 =  -2.519\n",
      "25 ) 6.57 \t-\t 8.109 =  -1.5389999999999997\n",
      "26 ) 9.37 \t-\t 8.109 =  1.2609999999999992\n",
      "27 ) 9.02 \t-\t 8.109 =  0.9109999999999996\n",
      "28 ) 6.54 \t-\t 8.109 =  -1.569\n",
      "29 ) 13.17 \t-\t 8.109 =  5.061\n",
      "30 ) 13.28 \t-\t 8.109 =  5.170999999999999\n",
      "\n",
      "x\n",
      "====\n",
      "1 ) 24868 \t-\t 37290.0 =  -12422.0\n",
      "2 ) 24868 \t-\t 37290.0 =  -12422.0\n",
      "3 ) 24868 \t-\t 37290.0 =  -12422.0\n",
      "4 ) 24868 \t-\t 37290.0 =  -12422.0\n",
      "5 ) 24868 \t-\t 37290.0 =  -12422.0\n",
      "6 ) 24868 \t-\t 37290.0 =  -12422.0\n",
      "7 ) 24868 \t-\t 37290.0 =  -12422.0\n",
      "8 ) 24868 \t-\t 37290.0 =  -12422.0\n",
      "9 ) 24868 \t-\t 37290.0 =  -12422.0\n",
      "10 ) 24868 \t-\t 37290.0 =  -12422.0\n",
      "11 ) 24868 \t-\t 37290.0 =  -12422.0\n",
      "12 ) 24868 \t-\t 37290.0 =  -12422.0\n",
      "13 ) 24868 \t-\t 37290.0 =  -12422.0\n",
      "14 ) 24868 \t-\t 37290.0 =  -12422.0\n",
      "15 ) 24868 \t-\t 37290.0 =  -12422.0\n",
      "16 ) 24868 \t-\t 37290.0 =  -12422.0\n",
      "17 ) 24868 \t-\t 37290.0 =  -12422.0\n",
      "18 ) 24868 \t-\t 37290.0 =  -12422.0\n",
      "19 ) 24868 \t-\t 37290.0 =  -12422.0\n",
      "20 ) 43501 \t-\t 37290.0 =  6211.0\n",
      "21 ) 43501 \t-\t 37290.0 =  6211.0\n",
      "22 ) 43501 \t-\t 37290.0 =  6211.0\n",
      "23 ) 43501 \t-\t 37290.0 =  6211.0\n",
      "24 ) 43501 \t-\t 37290.0 =  6211.0\n",
      "25 ) 43501 \t-\t 37290.0 =  6211.0\n",
      "26 ) 62134 \t-\t 37290.0 =  24844.0\n",
      "27 ) 62134 \t-\t 37290.0 =  24844.0\n",
      "28 ) 62134 \t-\t 37290.0 =  24844.0\n",
      "29 ) 99400 \t-\t 37290.0 =  62110.0\n",
      "30 ) 99400 \t-\t 37290.0 =  62110.0\n"
     ]
    }
   ],
   "source": [
    "print('y\\n====')\n",
    "p = 1\n",
    "for i in array:\n",
    "    print(p,')',i,'\\t-\\t',y,'= ',i-y)\n",
    "    p = p+1\n",
    "\n",
    "p = 1\n",
    "print('\\nx\\n====')\n",
    "for i in x:\n",
    "    print(p,')',i,'\\t-\\t',X_mean,'= ',i-X_mean)\n",
    "    p = p+1"
   ]
  },
  {
   "cell_type": "markdown",
   "id": "13d042ba-7254-470b-a5d8-9227eae2db3b",
   "metadata": {},
   "source": [
    "C- 20\n",
    "H- 10\n",
    "C-H/30"
   ]
  },
  {
   "cell_type": "code",
   "execution_count": 43,
   "id": "7d508bbc-4535-4e34-ada1-cb2a94eba334",
   "metadata": {},
   "outputs": [
    {
     "data": {
      "text/plain": [
       "0.3333333333333333"
      ]
     },
     "execution_count": 43,
     "metadata": {},
     "output_type": "execute_result"
    }
   ],
   "source": [
    "(20-10)/30"
   ]
  },
  {
   "cell_type": "markdown",
   "id": "6bb6668b-325e-4454-9511-7af2a1231b36",
   "metadata": {},
   "source": [
    "TASK 2"
   ]
  },
  {
   "cell_type": "code",
   "execution_count": 37,
   "id": "1bf6a572-3a97-43bf-ac05-59f812bcb8e1",
   "metadata": {},
   "outputs": [
    {
     "data": {
      "text/plain": [
       "array([[1.        , 0.38601274],\n",
       "       [0.38601274, 1.        ]])"
      ]
     },
     "execution_count": 37,
     "metadata": {},
     "output_type": "execute_result"
    }
   ],
   "source": [
    "import numpy as np\n",
    "corr = np.corrcoef(x,array)\n",
    "n = 30\n",
    "Sum_x_y = 0\n",
    "Sum_x = 0\n",
    "Sum_y = 0\n",
    "Sum_x_square = 0\n",
    "Sum_y_square = 0\n",
    "corr"
   ]
  },
  {
   "cell_type": "code",
   "execution_count": 36,
   "id": "0662a00a-5dc1-4b36-b202-ebed89776984",
   "metadata": {},
   "outputs": [],
   "source": [
    "for i in range(n):\n",
    "    Sum_x_y = Sum_x_y + x[i]*array[i]\n",
    "\n",
    "for i in x:\n",
    "    Sum_x = Sum_x + i\n",
    "    \n",
    "for i in array:\n",
    "    Sum_y = Sum_y + i\n",
    "    \n",
    "for i in x:\n",
    "    Sum_x_square = Sum_x_square + i**2\n",
    "    \n",
    "for i in array:\n",
    "    Sum_y_square = Sum_y_square + i**2\n",
    "    "
   ]
  },
  {
   "cell_type": "code",
   "execution_count": 33,
   "id": "e93e0843-977d-477b-841f-3221779e66a2",
   "metadata": {},
   "outputs": [
    {
     "name": "stdout",
     "output_type": "stream",
     "text": [
      "-8954881826192.738 \t 7775481357637.482\n"
     ]
    },
    {
     "data": {
      "text/plain": [
       "-1.1516819878163282"
      ]
     },
     "execution_count": 33,
     "metadata": {},
     "output_type": "execute_result"
    }
   ],
   "source": [
    "a = (n*Sum_x_y - Sum_x * Sum_y)\n",
    "b1 = (n * Sum_x_square - Sum_x**2)\n",
    "b2 = (n * Sum_y_square - Sum_y**2)\n",
    "b = (b1*b2)**(1/2)\n",
    "r = a/b\n",
    "print(a,'\\t',b)\n",
    "r"
   ]
  },
  {
   "cell_type": "markdown",
   "id": "eff7a190-4b9b-4741-bba8-b71e798afee9",
   "metadata": {},
   "source": [
    "Corr = 0.38601274"
   ]
  },
  {
   "cell_type": "code",
   "execution_count": 40,
   "id": "f8169ea9-66c9-4ac1-a578-54529ba74143",
   "metadata": {},
   "outputs": [
    {
     "data": {
      "text/plain": [
       "2.2142026339239687"
      ]
     },
     "execution_count": 40,
     "metadata": {},
     "output_type": "execute_result"
    }
   ],
   "source": [
    "r = 0.38601274\n",
    "t_CT = r * ((n-2)/(1-r**2))**(0.5)\n",
    "t_CT"
   ]
  },
  {
   "cell_type": "code",
   "execution_count": 39,
   "id": "ee62b36b-1ca9-45a1-9dcc-7806acc697e9",
   "metadata": {},
   "outputs": [],
   "source": [
    "t_KP = 2.048"
   ]
  },
  {
   "cell_type": "markdown",
   "id": "e466c3c6-b5c2-49c4-9944-2fc8cccfe1f1",
   "metadata": {},
   "source": [
    "90%"
   ]
  },
  {
   "cell_type": "markdown",
   "id": "ec3b6c15-6447-432e-b811-5295b5fae7a1",
   "metadata": {},
   "source": [
    "Интервал доверия"
   ]
  },
  {
   "cell_type": "code",
   "execution_count": 42,
   "id": "2da878b5-06d3-4648-b9aa-26515bded5c1",
   "metadata": {},
   "outputs": [
    {
     "name": "stdout",
     "output_type": "stream",
     "text": [
      "0.0848325572143328 0.7160688515283236\n"
     ]
    }
   ],
   "source": [
    "import math\n",
    "z1 = 0.5 * math.log( (1+r) / (1-r) ) - r/(2*(n-1)) - 1.64/(n-3)**(0.5)\n",
    "z2 = 0.5 * math.log( (1+r) / (1-r) ) - r/(2*(n-1)) + 1.64/(n-3)**(0.5)\n",
    "print(z1,z2)"
   ]
  },
  {
   "cell_type": "code",
   "execution_count": null,
   "id": "85861f05-44d8-461d-93b5-9b9c7ad444bc",
   "metadata": {},
   "outputs": [],
   "source": []
  }
 ],
 "metadata": {
  "kernelspec": {
   "display_name": "Python 3 (ipykernel)",
   "language": "python",
   "name": "python3"
  },
  "language_info": {
   "codemirror_mode": {
    "name": "ipython",
    "version": 3
   },
   "file_extension": ".py",
   "mimetype": "text/x-python",
   "name": "python",
   "nbconvert_exporter": "python",
   "pygments_lexer": "ipython3",
   "version": "3.8.0"
  }
 },
 "nbformat": 4,
 "nbformat_minor": 5
}
