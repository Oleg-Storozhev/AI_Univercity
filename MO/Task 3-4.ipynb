{
 "cells": [
  {
   "cell_type": "markdown",
   "id": "602f5de0-ed33-40c3-8f7f-4e603a465eae",
   "metadata": {},
   "source": [
    "1. Розрахувати часткові коефіцієнти кореляції між результативною ознакою і всіма факторними ознаками. Перевірити їх значущість, знайти інтервали довіри.\n",
    "2. Надати змістовну інтерпретацію отриманим результатам. Яка з незалежних ознак найбільше впливає на результат? В чому відмінність часткового коефіцієнта кореляції від парного?\n",
    "3. Розрахувати множинний коефіцієнт кореляції, значущість, знайти інтервали довіри. Сформулювати висновки. перевірити його"
   ]
  },
  {
   "cell_type": "markdown",
   "id": "7db9bfca-9e06-49a8-b5c2-77d9da81932b",
   "metadata": {},
   "source": [
    "    1. Розрахувати часткові коефіцієнти кореляції між результативною ознакою і всіма факторними ознаками. Перевірити їх значущість, знайти інтервали довіри."
   ]
  },
  {
   "cell_type": "code",
   "execution_count": 1,
   "id": "207cc939-994a-4f2e-9e25-19b0dd7b8b46",
   "metadata": {},
   "outputs": [],
   "source": [
    "y12 = [80,79,75,53,79,76,67,50,80,68,47,70,80,54,63,45,59,78,81,\n",
    "      81,81,69,75,79,78,72,70,77,81,79,80,81,74,68,74,73,77,78,\n",
    "      74,70,79,79,72,73,75,68,80,82,78,82,81,82]\n",
    "\n",
    "x1 = [17800,8000,33900,125000,10100,10300,156600,10000,58400,\n",
    "      73100,6500,5600,5800,55200,60000,9100,911600,3600,39200,\n",
    "      58100,29100,1205200,35600,3300,11100,19500,28600,91800,\n",
    "      15400,81200,3524,4300,2800,43900,45000,23100,38600,10500,\n",
    "      149200,18000,2900,260800,59400,62200,51800,69800,5100,\n",
    "      58000,14000,7000,8800,125500]\n",
    "\n",
    "x2 = [15,12,20,35,12,13,21,47,13,27,40,35,13,45,29,46,29,14,11,\n",
    "      11,14,21,24,26,17,29,29,28,13,11,16,13,28,34,16,24,14,12,\n",
    "      13,38,16,15,19,26,12,27,13,13,23,12,14,11]\n",
    "\n",
    "x4 = [7.3,6.7,25.6,106,7.2,19,66,118,7.2,46,109,45,5.8,110,\n",
    "      76.4,85,79,7.4,6.9,7.6,6.8,52,28,11,10.2,25.6,50,35,6.3,\n",
    "      6.5,8.9,6.3,22,47.1,21.7,27.7,13.8,9.2,27,52,5.7,8.11,37,\n",
    "      49,20.7,51,5.3,6.7,14.6,6.2,5.7,4.4]\n",
    "\n",
    "x9 = [100,99,95,95,35,99,99,81,18,99,88,53,73,77,24,48,73,52,\n",
    "      98,95,97,97,78,87,93,94,78,50,87,99,99,99,68,76,96,99,99,\n",
    "      85,99,62,88,97,93,81,97,90,100,99,93,99,99,99]"
   ]
  },
  {
   "cell_type": "code",
   "execution_count": 2,
   "id": "dbbf49e4-8541-4535-be99-189a13d3adc0",
   "metadata": {},
   "outputs": [],
   "source": [
    "x = [x1,x2,x4,x9]"
   ]
  },
  {
   "cell_type": "code",
   "execution_count": 3,
   "id": "de067fd9-9101-43e9-93df-eed08b3f8e82",
   "metadata": {},
   "outputs": [
    {
     "data": {
      "text/plain": [
       "array([[ 1.        , -0.18760649, -0.86800782, -0.96225665,  0.23651214],\n",
       "       [-0.18760649,  1.        ,  0.04228917,  0.22686406,  0.05711659],\n",
       "       [-0.86800782,  0.04228917,  1.        ,  0.87225243, -0.33307673],\n",
       "       [-0.96225665,  0.22686406,  0.87225243,  1.        , -0.22741118],\n",
       "       [ 0.23651214,  0.05711659, -0.33307673, -0.22741118,  1.        ]])"
      ]
     },
     "execution_count": 3,
     "metadata": {},
     "output_type": "execute_result"
    },
    {
     "data": {
      "image/png": "[encoded data removed]",
      "text/plain": [
       "<Figure size 432x288 with 2 Axes>"
      ]
     },
     "metadata": {
      "needs_background": "light"
     },
     "output_type": "display_data"
    }
   ],
   "source": [
    "import numpy as np\n",
    "import pandas as pd\n",
    "import matplotlib.pyplot as plt\n",
    "import seaborn as sns\n",
    "\n",
    "corr = np.corrcoef(y12,x)\n",
    "sns.heatmap(corr, annot = True)\n",
    "corr"
   ]
  },
  {
   "cell_type": "code",
   "execution_count": 4,
   "id": "e3622952-04ee-4c5f-8ddf-e737f603c07b",
   "metadata": {},
   "outputs": [
    {
     "data": {
      "text/plain": [
       "array([[14.19427055, -0.20118505,  1.5597109 , 12.33914875, -0.02006248],\n",
       "       [-0.20118505,  1.1837625 ,  0.73006001, -1.10536252, -0.02823557],\n",
       "       [ 1.5597109 ,  0.73006001,  5.19515288, -3.05407476,  0.62526467],\n",
       "       [12.33914875, -1.10536252, -3.05407476, 15.72047482, -0.29745339],\n",
       "       [-0.02006248, -0.02823557,  0.62526467, -0.29745339,  1.14697462]])"
      ]
     },
     "execution_count": 4,
     "metadata": {},
     "output_type": "execute_result"
    }
   ],
   "source": [
    "Z = np.linalg.inv(corr)\n",
    "Z"
   ]
  },
  {
   "cell_type": "code",
   "execution_count": 5,
   "id": "ea100993-6eba-4103-826a-e0cd7b549ed0",
   "metadata": {},
   "outputs": [
    {
     "data": {
      "text/plain": [
       "[0.049080261446809006,\n",
       " -0.18163034267806877,\n",
       " -0.8260300197006242,\n",
       " 0.004972229726735441]"
      ]
     },
     "execution_count": 5,
     "metadata": {},
     "output_type": "execute_result"
    }
   ],
   "source": [
    "import math\n",
    "r = []\n",
    "for i in range(4):\n",
    "    r.append(-Z[0][i+1]/math.sqrt(Z[0][0]*Z[i+1][i+1]))\n",
    "r"
   ]
  },
  {
   "cell_type": "code",
   "execution_count": 6,
   "id": "57054932-45cb-4391-a3c1-0a14bec36a37",
   "metadata": {},
   "outputs": [
    {
     "data": {
      "text/plain": [
       "[0.3368833192322782,\n",
       " 1.2662566952438927,\n",
       " 10.047398928675587,\n",
       " 0.03408831098677219]"
      ]
     },
     "execution_count": 6,
     "metadata": {},
     "output_type": "execute_result"
    }
   ],
   "source": [
    "t = []\n",
    "for i in range(4):\n",
    "    t.append(abs(r[i])*math.sqrt(47/(1-r[i]**2)))\n",
    "t"
   ]
  },
  {
   "cell_type": "markdown",
   "id": "bee38676-ba1b-4483-8a44-12f34c02700c",
   "metadata": {},
   "source": [
    "r_y12_x1 = -0.18760649\n",
    "\n",
    "r_y12_x2 = -0.86800782\n",
    "\n",
    "r_y12_x4 = -0.96225665\n",
    "\n",
    "r_y12_x9 = 0.23651214"
   ]
  },
  {
   "cell_type": "markdown",
   "id": "db228e1c-665b-4d2a-b679-4646a7dc131a",
   "metadata": {},
   "source": [
    "R = det(corr) = 0.012448144530791379"
   ]
  },
  {
   "cell_type": "code",
   "execution_count": 7,
   "id": "f60168de-ebda-46a9-b676-4967281d5335",
   "metadata": {},
   "outputs": [
    {
     "data": {
      "text/plain": [
       "0.012448144530791379"
      ]
     },
     "execution_count": 7,
     "metadata": {},
     "output_type": "execute_result"
    }
   ],
   "source": [
    "R = np.linalg.det(corr)\n",
    "R"
   ]
  },
  {
   "cell_type": "code",
   "execution_count": 10,
   "id": "4a90325b-826d-48bd-a0ec-777eb0464cec",
   "metadata": {},
   "outputs": [
    {
     "data": {
      "text/plain": [
       "0.9851911817523509"
      ]
     },
     "execution_count": 10,
     "metadata": {},
     "output_type": "execute_result"
    }
   ],
   "source": [
    "R0 = 0.84059\n",
    "Ryx2 = 1-R/R0\n",
    "Ryx2"
   ]
  },
  {
   "cell_type": "code",
   "execution_count": 9,
   "id": "9f6d4adc-de75-4137-b8cd-d6fab055d2a5",
   "metadata": {},
   "outputs": [
    {
     "ename": "SyntaxError",
     "evalue": "invalid syntax (248177317.py, line 1)",
     "output_type": "error",
     "traceback": [
      "\u001b[0;36m  File \u001b[0;32m\"/var/folders/lv/4fp0098j7k584clypdt03q0r0000gn/T/ipykernel_21578/248177317.py\"\u001b[0;36m, line \u001b[0;32m1\u001b[0m\n\u001b[0;31m    Ryx =\u001b[0m\n\u001b[0m          ^\u001b[0m\n\u001b[0;31mSyntaxError\u001b[0m\u001b[0;31m:\u001b[0m invalid syntax\n"
     ]
    }
   ],
   "source": [
    "Ryx = "
   ]
  }
 ],
 "metadata": {
  "kernelspec": {
   "display_name": "Python 3 (ipykernel)",
   "language": "python",
   "name": "python3"
  },
  "language_info": {
   "codemirror_mode": {
    "name": "ipython",
    "version": 3
   },
   "file_extension": ".py",
   "mimetype": "text/x-python",
   "name": "python",
   "nbconvert_exporter": "python",
   "pygments_lexer": "ipython3",
   "version": "3.8.0"
  }
 },
 "nbformat": 4,
 "nbformat_minor": 5
}
