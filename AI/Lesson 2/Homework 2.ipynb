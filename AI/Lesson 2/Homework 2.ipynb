{
 "cells": [
  {
   "cell_type": "markdown",
   "id": "22cebb65-c61d-4a9d-818a-1d56e761fde3",
   "metadata": {},
   "source": [
    "Home Work 2 (KNN)\n",
    "Task 4"
   ]
  },
  {
   "cell_type": "markdown",
   "id": "13c11571-33ab-4e10-9d36-3394b1c66ce9",
   "metadata": {},
   "source": [
    "    1) Методы ближайших соседей"
   ]
  },
  {
   "cell_type": "markdown",
   "id": "db7f50fa-de98-41cf-9107-9a5ada20e4c6",
   "metadata": {},
   "source": [
    "    1.1. Подключитесь к одному из наборов данных на Kaggle: Online News Popularity. Разберитесь в том, как устроен ваш датасет и какова постановка задачи."
   ]
  },
  {
   "cell_type": "code",
   "execution_count": 1,
   "id": "7e5c6491-9a58-4e0a-93fe-252d261b3a78",
   "metadata": {},
   "outputs": [],
   "source": [
    "import pandas as pd\n",
    "import matplotlib.pyplot as plt\n",
    "import seaborn as sns\n",
    "sns.set(rc={'figure.figsize':(11.7,8.27)})"
   ]
  },
  {
   "cell_type": "code",
   "execution_count": 2,
   "id": "06be6a5b-5731-4518-b1e0-4a2f720e0ace",
   "metadata": {},
   "outputs": [
    {
     "data": {
      "text/html": [
       "<div>\n",
       "<style scoped>\n",
       "    .dataframe tbody tr th:only-of-type {\n",
       "        vertical-align: middle;\n",
       "    }\n",
       "\n",
       "    .dataframe tbody tr th {\n",
       "        vertical-align: top;\n",
       "    }\n",
       "\n",
       "    .dataframe thead th {\n",
       "        text-align: right;\n",
       "    }\n",
       "</style>\n",
       "<table border=\"1\" class=\"dataframe\">\n",
       "  <thead>\n",
       "    <tr style=\"text-align: right;\">\n",
       "      <th></th>\n",
       "      <th>url</th>\n",
       "      <th>timedelta</th>\n",
       "      <th>n_tokens_title</th>\n",
       "      <th>n_tokens_content</th>\n",
       "      <th>n_unique_tokens</th>\n",
       "      <th>n_non_stop_words</th>\n",
       "      <th>n_non_stop_unique_tokens</th>\n",
       "      <th>num_hrefs</th>\n",
       "      <th>num_self_hrefs</th>\n",
       "      <th>num_imgs</th>\n",
       "      <th>...</th>\n",
       "      <th>min_positive_polarity</th>\n",
       "      <th>max_positive_polarity</th>\n",
       "      <th>avg_negative_polarity</th>\n",
       "      <th>min_negative_polarity</th>\n",
       "      <th>max_negative_polarity</th>\n",
       "      <th>title_subjectivity</th>\n",
       "      <th>title_sentiment_polarity</th>\n",
       "      <th>abs_title_subjectivity</th>\n",
       "      <th>abs_title_sentiment_polarity</th>\n",
       "      <th>shares</th>\n",
       "    </tr>\n",
       "  </thead>\n",
       "  <tbody>\n",
       "    <tr>\n",
       "      <th>0</th>\n",
       "      <td>http://mashable.com/2014/09/28/jobs-tech-workers/</td>\n",
       "      <td>101</td>\n",
       "      <td>12</td>\n",
       "      <td>332</td>\n",
       "      <td>0.528481</td>\n",
       "      <td>1.0</td>\n",
       "      <td>0.645833</td>\n",
       "      <td>6</td>\n",
       "      <td>3</td>\n",
       "      <td>1</td>\n",
       "      <td>...</td>\n",
       "      <td>0.100000</td>\n",
       "      <td>0.7</td>\n",
       "      <td>-0.145833</td>\n",
       "      <td>-0.166667</td>\n",
       "      <td>-0.125000</td>\n",
       "      <td>0.718182</td>\n",
       "      <td>0.137121</td>\n",
       "      <td>0.218182</td>\n",
       "      <td>0.137121</td>\n",
       "      <td>8600</td>\n",
       "    </tr>\n",
       "    <tr>\n",
       "      <th>1</th>\n",
       "      <td>http://mashable.com/2014/09/28/obama-says-u-s-...</td>\n",
       "      <td>101</td>\n",
       "      <td>10</td>\n",
       "      <td>393</td>\n",
       "      <td>0.518817</td>\n",
       "      <td>1.0</td>\n",
       "      <td>0.596899</td>\n",
       "      <td>14</td>\n",
       "      <td>1</td>\n",
       "      <td>1</td>\n",
       "      <td>...</td>\n",
       "      <td>0.250000</td>\n",
       "      <td>0.8</td>\n",
       "      <td>-0.312500</td>\n",
       "      <td>-0.500000</td>\n",
       "      <td>-0.250000</td>\n",
       "      <td>0.500000</td>\n",
       "      <td>0.000000</td>\n",
       "      <td>0.000000</td>\n",
       "      <td>0.000000</td>\n",
       "      <td>23700</td>\n",
       "    </tr>\n",
       "    <tr>\n",
       "      <th>2</th>\n",
       "      <td>http://mashable.com/2014/09/28/once-upon-a-tim...</td>\n",
       "      <td>101</td>\n",
       "      <td>13</td>\n",
       "      <td>1643</td>\n",
       "      <td>0.388854</td>\n",
       "      <td>1.0</td>\n",
       "      <td>0.546967</td>\n",
       "      <td>29</td>\n",
       "      <td>4</td>\n",
       "      <td>7</td>\n",
       "      <td>...</td>\n",
       "      <td>0.033333</td>\n",
       "      <td>0.8</td>\n",
       "      <td>-0.227778</td>\n",
       "      <td>-0.800000</td>\n",
       "      <td>-0.050000</td>\n",
       "      <td>0.000000</td>\n",
       "      <td>0.000000</td>\n",
       "      <td>0.500000</td>\n",
       "      <td>0.000000</td>\n",
       "      <td>8400</td>\n",
       "    </tr>\n",
       "    <tr>\n",
       "      <th>3</th>\n",
       "      <td>http://mashable.com/2014/09/28/the-simpsons-de...</td>\n",
       "      <td>101</td>\n",
       "      <td>9</td>\n",
       "      <td>272</td>\n",
       "      <td>0.488889</td>\n",
       "      <td>1.0</td>\n",
       "      <td>0.512690</td>\n",
       "      <td>2</td>\n",
       "      <td>2</td>\n",
       "      <td>11</td>\n",
       "      <td>...</td>\n",
       "      <td>0.100000</td>\n",
       "      <td>1.0</td>\n",
       "      <td>-0.416667</td>\n",
       "      <td>-1.000000</td>\n",
       "      <td>-0.166667</td>\n",
       "      <td>0.000000</td>\n",
       "      <td>0.000000</td>\n",
       "      <td>0.500000</td>\n",
       "      <td>0.000000</td>\n",
       "      <td>4800</td>\n",
       "    </tr>\n",
       "    <tr>\n",
       "      <th>4</th>\n",
       "      <td>http://mashable.com/2014/09/28/viola-davis-les...</td>\n",
       "      <td>101</td>\n",
       "      <td>12</td>\n",
       "      <td>0</td>\n",
       "      <td>0.000000</td>\n",
       "      <td>0.0</td>\n",
       "      <td>0.000000</td>\n",
       "      <td>0</td>\n",
       "      <td>0</td>\n",
       "      <td>0</td>\n",
       "      <td>...</td>\n",
       "      <td>0.000000</td>\n",
       "      <td>0.0</td>\n",
       "      <td>0.000000</td>\n",
       "      <td>0.000000</td>\n",
       "      <td>0.000000</td>\n",
       "      <td>0.541071</td>\n",
       "      <td>0.067560</td>\n",
       "      <td>0.041071</td>\n",
       "      <td>0.067560</td>\n",
       "      <td>3100</td>\n",
       "    </tr>\n",
       "  </tbody>\n",
       "</table>\n",
       "<p>5 rows × 61 columns</p>\n",
       "</div>"
      ],
      "text/plain": [
       "                                                 url  timedelta  \\\n",
       "0  http://mashable.com/2014/09/28/jobs-tech-workers/        101   \n",
       "1  http://mashable.com/2014/09/28/obama-says-u-s-...        101   \n",
       "2  http://mashable.com/2014/09/28/once-upon-a-tim...        101   \n",
       "3  http://mashable.com/2014/09/28/the-simpsons-de...        101   \n",
       "4  http://mashable.com/2014/09/28/viola-davis-les...        101   \n",
       "\n",
       "   n_tokens_title  n_tokens_content  n_unique_tokens  n_non_stop_words  \\\n",
       "0              12               332         0.528481               1.0   \n",
       "1              10               393         0.518817               1.0   \n",
       "2              13              1643         0.388854               1.0   \n",
       "3               9               272         0.488889               1.0   \n",
       "4              12                 0         0.000000               0.0   \n",
       "\n",
       "   n_non_stop_unique_tokens  num_hrefs  num_self_hrefs  num_imgs  ...  \\\n",
       "0                  0.645833          6               3         1  ...   \n",
       "1                  0.596899         14               1         1  ...   \n",
       "2                  0.546967         29               4         7  ...   \n",
       "3                  0.512690          2               2        11  ...   \n",
       "4                  0.000000          0               0         0  ...   \n",
       "\n",
       "   min_positive_polarity  max_positive_polarity  avg_negative_polarity  \\\n",
       "0               0.100000                    0.7              -0.145833   \n",
       "1               0.250000                    0.8              -0.312500   \n",
       "2               0.033333                    0.8              -0.227778   \n",
       "3               0.100000                    1.0              -0.416667   \n",
       "4               0.000000                    0.0               0.000000   \n",
       "\n",
       "   min_negative_polarity  max_negative_polarity  title_subjectivity  \\\n",
       "0              -0.166667              -0.125000            0.718182   \n",
       "1              -0.500000              -0.250000            0.500000   \n",
       "2              -0.800000              -0.050000            0.000000   \n",
       "3              -1.000000              -0.166667            0.000000   \n",
       "4               0.000000               0.000000            0.541071   \n",
       "\n",
       "   title_sentiment_polarity  abs_title_subjectivity  \\\n",
       "0                  0.137121                0.218182   \n",
       "1                  0.000000                0.000000   \n",
       "2                  0.000000                0.500000   \n",
       "3                  0.000000                0.500000   \n",
       "4                  0.067560                0.041071   \n",
       "\n",
       "   abs_title_sentiment_polarity  shares  \n",
       "0                      0.137121    8600  \n",
       "1                      0.000000   23700  \n",
       "2                      0.000000    8400  \n",
       "3                      0.000000    4800  \n",
       "4                      0.067560    3100  \n",
       "\n",
       "[5 rows x 61 columns]"
      ]
     },
     "execution_count": 2,
     "metadata": {},
     "output_type": "execute_result"
    }
   ],
   "source": [
    "df = pd.read_csv('OnlineNewsPopularityReduced.csv', sep =',')\n",
    "df.head()"
   ]
  },
  {
   "cell_type": "code",
   "execution_count": 3,
   "id": "d3a4fbb5-902d-45fe-9079-a3bd53c0133b",
   "metadata": {},
   "outputs": [
    {
     "name": "stdout",
     "output_type": "stream",
     "text": [
      "<class 'pandas.core.frame.DataFrame'>\n",
      "RangeIndex: 4954 entries, 0 to 4953\n",
      "Data columns (total 61 columns):\n",
      " #   Column                         Non-Null Count  Dtype  \n",
      "---  ------                         --------------  -----  \n",
      " 0   url                            4954 non-null   object \n",
      " 1   timedelta                      4954 non-null   int64  \n",
      " 2   n_tokens_title                 4954 non-null   int64  \n",
      " 3   n_tokens_content               4954 non-null   int64  \n",
      " 4   n_unique_tokens                4954 non-null   float64\n",
      " 5   n_non_stop_words               4954 non-null   float64\n",
      " 6   n_non_stop_unique_tokens       4954 non-null   float64\n",
      " 7   num_hrefs                      4954 non-null   int64  \n",
      " 8   num_self_hrefs                 4954 non-null   int64  \n",
      " 9   num_imgs                       4954 non-null   int64  \n",
      " 10  num_videos                     4954 non-null   int64  \n",
      " 11  average_token_length           4954 non-null   float64\n",
      " 12  num_keywords                   4954 non-null   int64  \n",
      " 13  data_channel_is_lifestyle      4954 non-null   int64  \n",
      " 14  data_channel_is_entertainment  4954 non-null   int64  \n",
      " 15  data_channel_is_bus            4954 non-null   int64  \n",
      " 16  data_channel_is_socmed         4954 non-null   int64  \n",
      " 17  data_channel_is_tech           4954 non-null   int64  \n",
      " 18  data_channel_is_world          4954 non-null   int64  \n",
      " 19  kw_min_min                     4954 non-null   int64  \n",
      " 20  kw_max_min                     4954 non-null   float64\n",
      " 21  kw_avg_min                     4954 non-null   float64\n",
      " 22  kw_min_max                     4954 non-null   int64  \n",
      " 23  kw_max_max                     4954 non-null   int64  \n",
      " 24  kw_avg_max                     4954 non-null   float64\n",
      " 25  kw_min_avg                     4954 non-null   float64\n",
      " 26  kw_max_avg                     4954 non-null   float64\n",
      " 27  kw_avg_avg                     4954 non-null   float64\n",
      " 28  self_reference_min_shares      4954 non-null   float64\n",
      " 29  self_reference_max_shares      4954 non-null   int64  \n",
      " 30  self_reference_avg_sharess     4954 non-null   float64\n",
      " 31  weekday_is_monday              4954 non-null   int64  \n",
      " 32  weekday_is_tuesday             4954 non-null   int64  \n",
      " 33  weekday_is_wednesday           4954 non-null   int64  \n",
      " 34  weekday_is_thursday            4954 non-null   int64  \n",
      " 35  weekday_is_friday              4954 non-null   int64  \n",
      " 36  weekday_is_saturday            4954 non-null   int64  \n",
      " 37  weekday_is_sunday              4954 non-null   int64  \n",
      " 38  is_weekend                     4954 non-null   int64  \n",
      " 39  LDA_00                         4954 non-null   float64\n",
      " 40  LDA_01                         4954 non-null   float64\n",
      " 41  LDA_02                         4954 non-null   float64\n",
      " 42  LDA_03                         4954 non-null   float64\n",
      " 43  LDA_04                         4954 non-null   float64\n",
      " 44  global_subjectivity            4954 non-null   float64\n",
      " 45  global_sentiment_polarity      4954 non-null   float64\n",
      " 46  global_rate_positive_words     4954 non-null   float64\n",
      " 47  global_rate_negative_words     4954 non-null   float64\n",
      " 48  rate_positive_words            4954 non-null   float64\n",
      " 49  rate_negative_words            4954 non-null   float64\n",
      " 50  avg_positive_polarity          4954 non-null   float64\n",
      " 51  min_positive_polarity          4954 non-null   float64\n",
      " 52  max_positive_polarity          4954 non-null   float64\n",
      " 53  avg_negative_polarity          4954 non-null   float64\n",
      " 54  min_negative_polarity          4954 non-null   float64\n",
      " 55  max_negative_polarity          4954 non-null   float64\n",
      " 56  title_subjectivity             4954 non-null   float64\n",
      " 57  title_sentiment_polarity       4954 non-null   float64\n",
      " 58  abs_title_subjectivity         4954 non-null   float64\n",
      " 59  abs_title_sentiment_polarity   4954 non-null   float64\n",
      " 60  shares                         4954 non-null   int64  \n",
      "dtypes: float64(33), int64(27), object(1)\n",
      "memory usage: 2.3+ MB\n"
     ]
    }
   ],
   "source": [
    "df.info()"
   ]
  },
  {
   "cell_type": "code",
   "execution_count": 4,
   "id": "c12c6f5f-979c-4009-bb41-cd0c7ca76c73",
   "metadata": {},
   "outputs": [
    {
     "data": {
      "text/html": [
       "<div>\n",
       "<style scoped>\n",
       "    .dataframe tbody tr th:only-of-type {\n",
       "        vertical-align: middle;\n",
       "    }\n",
       "\n",
       "    .dataframe tbody tr th {\n",
       "        vertical-align: top;\n",
       "    }\n",
       "\n",
       "    .dataframe thead th {\n",
       "        text-align: right;\n",
       "    }\n",
       "</style>\n",
       "<table border=\"1\" class=\"dataframe\">\n",
       "  <thead>\n",
       "    <tr style=\"text-align: right;\">\n",
       "      <th></th>\n",
       "      <th>url</th>\n",
       "      <th>timedelta</th>\n",
       "      <th>n_tokens_title</th>\n",
       "      <th>n_tokens_content</th>\n",
       "      <th>n_unique_tokens</th>\n",
       "      <th>n_non_stop_words</th>\n",
       "      <th>n_non_stop_unique_tokens</th>\n",
       "      <th>num_hrefs</th>\n",
       "      <th>num_self_hrefs</th>\n",
       "      <th>num_imgs</th>\n",
       "      <th>...</th>\n",
       "      <th>min_positive_polarity</th>\n",
       "      <th>max_positive_polarity</th>\n",
       "      <th>avg_negative_polarity</th>\n",
       "      <th>min_negative_polarity</th>\n",
       "      <th>max_negative_polarity</th>\n",
       "      <th>title_subjectivity</th>\n",
       "      <th>title_sentiment_polarity</th>\n",
       "      <th>abs_title_subjectivity</th>\n",
       "      <th>abs_title_sentiment_polarity</th>\n",
       "      <th>shares</th>\n",
       "    </tr>\n",
       "  </thead>\n",
       "  <tbody>\n",
       "    <tr>\n",
       "      <th>count</th>\n",
       "      <td>4954</td>\n",
       "      <td>4954.000000</td>\n",
       "      <td>4954.000000</td>\n",
       "      <td>4954.000000</td>\n",
       "      <td>4954.000000</td>\n",
       "      <td>4954.000000</td>\n",
       "      <td>4954.000000</td>\n",
       "      <td>4954.000000</td>\n",
       "      <td>4954.000000</td>\n",
       "      <td>4954.000000</td>\n",
       "      <td>...</td>\n",
       "      <td>4954.000000</td>\n",
       "      <td>4954.000000</td>\n",
       "      <td>4954.000000</td>\n",
       "      <td>4954.000000</td>\n",
       "      <td>4954.000000</td>\n",
       "      <td>4954.000000</td>\n",
       "      <td>4954.000000</td>\n",
       "      <td>4954.000000</td>\n",
       "      <td>4954.000000</td>\n",
       "      <td>4954.000000</td>\n",
       "    </tr>\n",
       "    <tr>\n",
       "      <th>unique</th>\n",
       "      <td>4954</td>\n",
       "      <td>NaN</td>\n",
       "      <td>NaN</td>\n",
       "      <td>NaN</td>\n",
       "      <td>NaN</td>\n",
       "      <td>NaN</td>\n",
       "      <td>NaN</td>\n",
       "      <td>NaN</td>\n",
       "      <td>NaN</td>\n",
       "      <td>NaN</td>\n",
       "      <td>...</td>\n",
       "      <td>NaN</td>\n",
       "      <td>NaN</td>\n",
       "      <td>NaN</td>\n",
       "      <td>NaN</td>\n",
       "      <td>NaN</td>\n",
       "      <td>NaN</td>\n",
       "      <td>NaN</td>\n",
       "      <td>NaN</td>\n",
       "      <td>NaN</td>\n",
       "      <td>NaN</td>\n",
       "    </tr>\n",
       "    <tr>\n",
       "      <th>top</th>\n",
       "      <td>http://mashable.com/2014/09/28/jobs-tech-workers/</td>\n",
       "      <td>NaN</td>\n",
       "      <td>NaN</td>\n",
       "      <td>NaN</td>\n",
       "      <td>NaN</td>\n",
       "      <td>NaN</td>\n",
       "      <td>NaN</td>\n",
       "      <td>NaN</td>\n",
       "      <td>NaN</td>\n",
       "      <td>NaN</td>\n",
       "      <td>...</td>\n",
       "      <td>NaN</td>\n",
       "      <td>NaN</td>\n",
       "      <td>NaN</td>\n",
       "      <td>NaN</td>\n",
       "      <td>NaN</td>\n",
       "      <td>NaN</td>\n",
       "      <td>NaN</td>\n",
       "      <td>NaN</td>\n",
       "      <td>NaN</td>\n",
       "      <td>NaN</td>\n",
       "    </tr>\n",
       "    <tr>\n",
       "      <th>freq</th>\n",
       "      <td>1</td>\n",
       "      <td>NaN</td>\n",
       "      <td>NaN</td>\n",
       "      <td>NaN</td>\n",
       "      <td>NaN</td>\n",
       "      <td>NaN</td>\n",
       "      <td>NaN</td>\n",
       "      <td>NaN</td>\n",
       "      <td>NaN</td>\n",
       "      <td>NaN</td>\n",
       "      <td>...</td>\n",
       "      <td>NaN</td>\n",
       "      <td>NaN</td>\n",
       "      <td>NaN</td>\n",
       "      <td>NaN</td>\n",
       "      <td>NaN</td>\n",
       "      <td>NaN</td>\n",
       "      <td>NaN</td>\n",
       "      <td>NaN</td>\n",
       "      <td>NaN</td>\n",
       "      <td>NaN</td>\n",
       "    </tr>\n",
       "    <tr>\n",
       "      <th>mean</th>\n",
       "      <td>NaN</td>\n",
       "      <td>49.628381</td>\n",
       "      <td>11.201857</td>\n",
       "      <td>550.405733</td>\n",
       "      <td>0.478429</td>\n",
       "      <td>0.901494</td>\n",
       "      <td>0.616601</td>\n",
       "      <td>10.355874</td>\n",
       "      <td>2.677634</td>\n",
       "      <td>3.572467</td>\n",
       "      <td>...</td>\n",
       "      <td>0.086668</td>\n",
       "      <td>0.696986</td>\n",
       "      <td>-0.251748</td>\n",
       "      <td>-0.527945</td>\n",
       "      <td>-0.097392</td>\n",
       "      <td>0.295246</td>\n",
       "      <td>0.062419</td>\n",
       "      <td>0.338684</td>\n",
       "      <td>0.160434</td>\n",
       "      <td>3340.911183</td>\n",
       "    </tr>\n",
       "    <tr>\n",
       "      <th>std</th>\n",
       "      <td>NaN</td>\n",
       "      <td>22.589941</td>\n",
       "      <td>2.182106</td>\n",
       "      <td>457.900604</td>\n",
       "      <td>0.180073</td>\n",
       "      <td>0.298028</td>\n",
       "      <td>0.220690</td>\n",
       "      <td>12.529856</td>\n",
       "      <td>3.402775</td>\n",
       "      <td>5.979075</td>\n",
       "      <td>...</td>\n",
       "      <td>0.069650</td>\n",
       "      <td>0.305969</td>\n",
       "      <td>0.140502</td>\n",
       "      <td>0.317784</td>\n",
       "      <td>0.095186</td>\n",
       "      <td>0.328431</td>\n",
       "      <td>0.272434</td>\n",
       "      <td>0.187267</td>\n",
       "      <td>0.228852</td>\n",
       "      <td>9182.718830</td>\n",
       "    </tr>\n",
       "    <tr>\n",
       "      <th>min</th>\n",
       "      <td>NaN</td>\n",
       "      <td>8.000000</td>\n",
       "      <td>3.000000</td>\n",
       "      <td>0.000000</td>\n",
       "      <td>0.000000</td>\n",
       "      <td>0.000000</td>\n",
       "      <td>0.000000</td>\n",
       "      <td>0.000000</td>\n",
       "      <td>0.000000</td>\n",
       "      <td>0.000000</td>\n",
       "      <td>...</td>\n",
       "      <td>0.000000</td>\n",
       "      <td>0.000000</td>\n",
       "      <td>-1.000000</td>\n",
       "      <td>-1.000000</td>\n",
       "      <td>-1.000000</td>\n",
       "      <td>0.000000</td>\n",
       "      <td>-1.000000</td>\n",
       "      <td>0.000000</td>\n",
       "      <td>0.000000</td>\n",
       "      <td>5.000000</td>\n",
       "    </tr>\n",
       "    <tr>\n",
       "      <th>25%</th>\n",
       "      <td>NaN</td>\n",
       "      <td>30.000000</td>\n",
       "      <td>10.000000</td>\n",
       "      <td>256.000000</td>\n",
       "      <td>0.445631</td>\n",
       "      <td>1.000000</td>\n",
       "      <td>0.608315</td>\n",
       "      <td>3.000000</td>\n",
       "      <td>1.000000</td>\n",
       "      <td>1.000000</td>\n",
       "      <td>...</td>\n",
       "      <td>0.050000</td>\n",
       "      <td>0.500000</td>\n",
       "      <td>-0.331006</td>\n",
       "      <td>-0.800000</td>\n",
       "      <td>-0.125000</td>\n",
       "      <td>0.000000</td>\n",
       "      <td>0.000000</td>\n",
       "      <td>0.166667</td>\n",
       "      <td>0.000000</td>\n",
       "      <td>945.250000</td>\n",
       "    </tr>\n",
       "    <tr>\n",
       "      <th>50%</th>\n",
       "      <td>NaN</td>\n",
       "      <td>50.000000</td>\n",
       "      <td>11.000000</td>\n",
       "      <td>436.000000</td>\n",
       "      <td>0.515556</td>\n",
       "      <td>1.000000</td>\n",
       "      <td>0.671141</td>\n",
       "      <td>7.000000</td>\n",
       "      <td>2.000000</td>\n",
       "      <td>1.000000</td>\n",
       "      <td>...</td>\n",
       "      <td>0.100000</td>\n",
       "      <td>0.800000</td>\n",
       "      <td>-0.251427</td>\n",
       "      <td>-0.500000</td>\n",
       "      <td>-0.100000</td>\n",
       "      <td>0.200000</td>\n",
       "      <td>0.000000</td>\n",
       "      <td>0.500000</td>\n",
       "      <td>0.037500</td>\n",
       "      <td>1400.000000</td>\n",
       "    </tr>\n",
       "    <tr>\n",
       "      <th>75%</th>\n",
       "      <td>NaN</td>\n",
       "      <td>68.000000</td>\n",
       "      <td>13.000000</td>\n",
       "      <td>753.750000</td>\n",
       "      <td>0.579986</td>\n",
       "      <td>1.000000</td>\n",
       "      <td>0.731024</td>\n",
       "      <td>13.000000</td>\n",
       "      <td>3.000000</td>\n",
       "      <td>3.000000</td>\n",
       "      <td>...</td>\n",
       "      <td>0.100000</td>\n",
       "      <td>1.000000</td>\n",
       "      <td>-0.178616</td>\n",
       "      <td>-0.300000</td>\n",
       "      <td>-0.050000</td>\n",
       "      <td>0.500000</td>\n",
       "      <td>0.136364</td>\n",
       "      <td>0.500000</td>\n",
       "      <td>0.250000</td>\n",
       "      <td>2700.000000</td>\n",
       "    </tr>\n",
       "    <tr>\n",
       "      <th>max</th>\n",
       "      <td>NaN</td>\n",
       "      <td>101.000000</td>\n",
       "      <td>23.000000</td>\n",
       "      <td>6159.000000</td>\n",
       "      <td>1.000000</td>\n",
       "      <td>1.000000</td>\n",
       "      <td>1.000000</td>\n",
       "      <td>304.000000</td>\n",
       "      <td>65.000000</td>\n",
       "      <td>77.000000</td>\n",
       "      <td>...</td>\n",
       "      <td>1.000000</td>\n",
       "      <td>1.000000</td>\n",
       "      <td>0.000000</td>\n",
       "      <td>0.000000</td>\n",
       "      <td>0.000000</td>\n",
       "      <td>1.000000</td>\n",
       "      <td>1.000000</td>\n",
       "      <td>0.500000</td>\n",
       "      <td>1.000000</td>\n",
       "      <td>284700.000000</td>\n",
       "    </tr>\n",
       "  </tbody>\n",
       "</table>\n",
       "<p>11 rows × 61 columns</p>\n",
       "</div>"
      ],
      "text/plain": [
       "                                                      url    timedelta  \\\n",
       "count                                                4954  4954.000000   \n",
       "unique                                               4954          NaN   \n",
       "top     http://mashable.com/2014/09/28/jobs-tech-workers/          NaN   \n",
       "freq                                                    1          NaN   \n",
       "mean                                                  NaN    49.628381   \n",
       "std                                                   NaN    22.589941   \n",
       "min                                                   NaN     8.000000   \n",
       "25%                                                   NaN    30.000000   \n",
       "50%                                                   NaN    50.000000   \n",
       "75%                                                   NaN    68.000000   \n",
       "max                                                   NaN   101.000000   \n",
       "\n",
       "        n_tokens_title  n_tokens_content  n_unique_tokens  n_non_stop_words  \\\n",
       "count      4954.000000       4954.000000      4954.000000       4954.000000   \n",
       "unique             NaN               NaN              NaN               NaN   \n",
       "top                NaN               NaN              NaN               NaN   \n",
       "freq               NaN               NaN              NaN               NaN   \n",
       "mean         11.201857        550.405733         0.478429          0.901494   \n",
       "std           2.182106        457.900604         0.180073          0.298028   \n",
       "min           3.000000          0.000000         0.000000          0.000000   \n",
       "25%          10.000000        256.000000         0.445631          1.000000   \n",
       "50%          11.000000        436.000000         0.515556          1.000000   \n",
       "75%          13.000000        753.750000         0.579986          1.000000   \n",
       "max          23.000000       6159.000000         1.000000          1.000000   \n",
       "\n",
       "        n_non_stop_unique_tokens    num_hrefs  num_self_hrefs     num_imgs  \\\n",
       "count                4954.000000  4954.000000     4954.000000  4954.000000   \n",
       "unique                       NaN          NaN             NaN          NaN   \n",
       "top                          NaN          NaN             NaN          NaN   \n",
       "freq                         NaN          NaN             NaN          NaN   \n",
       "mean                    0.616601    10.355874        2.677634     3.572467   \n",
       "std                     0.220690    12.529856        3.402775     5.979075   \n",
       "min                     0.000000     0.000000        0.000000     0.000000   \n",
       "25%                     0.608315     3.000000        1.000000     1.000000   \n",
       "50%                     0.671141     7.000000        2.000000     1.000000   \n",
       "75%                     0.731024    13.000000        3.000000     3.000000   \n",
       "max                     1.000000   304.000000       65.000000    77.000000   \n",
       "\n",
       "        ...  min_positive_polarity  max_positive_polarity  \\\n",
       "count   ...            4954.000000            4954.000000   \n",
       "unique  ...                    NaN                    NaN   \n",
       "top     ...                    NaN                    NaN   \n",
       "freq    ...                    NaN                    NaN   \n",
       "mean    ...               0.086668               0.696986   \n",
       "std     ...               0.069650               0.305969   \n",
       "min     ...               0.000000               0.000000   \n",
       "25%     ...               0.050000               0.500000   \n",
       "50%     ...               0.100000               0.800000   \n",
       "75%     ...               0.100000               1.000000   \n",
       "max     ...               1.000000               1.000000   \n",
       "\n",
       "        avg_negative_polarity  min_negative_polarity  max_negative_polarity  \\\n",
       "count             4954.000000            4954.000000            4954.000000   \n",
       "unique                    NaN                    NaN                    NaN   \n",
       "top                       NaN                    NaN                    NaN   \n",
       "freq                      NaN                    NaN                    NaN   \n",
       "mean                -0.251748              -0.527945              -0.097392   \n",
       "std                  0.140502               0.317784               0.095186   \n",
       "min                 -1.000000              -1.000000              -1.000000   \n",
       "25%                 -0.331006              -0.800000              -0.125000   \n",
       "50%                 -0.251427              -0.500000              -0.100000   \n",
       "75%                 -0.178616              -0.300000              -0.050000   \n",
       "max                  0.000000               0.000000               0.000000   \n",
       "\n",
       "        title_subjectivity  title_sentiment_polarity  abs_title_subjectivity  \\\n",
       "count          4954.000000               4954.000000             4954.000000   \n",
       "unique                 NaN                       NaN                     NaN   \n",
       "top                    NaN                       NaN                     NaN   \n",
       "freq                   NaN                       NaN                     NaN   \n",
       "mean              0.295246                  0.062419                0.338684   \n",
       "std               0.328431                  0.272434                0.187267   \n",
       "min               0.000000                 -1.000000                0.000000   \n",
       "25%               0.000000                  0.000000                0.166667   \n",
       "50%               0.200000                  0.000000                0.500000   \n",
       "75%               0.500000                  0.136364                0.500000   \n",
       "max               1.000000                  1.000000                0.500000   \n",
       "\n",
       "        abs_title_sentiment_polarity         shares  \n",
       "count                    4954.000000    4954.000000  \n",
       "unique                           NaN            NaN  \n",
       "top                              NaN            NaN  \n",
       "freq                             NaN            NaN  \n",
       "mean                        0.160434    3340.911183  \n",
       "std                         0.228852    9182.718830  \n",
       "min                         0.000000       5.000000  \n",
       "25%                         0.000000     945.250000  \n",
       "50%                         0.037500    1400.000000  \n",
       "75%                         0.250000    2700.000000  \n",
       "max                         1.000000  284700.000000  \n",
       "\n",
       "[11 rows x 61 columns]"
      ]
     },
     "execution_count": 4,
     "metadata": {},
     "output_type": "execute_result"
    }
   ],
   "source": [
    "df.describe(include = 'all')"
   ]
  },
  {
   "cell_type": "markdown",
   "id": "56ef2fd6-fdcb-45b8-ac5c-8eb7e45c2ef3",
   "metadata": {},
   "source": [
    "Датасет имеет 61 признак. Цель - shares. Основная задача - по данным определить популярность статьи"
   ]
  },
  {
   "cell_type": "markdown",
   "id": "b113352a-32d0-4645-b20f-7630491b05dd",
   "metadata": {},
   "source": [
    "    1.2 Извлеките целевой признак (target). Какая из задач обучения с учителем рассмат ривается –– классификация или регрессия?"
   ]
  },
  {
   "cell_type": "code",
   "execution_count": 5,
   "id": "5f9eb9c1-5fda-44c0-b6d4-f78bdf8ad261",
   "metadata": {},
   "outputs": [
    {
     "data": {
      "text/plain": [
       "0        8600\n",
       "1       23700\n",
       "2        8400\n",
       "3        4800\n",
       "4        3100\n",
       "        ...  \n",
       "4949     1800\n",
       "4950     1900\n",
       "4951     1900\n",
       "4952     1100\n",
       "4953     1300\n",
       "Name: shares, Length: 4954, dtype: int64"
      ]
     },
     "execution_count": 5,
     "metadata": {},
     "output_type": "execute_result"
    }
   ],
   "source": [
    "df.shares"
   ]
  },
  {
   "cell_type": "markdown",
   "id": "fbf1e090-751e-41a6-b178-24e5faacbd7e",
   "metadata": {},
   "source": [
    "Так как унас целевой признак числовой то это задача регрессии"
   ]
  },
  {
   "cell_type": "markdown",
   "id": "2aa2244f-1b9e-40b1-9652-acd961d34132",
   "metadata": {},
   "source": [
    "    1.3 Каково распределение значений target-переменной? Постройте подходящую визуализацию. Прокомментируйте результат."
   ]
  },
  {
   "cell_type": "markdown",
   "id": "9809b004-b3f0-47b9-b6c1-47d0875d1cdc",
   "metadata": {},
   "source": [
    "Как можно увидеть, день недели, когда пользователи делятся статьей в среднем больше всего в понедельник. В среднем на понедельник приходится 4144 распростронения среди пользователей."
   ]
  },
  {
   "cell_type": "code",
   "execution_count": 6,
   "id": "36cf2d70-1616-4145-842e-fffd65fc81bf",
   "metadata": {},
   "outputs": [
    {
     "data": {
      "image/png": "[encoded data removed]",
      "text/plain": [
       "<Figure size 842.4x595.44 with 1 Axes>"
      ]
     },
     "metadata": {},
     "output_type": "display_data"
    }
   ],
   "source": [
    "sns.kdeplot(df.shares);"
   ]
  },
  {
   "cell_type": "markdown",
   "id": "f4da260f-290c-4638-a610-7fce86e07809",
   "metadata": {},
   "source": [
    "По этому графику мало что можно понять. Поэтому данные нужно нормализировать."
   ]
  },
  {
   "cell_type": "code",
   "execution_count": 7,
   "id": "410eb62a-de93-4aae-b39d-92be964d3d30",
   "metadata": {},
   "outputs": [
    {
     "name": "stdout",
     "output_type": "stream",
     "text": [
      "972.9481369867426\n",
      "5.333305534977436e-212\n"
     ]
    }
   ],
   "source": [
    "from scipy.stats import normaltest\n",
    "import numpy as np\n",
    "\n",
    "df['shares_log'] = np.log(df.shares)\n",
    "stat, p = normaltest(df.shares_log)\n",
    "df = df.drop(columns = ['shares'])\n",
    "print(stat)\n",
    "print(p)"
   ]
  },
  {
   "cell_type": "markdown",
   "id": "f9663a0c-802d-4431-8dfc-e7df0edff7d7",
   "metadata": {},
   "source": [
    "Значение p-value меньше порогового (0.05), что свидетельствует о том, что нулевая гиптеза будет опровергнута. Что означает, распределение логарифмов не будет нормальным, а распределение целевой функции - логонормальным.\n",
    "\n",
    "Следовательно, распределение target'а будет гамма-распределением, по моему мнению."
   ]
  },
  {
   "cell_type": "markdown",
   "id": "c261342b-ea46-4935-9658-e3397bd3ef8b",
   "metadata": {},
   "source": [
    "    1.4 Проведите необходимую предобработку данных (preprocessing). Для построения моделей с помощью метрических методов все признаки должны быть закодированы числами."
   ]
  },
  {
   "cell_type": "code",
   "execution_count": 8,
   "id": "c1fdac04-a09b-4719-8ae9-7927e31969fc",
   "metadata": {},
   "outputs": [
    {
     "data": {
      "text/html": [
       "<div>\n",
       "<style scoped>\n",
       "    .dataframe tbody tr th:only-of-type {\n",
       "        vertical-align: middle;\n",
       "    }\n",
       "\n",
       "    .dataframe tbody tr th {\n",
       "        vertical-align: top;\n",
       "    }\n",
       "\n",
       "    .dataframe thead th {\n",
       "        text-align: right;\n",
       "    }\n",
       "</style>\n",
       "<table border=\"1\" class=\"dataframe\">\n",
       "  <thead>\n",
       "    <tr style=\"text-align: right;\">\n",
       "      <th></th>\n",
       "      <th>timedelta</th>\n",
       "      <th>n_tokens_title</th>\n",
       "      <th>n_tokens_content</th>\n",
       "      <th>n_unique_tokens</th>\n",
       "      <th>n_non_stop_words</th>\n",
       "      <th>n_non_stop_unique_tokens</th>\n",
       "      <th>num_hrefs</th>\n",
       "      <th>num_self_hrefs</th>\n",
       "      <th>num_imgs</th>\n",
       "      <th>num_videos</th>\n",
       "      <th>...</th>\n",
       "      <th>min_positive_polarity</th>\n",
       "      <th>max_positive_polarity</th>\n",
       "      <th>avg_negative_polarity</th>\n",
       "      <th>min_negative_polarity</th>\n",
       "      <th>max_negative_polarity</th>\n",
       "      <th>title_subjectivity</th>\n",
       "      <th>title_sentiment_polarity</th>\n",
       "      <th>abs_title_subjectivity</th>\n",
       "      <th>abs_title_sentiment_polarity</th>\n",
       "      <th>shares_log</th>\n",
       "    </tr>\n",
       "  </thead>\n",
       "  <tbody>\n",
       "    <tr>\n",
       "      <th>0</th>\n",
       "      <td>101</td>\n",
       "      <td>12</td>\n",
       "      <td>332</td>\n",
       "      <td>0.528481</td>\n",
       "      <td>1.0</td>\n",
       "      <td>0.645833</td>\n",
       "      <td>6</td>\n",
       "      <td>3</td>\n",
       "      <td>1</td>\n",
       "      <td>1</td>\n",
       "      <td>...</td>\n",
       "      <td>0.100000</td>\n",
       "      <td>0.7</td>\n",
       "      <td>-0.145833</td>\n",
       "      <td>-0.166667</td>\n",
       "      <td>-0.125000</td>\n",
       "      <td>0.718182</td>\n",
       "      <td>0.137121</td>\n",
       "      <td>0.218182</td>\n",
       "      <td>0.137121</td>\n",
       "      <td>9.059517</td>\n",
       "    </tr>\n",
       "    <tr>\n",
       "      <th>1</th>\n",
       "      <td>101</td>\n",
       "      <td>10</td>\n",
       "      <td>393</td>\n",
       "      <td>0.518817</td>\n",
       "      <td>1.0</td>\n",
       "      <td>0.596899</td>\n",
       "      <td>14</td>\n",
       "      <td>1</td>\n",
       "      <td>1</td>\n",
       "      <td>0</td>\n",
       "      <td>...</td>\n",
       "      <td>0.250000</td>\n",
       "      <td>0.8</td>\n",
       "      <td>-0.312500</td>\n",
       "      <td>-0.500000</td>\n",
       "      <td>-0.250000</td>\n",
       "      <td>0.500000</td>\n",
       "      <td>0.000000</td>\n",
       "      <td>0.000000</td>\n",
       "      <td>0.000000</td>\n",
       "      <td>10.073230</td>\n",
       "    </tr>\n",
       "    <tr>\n",
       "      <th>2</th>\n",
       "      <td>101</td>\n",
       "      <td>13</td>\n",
       "      <td>1643</td>\n",
       "      <td>0.388854</td>\n",
       "      <td>1.0</td>\n",
       "      <td>0.546967</td>\n",
       "      <td>29</td>\n",
       "      <td>4</td>\n",
       "      <td>7</td>\n",
       "      <td>0</td>\n",
       "      <td>...</td>\n",
       "      <td>0.033333</td>\n",
       "      <td>0.8</td>\n",
       "      <td>-0.227778</td>\n",
       "      <td>-0.800000</td>\n",
       "      <td>-0.050000</td>\n",
       "      <td>0.000000</td>\n",
       "      <td>0.000000</td>\n",
       "      <td>0.500000</td>\n",
       "      <td>0.000000</td>\n",
       "      <td>9.035987</td>\n",
       "    </tr>\n",
       "    <tr>\n",
       "      <th>3</th>\n",
       "      <td>101</td>\n",
       "      <td>9</td>\n",
       "      <td>272</td>\n",
       "      <td>0.488889</td>\n",
       "      <td>1.0</td>\n",
       "      <td>0.512690</td>\n",
       "      <td>2</td>\n",
       "      <td>2</td>\n",
       "      <td>11</td>\n",
       "      <td>0</td>\n",
       "      <td>...</td>\n",
       "      <td>0.100000</td>\n",
       "      <td>1.0</td>\n",
       "      <td>-0.416667</td>\n",
       "      <td>-1.000000</td>\n",
       "      <td>-0.166667</td>\n",
       "      <td>0.000000</td>\n",
       "      <td>0.000000</td>\n",
       "      <td>0.500000</td>\n",
       "      <td>0.000000</td>\n",
       "      <td>8.476371</td>\n",
       "    </tr>\n",
       "    <tr>\n",
       "      <th>4</th>\n",
       "      <td>101</td>\n",
       "      <td>12</td>\n",
       "      <td>0</td>\n",
       "      <td>0.000000</td>\n",
       "      <td>0.0</td>\n",
       "      <td>0.000000</td>\n",
       "      <td>0</td>\n",
       "      <td>0</td>\n",
       "      <td>0</td>\n",
       "      <td>1</td>\n",
       "      <td>...</td>\n",
       "      <td>0.000000</td>\n",
       "      <td>0.0</td>\n",
       "      <td>0.000000</td>\n",
       "      <td>0.000000</td>\n",
       "      <td>0.000000</td>\n",
       "      <td>0.541071</td>\n",
       "      <td>0.067560</td>\n",
       "      <td>0.041071</td>\n",
       "      <td>0.067560</td>\n",
       "      <td>8.039157</td>\n",
       "    </tr>\n",
       "  </tbody>\n",
       "</table>\n",
       "<p>5 rows × 60 columns</p>\n",
       "</div>"
      ],
      "text/plain": [
       "   timedelta  n_tokens_title  n_tokens_content  n_unique_tokens  \\\n",
       "0        101              12               332         0.528481   \n",
       "1        101              10               393         0.518817   \n",
       "2        101              13              1643         0.388854   \n",
       "3        101               9               272         0.488889   \n",
       "4        101              12                 0         0.000000   \n",
       "\n",
       "   n_non_stop_words  n_non_stop_unique_tokens  num_hrefs  num_self_hrefs  \\\n",
       "0               1.0                  0.645833          6               3   \n",
       "1               1.0                  0.596899         14               1   \n",
       "2               1.0                  0.546967         29               4   \n",
       "3               1.0                  0.512690          2               2   \n",
       "4               0.0                  0.000000          0               0   \n",
       "\n",
       "   num_imgs  num_videos  ...  min_positive_polarity  max_positive_polarity  \\\n",
       "0         1           1  ...               0.100000                    0.7   \n",
       "1         1           0  ...               0.250000                    0.8   \n",
       "2         7           0  ...               0.033333                    0.8   \n",
       "3        11           0  ...               0.100000                    1.0   \n",
       "4         0           1  ...               0.000000                    0.0   \n",
       "\n",
       "   avg_negative_polarity  min_negative_polarity  max_negative_polarity  \\\n",
       "0              -0.145833              -0.166667              -0.125000   \n",
       "1              -0.312500              -0.500000              -0.250000   \n",
       "2              -0.227778              -0.800000              -0.050000   \n",
       "3              -0.416667              -1.000000              -0.166667   \n",
       "4               0.000000               0.000000               0.000000   \n",
       "\n",
       "   title_subjectivity  title_sentiment_polarity  abs_title_subjectivity  \\\n",
       "0            0.718182                  0.137121                0.218182   \n",
       "1            0.500000                  0.000000                0.000000   \n",
       "2            0.000000                  0.000000                0.500000   \n",
       "3            0.000000                  0.000000                0.500000   \n",
       "4            0.541071                  0.067560                0.041071   \n",
       "\n",
       "   abs_title_sentiment_polarity  shares_log  \n",
       "0                      0.137121    9.059517  \n",
       "1                      0.000000   10.073230  \n",
       "2                      0.000000    9.035987  \n",
       "3                      0.000000    8.476371  \n",
       "4                      0.067560    8.039157  \n",
       "\n",
       "[5 rows x 60 columns]"
      ]
     },
     "execution_count": 8,
     "metadata": {},
     "output_type": "execute_result"
    }
   ],
   "source": [
    "df = df.drop(columns = ['url'])\n",
    "df.head()"
   ]
  },
  {
   "cell_type": "code",
   "execution_count": 9,
   "id": "bffc24b7-0d27-42bd-9579-53167013c4bb",
   "metadata": {},
   "outputs": [
    {
     "data": {
      "text/plain": [
       "array([[ 2.2743222 ,  0.36580414, -0.47702007, ...,  0.27422906,\n",
       "        -0.64354223, -0.10187929],\n",
       "       [ 2.2743222 , -0.55083405, -0.34378994, ..., -0.2291399 ,\n",
       "        -1.80874145, -0.70110989],\n",
       "       [ 2.2743222 ,  0.82412323,  2.3863357 , ..., -0.2291399 ,\n",
       "         0.86150677, -0.70110989],\n",
       "       ...,\n",
       "       [-1.84296997, -0.55083405, -0.23676902, ...,  0.27144801,\n",
       "        -1.56599161, -0.10518996],\n",
       "       [-1.84296997, -2.38411043,  0.28741511, ..., -0.2291399 ,\n",
       "         0.86150677, -0.70110989],\n",
       "       [-1.84296997, -0.55083405, -0.85923766, ...,  0.68860462,\n",
       "        -0.91865871,  0.39140998]])"
      ]
     },
     "execution_count": 9,
     "metadata": {},
     "output_type": "execute_result"
    }
   ],
   "source": [
    "from sklearn.preprocessing import StandardScaler\n",
    "scaler = StandardScaler()\n",
    "\n",
    "X = df.drop(columns = ['shares_log'])\n",
    "y = df['shares_log']\n",
    "\n",
    "X_1 = scaler.fit_transform(X)\n",
    "X_1"
   ]
  },
  {
   "cell_type": "markdown",
   "id": "de6b0297-7f6f-47b2-a516-25470b44a0d6",
   "metadata": {},
   "source": [
    "    1.5 Разбейте набор данных на обучающую и валидационную (тестовую) выборки с помощью метода train_test_split ."
   ]
  },
  {
   "cell_type": "code",
   "execution_count": 10,
   "id": "0290f5da-6573-4d03-90d6-21c2a3b6e29e",
   "metadata": {},
   "outputs": [],
   "source": [
    "from sklearn.model_selection import train_test_split\n",
    "\n",
    "X_train, X_valid, y_train, y_valid = train_test_split(X_1, y, test_size=0.25, random_state=42)"
   ]
  },
  {
   "cell_type": "markdown",
   "id": "1477fc44-889f-435f-b659-0f0b0cceaa43",
   "metadata": {},
   "source": [
    "    1.6 Обучите алгоритм классификации kNeighborsClassifier или регрессии KNeighborsRegressor . Оцените качество каждой модели на валидационной выборке."
   ]
  },
  {
   "cell_type": "code",
   "execution_count": 11,
   "id": "2017bbb2-2761-4cd6-9af4-b095ca4272ea",
   "metadata": {},
   "outputs": [
    {
     "data": {
      "text/plain": [
       "KNeighborsRegressor()"
      ]
     },
     "execution_count": 11,
     "metadata": {},
     "output_type": "execute_result"
    }
   ],
   "source": [
    "from sklearn.neighbors import KNeighborsRegressor\n",
    "\n",
    "knn = KNeighborsRegressor()\n",
    "knn.fit(X_train, y_train)"
   ]
  },
  {
   "cell_type": "code",
   "execution_count": 12,
   "id": "26a0b1b2-2595-4344-9213-ac220e8c7893",
   "metadata": {},
   "outputs": [
    {
     "data": {
      "text/plain": [
       "0.8330559781103377"
      ]
     },
     "execution_count": 12,
     "metadata": {},
     "output_type": "execute_result"
    }
   ],
   "source": [
    "from sklearn.metrics import mean_squared_error\n",
    "predict = knn.predict(X_valid)\n",
    "\n",
    "mean_squared_error(y_valid, predict)"
   ]
  },
  {
   "cell_type": "markdown",
   "id": "8e71ff9e-3455-41b0-94a8-12068493ebb1",
   "metadata": {},
   "source": [
    "    2 Настройка оптимального числа ближайших соседей в методе kNN\n"
   ]
  },
  {
   "cell_type": "markdown",
   "id": "28271957-4fb2-4844-9332-56fe85226507",
   "metadata": {},
   "source": [
    "    2.1 Создайте генератор разбиений, который перемешивает выборку перед создани ем блоков. Число блоков n_splits равно 5. Задайте также параметр для воспроизводимости результатов.\n",
    "    \n",
    "    Найдите показатель качества модели kNN на кросс-валидации. Подумайте, при емлемо ли использование вашей меры (метрики) качества в данной задаче? При необходимости пересчитайте качество с помощью другой метрики из списка."
   ]
  },
  {
   "cell_type": "code",
   "execution_count": 13,
   "id": "149c1a4f-676d-4759-a11e-5a1dcd5da38f",
   "metadata": {},
   "outputs": [
    {
     "name": "stdout",
     "output_type": "stream",
     "text": [
      "Массив значений метрики: [-0.02427661 -0.05456262  0.02837988  0.06170398  0.03292991]\n",
      "Средняя метрика на кросс-валидации: 0.008834908585587553\n"
     ]
    }
   ],
   "source": [
    "from sklearn.model_selection import KFold\n",
    "from sklearn.model_selection import cross_val_score\n",
    "\n",
    "kf = KFold(n_splits=5, shuffle=True, random_state=42) # n_splits играет роль K\n",
    "knn = KNeighborsRegressor()\n",
    "\n",
    "scores = cross_val_score(knn, X_1, y, cv=kf, scoring='explained_variance')\n",
    "print('Массив значений метрики:', scores)\n",
    "print('Средняя метрика на кросс-валидации:', np.mean(scores))"
   ]
  },
  {
   "cell_type": "code",
   "execution_count": 14,
   "id": "b5843798-47e4-412a-8a46-55ec5d23561d",
   "metadata": {},
   "outputs": [
    {
     "name": "stdout",
     "output_type": "stream",
     "text": [
      "Массив значений метрики: [-5.48292266 -4.99577418 -4.38361924 -4.53540978 -5.46267103]\n",
      "Средняя метрика на кросс-валидации: -4.972079376244504\n"
     ]
    }
   ],
   "source": [
    "scores = cross_val_score(knn, X_1, y, cv=kf, scoring='max_error')\n",
    "print('Массив значений метрики:', scores)\n",
    "print('Средняя метрика на кросс-валидации:', np.mean(scores))"
   ]
  },
  {
   "cell_type": "code",
   "execution_count": 15,
   "id": "41e83a5a-a41c-473f-9e9e-8787dfe3fa94",
   "metadata": {},
   "outputs": [
    {
     "name": "stdout",
     "output_type": "stream",
     "text": [
      "Массив значений метрики: [-0.84092455 -0.82327872 -0.9437767  -0.78454052 -0.85208684]\n",
      "Средняя метрика на кросс-валидации: -0.8489214679855351\n"
     ]
    }
   ],
   "source": [
    "scores = cross_val_score(knn, X_1, y, cv=kf, scoring='neg_mean_squared_error')\n",
    "print('Массив значений метрики:', scores)\n",
    "print('Средняя метрика на кросс-валидации:', np.mean(scores))"
   ]
  },
  {
   "cell_type": "code",
   "execution_count": 16,
   "id": "0efd069e-a9be-49e9-9af9-3e40c0b6bd1c",
   "metadata": {},
   "outputs": [
    {
     "name": "stdout",
     "output_type": "stream",
     "text": [
      "Массив значений метрики: [-0.04217387 -0.05887793  0.02137457  0.05870157  0.01925275]\n",
      "Средняя метрика на кросс-валидации: -0.000344581783386233\n"
     ]
    }
   ],
   "source": [
    "scores = cross_val_score(knn, X_1, y, cv=kf, scoring='r2')\n",
    "print('Массив значений метрики:', scores)\n",
    "print('Средняя метрика на кросс-валидации:', np.mean(scores))"
   ]
  },
  {
   "cell_type": "markdown",
   "id": "1e014a81-4dc6-4345-91a5-57e5a3e1b2e5",
   "metadata": {},
   "source": [
    "    2.2 Осуществите кросс-валидацию модели при числе соседей k ∈ [1;50]. Используйте GridSearchCV . При каком k качество получилось наилучшим? Чему равна эта оценка качества? Постройте график значений метрики в зависимости от k"
   ]
  },
  {
   "cell_type": "code",
   "execution_count": 23,
   "id": "85ba76a5-495e-40c4-a6df-42418004242b",
   "metadata": {},
   "outputs": [
    {
     "data": {
      "text/plain": [
       "GridSearchCV(cv=KFold(n_splits=5, random_state=42, shuffle=True),\n",
       "             estimator=KNeighborsRegressor(n_jobs=-1, n_neighbors=18,\n",
       "                                           weights='distance'),\n",
       "             n_jobs=-1,\n",
       "             param_grid={'n_neighbors': array([ 1,  2,  3,  4,  5,  6,  7,  8,  9, 10, 11, 12, 13, 14, 15, 16, 17,\n",
       "       18, 19, 20, 21, 22, 23, 24, 25, 26, 27, 28, 29, 30, 31, 32, 33, 34,\n",
       "       35, 36, 37, 38, 39, 40, 41, 42, 43, 44, 45, 46, 47, 48, 49, 50])},\n",
       "             scoring='explained_variance')"
      ]
     },
     "execution_count": 23,
     "metadata": {},
     "output_type": "execute_result"
    }
   ],
   "source": [
    "from sklearn.model_selection import GridSearchCV\n",
    "\n",
    "knn_params={'n_neighbors': np.arange(1, 51)} # словарь параметров (ключ: набор возможных значений)\n",
    "\n",
    "knn_grid = GridSearchCV(knn, knn_params, cv=kf, scoring='explained_variance', n_jobs = -1)\n",
    "knn_grid.fit(X_train, y_train)"
   ]
  },
  {
   "cell_type": "code",
   "execution_count": 24,
   "id": "259dac89-8b26-4580-9c5f-bfda8ef59b5b",
   "metadata": {},
   "outputs": [
    {
     "data": {
      "text/plain": [
       "{'mean_fit_time': array([0.00745482, 0.02166514, 0.01617632, 0.00783753, 0.00838199,\n",
       "        0.00403557, 0.01179237, 0.00611544, 0.00768661, 0.00793738,\n",
       "        0.00616479, 0.00915456, 0.0078886 , 0.01453052, 0.00993495,\n",
       "        0.00842967, 0.00820704, 0.01337004, 0.00814524, 0.01446519,\n",
       "        0.01188693, 0.00594893, 0.00806346, 0.00573735, 0.00973978,\n",
       "        0.00895715, 0.00811386, 0.00936198, 0.00415535, 0.00834036,\n",
       "        0.01428227, 0.00923166, 0.00589089, 0.0041276 , 0.00465536,\n",
       "        0.00806489, 0.01372056, 0.00394363, 0.01052918, 0.01046619,\n",
       "        0.00422215, 0.00690241, 0.01191754, 0.00346265, 0.01332026,\n",
       "        0.00469861, 0.00424461, 0.00596437, 0.00860419, 0.00894027]),\n",
       " 'std_fit_time': array([4.55162750e-03, 1.79043791e-02, 1.42764047e-02, 8.64972565e-03,\n",
       "        7.82165865e-03, 6.86043568e-05, 9.60645027e-03, 4.70980838e-03,\n",
       "        7.74616548e-03, 8.10076565e-03, 4.64107193e-03, 9.50921249e-03,\n",
       "        8.04656911e-03, 1.26038114e-02, 9.68009255e-03, 8.91964139e-03,\n",
       "        8.20318588e-03, 1.86546183e-02, 7.98484410e-03, 1.08513330e-02,\n",
       "        8.51743513e-03, 2.91098194e-03, 5.65909372e-03, 1.37247003e-03,\n",
       "        1.04082742e-02, 5.21514665e-03, 7.26360664e-03, 7.39496179e-03,\n",
       "        4.69600951e-04, 8.36028841e-03, 1.18082739e-02, 1.04369542e-02,\n",
       "        1.89198329e-03, 3.94397159e-04, 1.48124192e-03, 8.27209343e-03,\n",
       "        1.23767305e-02, 2.88149400e-04, 4.95434631e-03, 1.16254739e-02,\n",
       "        5.76911501e-04, 4.52036297e-03, 9.79547147e-03, 5.93278631e-04,\n",
       "        1.24216739e-02, 1.38245784e-03, 7.67130952e-04, 3.37375664e-03,\n",
       "        8.72562734e-03, 9.00926630e-03]),\n",
       " 'mean_score_time': array([0.17049737, 0.17297902, 0.18197656, 0.13611526, 0.15220613,\n",
       "        0.14956908, 0.14025836, 0.140939  , 0.132828  , 0.14413395,\n",
       "        0.13406272, 0.16552663, 0.20106339, 0.14681706, 0.21525331,\n",
       "        0.15667715, 0.15982695, 0.22121916, 0.15643425, 0.1622366 ,\n",
       "        0.21624107, 0.2004004 , 0.2219152 , 0.25065885, 0.24376922,\n",
       "        0.22772584, 0.16593399, 0.20870886, 0.16230707, 0.19180303,\n",
       "        0.18454905, 0.1897378 , 0.18657231, 0.16073742, 0.17823005,\n",
       "        0.15266848, 0.17561808, 0.24635158, 0.23067861, 0.16596274,\n",
       "        0.2137588 , 0.17282124, 0.15867162, 0.20123291, 0.18612499,\n",
       "        0.21149278, 0.16081157, 0.22144833, 0.15032959, 0.13388433]),\n",
       " 'std_score_time': array([0.00927922, 0.02835125, 0.03920404, 0.02897313, 0.01758567,\n",
       "        0.01908064, 0.00929363, 0.00822912, 0.00669415, 0.00720342,\n",
       "        0.0275435 , 0.02234914, 0.02955216, 0.01041396, 0.03908399,\n",
       "        0.01805309, 0.03181711, 0.0205596 , 0.01765922, 0.02296438,\n",
       "        0.03626555, 0.03459711, 0.03829148, 0.0181999 , 0.01253981,\n",
       "        0.0214916 , 0.01820875, 0.03406969, 0.0076325 , 0.04246023,\n",
       "        0.02575016, 0.01900406, 0.01997098, 0.0039235 , 0.01027453,\n",
       "        0.01318472, 0.01581171, 0.01319672, 0.03131385, 0.02836648,\n",
       "        0.02042553, 0.00790978, 0.00392237, 0.01865958, 0.05017814,\n",
       "        0.03233406, 0.01125626, 0.03425704, 0.02228837, 0.03524319]),\n",
       " 'param_n_neighbors': masked_array(data=[1, 2, 3, 4, 5, 6, 7, 8, 9, 10, 11, 12, 13, 14, 15, 16,\n",
       "                    17, 18, 19, 20, 21, 22, 23, 24, 25, 26, 27, 28, 29, 30,\n",
       "                    31, 32, 33, 34, 35, 36, 37, 38, 39, 40, 41, 42, 43, 44,\n",
       "                    45, 46, 47, 48, 49, 50],\n",
       "              mask=[False, False, False, False, False, False, False, False,\n",
       "                    False, False, False, False, False, False, False, False,\n",
       "                    False, False, False, False, False, False, False, False,\n",
       "                    False, False, False, False, False, False, False, False,\n",
       "                    False, False, False, False, False, False, False, False,\n",
       "                    False, False, False, False, False, False, False, False,\n",
       "                    False, False],\n",
       "        fill_value='?',\n",
       "             dtype=object),\n",
       " 'params': [{'n_neighbors': 1},\n",
       "  {'n_neighbors': 2},\n",
       "  {'n_neighbors': 3},\n",
       "  {'n_neighbors': 4},\n",
       "  {'n_neighbors': 5},\n",
       "  {'n_neighbors': 6},\n",
       "  {'n_neighbors': 7},\n",
       "  {'n_neighbors': 8},\n",
       "  {'n_neighbors': 9},\n",
       "  {'n_neighbors': 10},\n",
       "  {'n_neighbors': 11},\n",
       "  {'n_neighbors': 12},\n",
       "  {'n_neighbors': 13},\n",
       "  {'n_neighbors': 14},\n",
       "  {'n_neighbors': 15},\n",
       "  {'n_neighbors': 16},\n",
       "  {'n_neighbors': 17},\n",
       "  {'n_neighbors': 18},\n",
       "  {'n_neighbors': 19},\n",
       "  {'n_neighbors': 20},\n",
       "  {'n_neighbors': 21},\n",
       "  {'n_neighbors': 22},\n",
       "  {'n_neighbors': 23},\n",
       "  {'n_neighbors': 24},\n",
       "  {'n_neighbors': 25},\n",
       "  {'n_neighbors': 26},\n",
       "  {'n_neighbors': 27},\n",
       "  {'n_neighbors': 28},\n",
       "  {'n_neighbors': 29},\n",
       "  {'n_neighbors': 30},\n",
       "  {'n_neighbors': 31},\n",
       "  {'n_neighbors': 32},\n",
       "  {'n_neighbors': 33},\n",
       "  {'n_neighbors': 34},\n",
       "  {'n_neighbors': 35},\n",
       "  {'n_neighbors': 36},\n",
       "  {'n_neighbors': 37},\n",
       "  {'n_neighbors': 38},\n",
       "  {'n_neighbors': 39},\n",
       "  {'n_neighbors': 40},\n",
       "  {'n_neighbors': 41},\n",
       "  {'n_neighbors': 42},\n",
       "  {'n_neighbors': 43},\n",
       "  {'n_neighbors': 44},\n",
       "  {'n_neighbors': 45},\n",
       "  {'n_neighbors': 46},\n",
       "  {'n_neighbors': 47},\n",
       "  {'n_neighbors': 48},\n",
       "  {'n_neighbors': 49},\n",
       "  {'n_neighbors': 50}],\n",
       " 'split0_test_score': array([-0.52694034, -0.20660874, -0.09002662, -0.00809085,  0.0486401 ,\n",
       "         0.06907329,  0.08503544,  0.09545234,  0.09364032,  0.09866911,\n",
       "         0.10760636,  0.10563203,  0.10167284,  0.10841188,  0.10791539,\n",
       "         0.1037244 ,  0.10782859,  0.11118282,  0.10946845,  0.11288408,\n",
       "         0.11394109,  0.11405108,  0.11434864,  0.11085951,  0.10955941,\n",
       "         0.11423814,  0.11069094,  0.11191581,  0.1116477 ,  0.11149189,\n",
       "         0.11315803,  0.11322849,  0.11229839,  0.11478326,  0.11712264,\n",
       "         0.11815438,  0.11576903,  0.11597051,  0.11676667,  0.11851284,\n",
       "         0.12055861,  0.11992303,  0.12060876,  0.11879196,  0.11923853,\n",
       "         0.11939897,  0.12012644,  0.12120981,  0.12055425,  0.12012509]),\n",
       " 'split1_test_score': array([-0.4199588 , -0.12084712, -0.0012378 ,  0.04388017,  0.09229272,\n",
       "         0.10034248,  0.11607557,  0.11918789,  0.12642499,  0.13134553,\n",
       "         0.13784292,  0.14470854,  0.14264418,  0.14615345,  0.14726914,\n",
       "         0.14197942,  0.13719596,  0.13388974,  0.13531153,  0.13679938,\n",
       "         0.13474456,  0.13604808,  0.137716  ,  0.13671219,  0.14153166,\n",
       "         0.14255152,  0.13884284,  0.13991538,  0.1389241 ,  0.14112069,\n",
       "         0.14094163,  0.13851011,  0.14070483,  0.13925779,  0.1402115 ,\n",
       "         0.13884396,  0.1395677 ,  0.13801743,  0.13751131,  0.13713069,\n",
       "         0.13645791,  0.13536563,  0.13394527,  0.13053587,  0.12814241,\n",
       "         0.13036577,  0.13043285,  0.12864332,  0.12968307,  0.12990827]),\n",
       " 'split2_test_score': array([-0.73143347, -0.24748748, -0.03762013,  0.02032497,  0.03936273,\n",
       "         0.05114379,  0.06659694,  0.07820096,  0.08251625,  0.08708031,\n",
       "         0.08741892,  0.09994346,  0.09968988,  0.102775  ,  0.10559475,\n",
       "         0.11210763,  0.11786595,  0.1241374 ,  0.1303094 ,  0.13388509,\n",
       "         0.13522909,  0.14020103,  0.14248514,  0.14260173,  0.14194506,\n",
       "         0.14267236,  0.13951939,  0.13916235,  0.14028504,  0.14581468,\n",
       "         0.14718639,  0.14615179,  0.14697608,  0.14727085,  0.14614069,\n",
       "         0.14470694,  0.14714706,  0.14539465,  0.14460572,  0.14568741,\n",
       "         0.14726647,  0.14719115,  0.14605312,  0.14627485,  0.14287018,\n",
       "         0.14071275,  0.13819661,  0.13867038,  0.13628815,  0.13696446]),\n",
       " 'split3_test_score': array([-0.46340063, -0.2488736 , -0.12762624, -0.04863038, -0.02746514,\n",
       "        -0.0017705 ,  0.01274497,  0.02747748,  0.03972673,  0.04167243,\n",
       "         0.05612009,  0.06005555,  0.06059892,  0.05942692,  0.07125473,\n",
       "         0.07313947,  0.07514642,  0.07615495,  0.07944389,  0.07755471,\n",
       "         0.07423918,  0.07812519,  0.07855602,  0.07845249,  0.08034699,\n",
       "         0.08238289,  0.08685282,  0.09028646,  0.0931457 ,  0.09346763,\n",
       "         0.09283788,  0.09340726,  0.09452514,  0.09459237,  0.0964133 ,\n",
       "         0.09548984,  0.09499901,  0.09596541,  0.09529761,  0.09278884,\n",
       "         0.09337115,  0.09328527,  0.09319403,  0.09366315,  0.0950489 ,\n",
       "         0.09317875,  0.09435923,  0.09378854,  0.09294608,  0.09247665]),\n",
       " 'split4_test_score': array([-0.64894825, -0.22530262, -0.1037669 , -0.02770412,  0.01897598,\n",
       "         0.04909176,  0.05666344,  0.06776921,  0.08355795,  0.08505749,\n",
       "         0.08117451,  0.08306851,  0.08590112,  0.08726579,  0.09352868,\n",
       "         0.0959679 ,  0.10592358,  0.10653526,  0.10775261,  0.10511217,\n",
       "         0.10599928,  0.10514325,  0.10831898,  0.11320683,  0.11327743,\n",
       "         0.11405001,  0.11764883,  0.1180814 ,  0.11911711,  0.12134675,\n",
       "         0.12252792,  0.12464829,  0.12438458,  0.12439264,  0.12626413,\n",
       "         0.12527201,  0.1256565 ,  0.12481478,  0.12322206,  0.12462263,\n",
       "         0.12601031,  0.12503512,  0.12400376,  0.12326587,  0.12403603,\n",
       "         0.12433721,  0.12443493,  0.12559799,  0.12401832,  0.12465781]),\n",
       " 'mean_test_score': array([-0.5581363 , -0.20982391, -0.07205554, -0.00404404,  0.03436128,\n",
       "         0.05357616,  0.06742327,  0.07761757,  0.08517325,  0.08876497,\n",
       "         0.09403256,  0.09868162,  0.09810139,  0.10080661,  0.10511254,\n",
       "         0.10538377,  0.1087921 ,  0.11038004,  0.11245717,  0.11324709,\n",
       "         0.11283064,  0.11471373,  0.11628496,  0.11636655,  0.11733211,\n",
       "         0.11917899,  0.11871097,  0.11987228,  0.12062393,  0.12264833,\n",
       "         0.12333037,  0.12318919,  0.1237778 ,  0.12405938,  0.12523045,\n",
       "         0.12449343,  0.12462786,  0.12403255,  0.12348067,  0.12374848,\n",
       "         0.12473289,  0.12416004,  0.12356099,  0.12250634,  0.12186721,\n",
       "         0.12159869,  0.12151001,  0.12158201,  0.12069797,  0.12082646]),\n",
       " 'std_test_score': array([0.11603429, 0.04713856, 0.04608172, 0.03302937, 0.03910029,\n",
       "        0.03321605, 0.03401002, 0.03052058, 0.0277433 , 0.02879405,\n",
       "        0.02738621, 0.02794323, 0.02666316, 0.02833261, 0.02476209,\n",
       "        0.02243015, 0.02015094, 0.01964054, 0.01980891, 0.0215448 ,\n",
       "        0.02244599, 0.02251893, 0.02296265, 0.02271571, 0.02296158,\n",
       "        0.02237358, 0.01958915, 0.01852386, 0.01765985, 0.01926438,\n",
       "        0.01956108, 0.01870999, 0.01903968, 0.01857001, 0.01765731,\n",
       "        0.01730042, 0.01837236, 0.01735102, 0.0172195 , 0.0181498 ,\n",
       "        0.01815408, 0.01804421, 0.01757722, 0.01717975, 0.01556495,\n",
       "        0.01588861, 0.01487074, 0.01503741, 0.01486606, 0.01524334]),\n",
       " 'rank_test_score': array([50, 49, 48, 47, 46, 45, 44, 43, 42, 41, 40, 38, 39, 37, 36, 35, 34,\n",
       "        33, 32, 30, 31, 29, 28, 27, 26, 24, 25, 23, 22, 14, 12, 13,  8,  6,\n",
       "         1,  4,  3,  7, 11,  9,  2,  5, 10, 15, 16, 17, 19, 18, 21, 20],\n",
       "       dtype=int32)}"
      ]
     },
     "execution_count": 24,
     "metadata": {},
     "output_type": "execute_result"
    }
   ],
   "source": [
    "knn_grid.cv_results_"
   ]
  },
  {
   "cell_type": "code",
   "execution_count": 26,
   "id": "afafc002-e6d0-4f95-92ab-6d73e685efb6",
   "metadata": {},
   "outputs": [
    {
     "name": "stdout",
     "output_type": "stream",
     "text": [
      "Найлучшее качество модели при k = 35\n",
      "Наилучшая оценка качества модели: 0.12523045126857152\n"
     ]
    }
   ],
   "source": [
    "print(\"Найлучшее качество модели при k =\", knn_grid.best_params_.get('n_neighbors'))\n",
    "print(\"Наилучшая оценка качества модели:\", knn_grid.best_score_)"
   ]
  },
  {
   "cell_type": "code",
   "execution_count": 29,
   "id": "d0c053c5-8127-4ec8-8196-253f4d081f34",
   "metadata": {},
   "outputs": [
    {
     "data": {
      "image/png": "[encoded data removed]",
      "text/plain": [
       "<Figure size 842.4x595.44 with 1 Axes>"
      ]
     },
     "metadata": {},
     "output_type": "display_data"
    }
   ],
   "source": [
    "results_df = pd.DataFrame(knn_grid.cv_results_)\n",
    "h = 'mean_test_score' # правильность\n",
    "v = 'param_n_neighbors' #количество соседей\n",
    "plt.plot(results_df[h], results_df[v], color=\"crimson\")\n",
    "\n",
    "plt.xlabel(h)\n",
    "plt.ylabel(v)\n",
    "plt.title('Validation curve')\n",
    "plt.show()"
   ]
  },
  {
   "cell_type": "markdown",
   "id": "b509a0f7-63a0-4c67-9f1c-935c73139631",
   "metadata": {},
   "source": [
    "    3 Выбор метрики в методе kNN"
   ]
  },
  {
   "cell_type": "markdown",
   "id": "ecb5127a-e2d2-43e3-bfec-67c298d9a1a0",
   "metadata": {},
   "source": [
    "    3.1 Переберите разные варианты значений параметра p по сетке от 1 до 10 с та ким шагом, чтобы всего было протестировано 200 вариантов (удобно использо вать функцию numpy.linspace ). Используйте KNeighborsClassifier или KNeighborsRegressor с оптимальным значением , найденным ранее. Задайте опцию –– данный параметр добавляет в алгоритм веса, зависящие от расстояния до ближайших соседей. В качестве метрики качества снова используйте accuracy . Качество оценивайте с помо щью кросс-валидации по 5 блокам."
   ]
  },
  {
   "cell_type": "code",
   "execution_count": 38,
   "id": "48a88591-09a2-49e7-bb72-734781419ffe",
   "metadata": {},
   "outputs": [],
   "source": [
    "p_params = {'p': np.linspace(1, 10, num = 20)}"
   ]
  },
  {
   "cell_type": "code",
   "execution_count": 39,
   "id": "318e59e9-ff5b-464b-9fe8-32d21f455fd2",
   "metadata": {},
   "outputs": [
    {
     "data": {
      "text/plain": [
       "KNeighborsRegressor(n_jobs=-1, n_neighbors=18, weights='distance')"
      ]
     },
     "execution_count": 39,
     "metadata": {},
     "output_type": "execute_result"
    }
   ],
   "source": [
    "# weights='distance' –– добавляет в алгоритм веса, зависящие от расстояния до ближайших соседей\n",
    "knn1 = KNeighborsRegressor(n_neighbors=18, weights='distance', n_jobs = -1)\n",
    "knn1"
   ]
  },
  {
   "cell_type": "code",
   "execution_count": 40,
   "id": "d585a7b4-a104-4ddb-a669-11b3ea112fb4",
   "metadata": {},
   "outputs": [
    {
     "data": {
      "text/plain": [
       "GridSearchCV(cv=KFold(n_splits=5, random_state=42, shuffle=True),\n",
       "             estimator=KNeighborsRegressor(n_jobs=-1, n_neighbors=18,\n",
       "                                           weights='distance'),\n",
       "             n_jobs=-1,\n",
       "             param_grid={'p': array([ 1.        ,  1.47368421,  1.94736842,  2.42105263,  2.89473684,\n",
       "        3.36842105,  3.84210526,  4.31578947,  4.78947368,  5.26315789,\n",
       "        5.73684211,  6.21052632,  6.68421053,  7.15789474,  7.63157895,\n",
       "        8.10526316,  8.57894737,  9.05263158,  9.52631579, 10.        ])},\n",
       "             scoring='explained_variance')"
      ]
     },
     "execution_count": 40,
     "metadata": {},
     "output_type": "execute_result"
    }
   ],
   "source": [
    "knn1_grid = GridSearchCV(knn1, p_params, cv=kf, scoring='explained_variance', n_jobs = -1)\n",
    "knn1_grid.fit(X_train, y_train)"
   ]
  },
  {
   "cell_type": "code",
   "execution_count": 41,
   "id": "0181f152-4402-4be2-9b8b-1daee85da91c",
   "metadata": {},
   "outputs": [
    {
     "data": {
      "text/plain": [
       "{'mean_fit_time': array([0.00801697, 0.03353114, 0.00382919, 0.0030272 , 0.00444288,\n",
       "        0.00724416, 0.01461959, 0.00832071, 0.00713029, 0.00306344,\n",
       "        0.00790453, 0.00365009, 0.00358949, 0.00412297, 0.04424615,\n",
       "        0.00373564, 0.00313888, 0.00336409, 0.01543336, 0.01267333]),\n",
       " 'std_fit_time': array([0.00301475, 0.03952511, 0.00076068, 0.00016526, 0.00193276,\n",
       "        0.00820317, 0.01739731, 0.01018438, 0.00833508, 0.00015022,\n",
       "        0.00899328, 0.00092262, 0.00069297, 0.00090916, 0.05173991,\n",
       "        0.00078903, 0.00029905, 0.00047484, 0.01516073, 0.01080605]),\n",
       " 'mean_score_time': array([0.63867264, 6.48214045, 5.96935802, 4.9396204 , 6.20741787,\n",
       "        5.37268777, 5.84582739, 5.4975625 , 5.06971431, 5.48582921,\n",
       "        5.85680041, 6.18183212, 6.92323112, 7.52505383, 8.52971444,\n",
       "        8.83478136, 7.76043029, 5.41496677, 5.74929581, 4.67361522]),\n",
       " 'std_score_time': array([0.05267925, 0.08525756, 0.79675982, 0.04235286, 0.54508906,\n",
       "        0.113156  , 0.22867796, 0.45987149, 0.08753087, 0.15574296,\n",
       "        0.23062654, 0.09518517, 0.25501278, 0.51960993, 0.14724052,\n",
       "        0.47154865, 0.85310955, 0.14848504, 0.13914743, 0.8070915 ]),\n",
       " 'param_p': masked_array(data=[1.0, 1.4736842105263157, 1.9473684210526314,\n",
       "                    2.4210526315789473, 2.894736842105263,\n",
       "                    3.3684210526315788, 3.8421052631578947,\n",
       "                    4.315789473684211, 4.789473684210526,\n",
       "                    5.263157894736842, 5.7368421052631575,\n",
       "                    6.2105263157894735, 6.684210526315789,\n",
       "                    7.157894736842105, 7.63157894736842, 8.105263157894736,\n",
       "                    8.578947368421051, 9.052631578947368,\n",
       "                    9.526315789473683, 10.0],\n",
       "              mask=[False, False, False, False, False, False, False, False,\n",
       "                    False, False, False, False, False, False, False, False,\n",
       "                    False, False, False, False],\n",
       "        fill_value='?',\n",
       "             dtype=object),\n",
       " 'params': [{'p': 1.0},\n",
       "  {'p': 1.4736842105263157},\n",
       "  {'p': 1.9473684210526314},\n",
       "  {'p': 2.4210526315789473},\n",
       "  {'p': 2.894736842105263},\n",
       "  {'p': 3.3684210526315788},\n",
       "  {'p': 3.8421052631578947},\n",
       "  {'p': 4.315789473684211},\n",
       "  {'p': 4.789473684210526},\n",
       "  {'p': 5.263157894736842},\n",
       "  {'p': 5.7368421052631575},\n",
       "  {'p': 6.2105263157894735},\n",
       "  {'p': 6.684210526315789},\n",
       "  {'p': 7.157894736842105},\n",
       "  {'p': 7.63157894736842},\n",
       "  {'p': 8.105263157894736},\n",
       "  {'p': 8.578947368421051},\n",
       "  {'p': 9.052631578947368},\n",
       "  {'p': 9.526315789473683},\n",
       "  {'p': 10.0}],\n",
       " 'split0_test_score': array([0.12148163, 0.11269351, 0.1097837 , 0.11556664, 0.11608763,\n",
       "        0.10826559, 0.10456501, 0.09769761, 0.09406579, 0.08962737,\n",
       "        0.09190991, 0.08968512, 0.09112707, 0.0888366 , 0.0927297 ,\n",
       "        0.08956422, 0.09124   , 0.09152175, 0.09041055, 0.08783267]),\n",
       " 'split1_test_score': array([0.15548484, 0.13762919, 0.13765202, 0.13177995, 0.13671796,\n",
       "        0.1334883 , 0.13018902, 0.12720686, 0.11705262, 0.11295402,\n",
       "        0.10385162, 0.10412056, 0.09868571, 0.09855657, 0.09437154,\n",
       "        0.09271123, 0.09188805, 0.09322883, 0.09360919, 0.08556538]),\n",
       " 'split2_test_score': array([0.17262043, 0.14147435, 0.12978246, 0.1172394 , 0.10476843,\n",
       "        0.10184234, 0.09958657, 0.09166183, 0.08702577, 0.08676639,\n",
       "        0.0798584 , 0.08523946, 0.08534209, 0.07984248, 0.0763843 ,\n",
       "        0.07587358, 0.0752971 , 0.08036793, 0.08063272, 0.08252714]),\n",
       " 'split3_test_score': array([0.08822532, 0.08755279, 0.07487995, 0.06012369, 0.06527333,\n",
       "        0.05886113, 0.05763124, 0.06336607, 0.06627776, 0.06405693,\n",
       "        0.06667678, 0.06309868, 0.0627787 , 0.06313369, 0.0689415 ,\n",
       "        0.07095049, 0.06899607, 0.07381443, 0.07385389, 0.07577983]),\n",
       " 'split4_test_score': array([0.1090856 , 0.10734   , 0.1085878 , 0.10738419, 0.10447637,\n",
       "        0.10493166, 0.10163331, 0.09958552, 0.09567774, 0.09020593,\n",
       "        0.08566172, 0.08520455, 0.08604066, 0.08400957, 0.0826087 ,\n",
       "        0.07970646, 0.07459493, 0.07631796, 0.07680095, 0.07372126]),\n",
       " 'mean_test_score': array([0.12937956, 0.11733797, 0.11213719, 0.10641877, 0.10546474,\n",
       "        0.1014778 , 0.09872103, 0.09590358, 0.09201994, 0.08872213,\n",
       "        0.08559168, 0.08546967, 0.08479485, 0.08287578, 0.08300715,\n",
       "        0.0817612 , 0.08040323, 0.08305018, 0.08306146, 0.08108526]),\n",
       " 'std_test_score': array([0.03072182, 0.02001492, 0.02176511, 0.02444637, 0.02326551,\n",
       "        0.02407899, 0.02333233, 0.02036346, 0.01632055, 0.01550744,\n",
       "        0.01236118, 0.01316214, 0.0119968 , 0.01167609, 0.00964926,\n",
       "        0.00820424, 0.00937304, 0.0079144 , 0.00768291, 0.00547821]),\n",
       " 'rank_test_score': array([ 1,  2,  3,  4,  5,  6,  7,  8,  9, 10, 11, 12, 13, 17, 16, 18, 20,\n",
       "        15, 14, 19], dtype=int32)}"
      ]
     },
     "execution_count": 41,
     "metadata": {},
     "output_type": "execute_result"
    }
   ],
   "source": [
    "knn1_grid.cv_results_"
   ]
  },
  {
   "cell_type": "code",
   "execution_count": 42,
   "id": "a1a49555-275c-4bbc-94f1-1047784d3a54",
   "metadata": {},
   "outputs": [
    {
     "data": {
      "image/png": "[encoded data removed]",
      "text/plain": [
       "<Figure size 842.4x595.44 with 1 Axes>"
      ]
     },
     "metadata": {},
     "output_type": "display_data"
    }
   ],
   "source": [
    "cv_results = pd.DataFrame(knn1_grid.cv_results_)\n",
    "v = 'mean_test_score'\n",
    "h = 'param_p'\n",
    "plt.plot(cv_results[h], cv_results[v], color=\"crimson\")\n",
    "\n",
    "plt.xlabel(h)\n",
    "plt.ylabel(v)\n",
    "plt.title('Validation curve')\n",
    "plt.show()"
   ]
  },
  {
   "cell_type": "markdown",
   "id": "e97e06c8-56b5-459e-a46a-1020cf703d82",
   "metadata": {},
   "source": [
    "    3.2 Определите, при каком p качество на кросс-валидации оказалось оптимальным. Обратите внимание, что cross_val_score возвращает массив показателей качества по блокам; необходимо максимизировать среднее этих показателей."
   ]
  },
  {
   "cell_type": "code",
   "execution_count": 1,
   "id": "1cf7592e-8286-4e4b-b031-2b1ac93bff83",
   "metadata": {},
   "outputs": [
    {
     "ename": "NameError",
     "evalue": "name 'knn1_grid' is not defined",
     "output_type": "error",
     "traceback": [
      "\u001b[0;31m---------------------------------------------------------------------------\u001b[0m",
      "\u001b[0;31mNameError\u001b[0m                                 Traceback (most recent call last)",
      "\u001b[0;32m/var/folders/lv/4fp0098j7k584clypdt03q0r0000gn/T/ipykernel_77670/2261123341.py\u001b[0m in \u001b[0;36m<module>\u001b[0;34m\u001b[0m\n\u001b[0;32m----> 1\u001b[0;31m \u001b[0mprint\u001b[0m\u001b[0;34m(\u001b[0m\u001b[0;34m\"Наилучшая оценка качества модели: \"\u001b[0m\u001b[0;34m,\u001b[0m \u001b[0mknn1_grid\u001b[0m\u001b[0;34m.\u001b[0m\u001b[0mbest_score_\u001b[0m \u001b[0;34m)\u001b[0m\u001b[0;34m\u001b[0m\u001b[0;34m\u001b[0m\u001b[0m\n\u001b[0m",
      "\u001b[0;31mNameError\u001b[0m: name 'knn1_grid' is not defined"
     ]
    }
   ],
   "source": [
    "print(\"Наилучшая оценка качества модели: \", knn1_grid.best_score_ )"
   ]
  },
  {
   "cell_type": "markdown",
   "id": "261463a0-bbe5-4d49-a732-586260a06294",
   "metadata": {},
   "source": [
    "    4 Другие метрические методы"
   ]
  },
  {
   "cell_type": "markdown",
   "id": "fc679cf1-b8a7-4ac9-bcec-6a32497fe42e",
   "metadata": {},
   "source": [
    "    Поэкспериментируйте с другими метрическими методами для задач регрессии и клас сификации, представленными в библиотеке Scikit-learn:\n",
    "    •RadiusNeighborsClassifier; \n",
    "    •RadiusNeighborsRegressor; \n",
    "    •NearestCentroid ."
   ]
  },
  {
   "cell_type": "code",
   "execution_count": 37,
   "id": "24cab133-d680-4b0d-8f8b-649a3e0a11fe",
   "metadata": {},
   "outputs": [
    {
     "data": {
      "text/plain": [
       "RadiusNeighborsRegressor(n_jobs=-1, radius=50)"
      ]
     },
     "execution_count": 37,
     "metadata": {},
     "output_type": "execute_result"
    }
   ],
   "source": [
    "from sklearn.neighbors import RadiusNeighborsRegressor\n",
    "#берем большой радиус, что у всех точно были соседи и мы не столкнулись с nan\n",
    "rnn = RadiusNeighborsRegressor(radius = 50, n_jobs = -1)\n",
    "rnn.fit(X_train, y_train)"
   ]
  },
  {
   "cell_type": "code",
   "execution_count": 34,
   "id": "e75ecfe4-cd95-4eec-bdcc-fab86f41bded",
   "metadata": {},
   "outputs": [
    {
     "data": {
      "text/plain": [
       "array([7.46481002, 7.46481002, 7.46481002, ..., 7.46481002, 7.46481002,\n",
       "       7.46481002])"
      ]
     },
     "execution_count": 34,
     "metadata": {},
     "output_type": "execute_result"
    }
   ],
   "source": [
    "y_pred = rnn.predict(X_valid)\n",
    "y_pred"
   ]
  },
  {
   "cell_type": "code",
   "execution_count": 35,
   "id": "b1d09344-caef-42fe-aacf-8768b3368d5f",
   "metadata": {},
   "outputs": [
    {
     "data": {
      "text/plain": [
       "-0.0008010031705349974"
      ]
     },
     "execution_count": 35,
     "metadata": {},
     "output_type": "execute_result"
    }
   ],
   "source": [
    "rnn.score(X_valid, y_valid)"
   ]
  },
  {
   "cell_type": "code",
   "execution_count": 36,
   "id": "9af14045-5d78-42bd-b468-cdd79190f0e8",
   "metadata": {},
   "outputs": [
    {
     "data": {
      "text/plain": [
       "0.7873866919258673"
      ]
     },
     "execution_count": 36,
     "metadata": {},
     "output_type": "execute_result"
    }
   ],
   "source": [
    "mean_squared_error(y_valid, y_pred)"
   ]
  }
 ],
 "metadata": {
  "kernelspec": {
   "display_name": "Python 3 (ipykernel)",
   "language": "python",
   "name": "python3"
  },
  "language_info": {
   "codemirror_mode": {
    "name": "ipython",
    "version": 3
   },
   "file_extension": ".py",
   "mimetype": "text/x-python",
   "name": "python",
   "nbconvert_exporter": "python",
   "pygments_lexer": "ipython3",
   "version": "3.8.0"
  }
 },
 "nbformat": 4,
 "nbformat_minor": 5
}
