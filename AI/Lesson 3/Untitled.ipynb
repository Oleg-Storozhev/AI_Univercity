{
 "cells": [
  {
   "cell_type": "code",
   "execution_count": 1,
   "id": "6b4740ae-b93b-4818-93c3-662b2e94637d",
   "metadata": {},
   "outputs": [],
   "source": [
    "import pandas as pd\n",
    "import matplotlib.pyplot as plt\n",
    "import seaborn as sns\n",
    "import numpy as np\n",
    "sns.set(rc={'figure.figsize':(11.7,8.27)})"
   ]
  },
  {
   "cell_type": "markdown",
   "id": "5f550af5-b5b1-48c2-9bcb-549fcd4f37d3",
   "metadata": {},
   "source": [
    "    1 Деревья Решений"
   ]
  },
  {
   "cell_type": "markdown",
   "id": "77c4d538-b245-4a3c-bb90-c7c447053104",
   "metadata": {},
   "source": [
    "    1.1. Подключитесь к одному из датасетов Kaggle\n",
    "Разберитесь в том, как устроен ваш датасет и какова постановка задачи. Сделайте необходимый препроцессинг данных"
   ]
  },
  {
   "cell_type": "code",
   "execution_count": 2,
   "id": "4d59f7ff-0f69-4b97-9602-7f57825975c2",
   "metadata": {},
   "outputs": [
    {
     "data": {
      "text/html": [
       "<div>\n",
       "<style scoped>\n",
       "    .dataframe tbody tr th:only-of-type {\n",
       "        vertical-align: middle;\n",
       "    }\n",
       "\n",
       "    .dataframe tbody tr th {\n",
       "        vertical-align: top;\n",
       "    }\n",
       "\n",
       "    .dataframe thead th {\n",
       "        text-align: right;\n",
       "    }\n",
       "</style>\n",
       "<table border=\"1\" class=\"dataframe\">\n",
       "  <thead>\n",
       "    <tr style=\"text-align: right;\">\n",
       "      <th></th>\n",
       "      <th>url</th>\n",
       "      <th>timedelta</th>\n",
       "      <th>n_tokens_title</th>\n",
       "      <th>n_tokens_content</th>\n",
       "      <th>n_unique_tokens</th>\n",
       "      <th>n_non_stop_words</th>\n",
       "      <th>n_non_stop_unique_tokens</th>\n",
       "      <th>num_hrefs</th>\n",
       "      <th>num_self_hrefs</th>\n",
       "      <th>num_imgs</th>\n",
       "      <th>...</th>\n",
       "      <th>min_positive_polarity</th>\n",
       "      <th>max_positive_polarity</th>\n",
       "      <th>avg_negative_polarity</th>\n",
       "      <th>min_negative_polarity</th>\n",
       "      <th>max_negative_polarity</th>\n",
       "      <th>title_subjectivity</th>\n",
       "      <th>title_sentiment_polarity</th>\n",
       "      <th>abs_title_subjectivity</th>\n",
       "      <th>abs_title_sentiment_polarity</th>\n",
       "      <th>shares</th>\n",
       "    </tr>\n",
       "  </thead>\n",
       "  <tbody>\n",
       "    <tr>\n",
       "      <th>0</th>\n",
       "      <td>http://mashable.com/2014/09/28/jobs-tech-workers/</td>\n",
       "      <td>101</td>\n",
       "      <td>12</td>\n",
       "      <td>332</td>\n",
       "      <td>0.528481</td>\n",
       "      <td>1.0</td>\n",
       "      <td>0.645833</td>\n",
       "      <td>6</td>\n",
       "      <td>3</td>\n",
       "      <td>1</td>\n",
       "      <td>...</td>\n",
       "      <td>0.100000</td>\n",
       "      <td>0.7</td>\n",
       "      <td>-0.145833</td>\n",
       "      <td>-0.166667</td>\n",
       "      <td>-0.125000</td>\n",
       "      <td>0.718182</td>\n",
       "      <td>0.137121</td>\n",
       "      <td>0.218182</td>\n",
       "      <td>0.137121</td>\n",
       "      <td>8600</td>\n",
       "    </tr>\n",
       "    <tr>\n",
       "      <th>1</th>\n",
       "      <td>http://mashable.com/2014/09/28/obama-says-u-s-...</td>\n",
       "      <td>101</td>\n",
       "      <td>10</td>\n",
       "      <td>393</td>\n",
       "      <td>0.518817</td>\n",
       "      <td>1.0</td>\n",
       "      <td>0.596899</td>\n",
       "      <td>14</td>\n",
       "      <td>1</td>\n",
       "      <td>1</td>\n",
       "      <td>...</td>\n",
       "      <td>0.250000</td>\n",
       "      <td>0.8</td>\n",
       "      <td>-0.312500</td>\n",
       "      <td>-0.500000</td>\n",
       "      <td>-0.250000</td>\n",
       "      <td>0.500000</td>\n",
       "      <td>0.000000</td>\n",
       "      <td>0.000000</td>\n",
       "      <td>0.000000</td>\n",
       "      <td>23700</td>\n",
       "    </tr>\n",
       "    <tr>\n",
       "      <th>2</th>\n",
       "      <td>http://mashable.com/2014/09/28/once-upon-a-tim...</td>\n",
       "      <td>101</td>\n",
       "      <td>13</td>\n",
       "      <td>1643</td>\n",
       "      <td>0.388854</td>\n",
       "      <td>1.0</td>\n",
       "      <td>0.546967</td>\n",
       "      <td>29</td>\n",
       "      <td>4</td>\n",
       "      <td>7</td>\n",
       "      <td>...</td>\n",
       "      <td>0.033333</td>\n",
       "      <td>0.8</td>\n",
       "      <td>-0.227778</td>\n",
       "      <td>-0.800000</td>\n",
       "      <td>-0.050000</td>\n",
       "      <td>0.000000</td>\n",
       "      <td>0.000000</td>\n",
       "      <td>0.500000</td>\n",
       "      <td>0.000000</td>\n",
       "      <td>8400</td>\n",
       "    </tr>\n",
       "    <tr>\n",
       "      <th>3</th>\n",
       "      <td>http://mashable.com/2014/09/28/the-simpsons-de...</td>\n",
       "      <td>101</td>\n",
       "      <td>9</td>\n",
       "      <td>272</td>\n",
       "      <td>0.488889</td>\n",
       "      <td>1.0</td>\n",
       "      <td>0.512690</td>\n",
       "      <td>2</td>\n",
       "      <td>2</td>\n",
       "      <td>11</td>\n",
       "      <td>...</td>\n",
       "      <td>0.100000</td>\n",
       "      <td>1.0</td>\n",
       "      <td>-0.416667</td>\n",
       "      <td>-1.000000</td>\n",
       "      <td>-0.166667</td>\n",
       "      <td>0.000000</td>\n",
       "      <td>0.000000</td>\n",
       "      <td>0.500000</td>\n",
       "      <td>0.000000</td>\n",
       "      <td>4800</td>\n",
       "    </tr>\n",
       "    <tr>\n",
       "      <th>4</th>\n",
       "      <td>http://mashable.com/2014/09/28/viola-davis-les...</td>\n",
       "      <td>101</td>\n",
       "      <td>12</td>\n",
       "      <td>0</td>\n",
       "      <td>0.000000</td>\n",
       "      <td>0.0</td>\n",
       "      <td>0.000000</td>\n",
       "      <td>0</td>\n",
       "      <td>0</td>\n",
       "      <td>0</td>\n",
       "      <td>...</td>\n",
       "      <td>0.000000</td>\n",
       "      <td>0.0</td>\n",
       "      <td>0.000000</td>\n",
       "      <td>0.000000</td>\n",
       "      <td>0.000000</td>\n",
       "      <td>0.541071</td>\n",
       "      <td>0.067560</td>\n",
       "      <td>0.041071</td>\n",
       "      <td>0.067560</td>\n",
       "      <td>3100</td>\n",
       "    </tr>\n",
       "  </tbody>\n",
       "</table>\n",
       "<p>5 rows × 61 columns</p>\n",
       "</div>"
      ],
      "text/plain": [
       "                                                 url  timedelta  \\\n",
       "0  http://mashable.com/2014/09/28/jobs-tech-workers/        101   \n",
       "1  http://mashable.com/2014/09/28/obama-says-u-s-...        101   \n",
       "2  http://mashable.com/2014/09/28/once-upon-a-tim...        101   \n",
       "3  http://mashable.com/2014/09/28/the-simpsons-de...        101   \n",
       "4  http://mashable.com/2014/09/28/viola-davis-les...        101   \n",
       "\n",
       "   n_tokens_title  n_tokens_content  n_unique_tokens  n_non_stop_words  \\\n",
       "0              12               332         0.528481               1.0   \n",
       "1              10               393         0.518817               1.0   \n",
       "2              13              1643         0.388854               1.0   \n",
       "3               9               272         0.488889               1.0   \n",
       "4              12                 0         0.000000               0.0   \n",
       "\n",
       "   n_non_stop_unique_tokens  num_hrefs  num_self_hrefs  num_imgs  ...  \\\n",
       "0                  0.645833          6               3         1  ...   \n",
       "1                  0.596899         14               1         1  ...   \n",
       "2                  0.546967         29               4         7  ...   \n",
       "3                  0.512690          2               2        11  ...   \n",
       "4                  0.000000          0               0         0  ...   \n",
       "\n",
       "   min_positive_polarity  max_positive_polarity  avg_negative_polarity  \\\n",
       "0               0.100000                    0.7              -0.145833   \n",
       "1               0.250000                    0.8              -0.312500   \n",
       "2               0.033333                    0.8              -0.227778   \n",
       "3               0.100000                    1.0              -0.416667   \n",
       "4               0.000000                    0.0               0.000000   \n",
       "\n",
       "   min_negative_polarity  max_negative_polarity  title_subjectivity  \\\n",
       "0              -0.166667              -0.125000            0.718182   \n",
       "1              -0.500000              -0.250000            0.500000   \n",
       "2              -0.800000              -0.050000            0.000000   \n",
       "3              -1.000000              -0.166667            0.000000   \n",
       "4               0.000000               0.000000            0.541071   \n",
       "\n",
       "   title_sentiment_polarity  abs_title_subjectivity  \\\n",
       "0                  0.137121                0.218182   \n",
       "1                  0.000000                0.000000   \n",
       "2                  0.000000                0.500000   \n",
       "3                  0.000000                0.500000   \n",
       "4                  0.067560                0.041071   \n",
       "\n",
       "   abs_title_sentiment_polarity  shares  \n",
       "0                      0.137121    8600  \n",
       "1                      0.000000   23700  \n",
       "2                      0.000000    8400  \n",
       "3                      0.000000    4800  \n",
       "4                      0.067560    3100  \n",
       "\n",
       "[5 rows x 61 columns]"
      ]
     },
     "execution_count": 2,
     "metadata": {},
     "output_type": "execute_result"
    }
   ],
   "source": [
    "df = pd.read_csv('OnlineNewsPopularityReduced.csv', sep =',')\n",
    "df.head()"
   ]
  },
  {
   "cell_type": "code",
   "execution_count": 3,
   "id": "498636a0-197e-448e-8d89-f662eb820739",
   "metadata": {},
   "outputs": [
    {
     "name": "stdout",
     "output_type": "stream",
     "text": [
      "<class 'pandas.core.frame.DataFrame'>\n",
      "RangeIndex: 4954 entries, 0 to 4953\n",
      "Data columns (total 61 columns):\n",
      " #   Column                         Non-Null Count  Dtype  \n",
      "---  ------                         --------------  -----  \n",
      " 0   url                            4954 non-null   object \n",
      " 1   timedelta                      4954 non-null   int64  \n",
      " 2   n_tokens_title                 4954 non-null   int64  \n",
      " 3   n_tokens_content               4954 non-null   int64  \n",
      " 4   n_unique_tokens                4954 non-null   float64\n",
      " 5   n_non_stop_words               4954 non-null   float64\n",
      " 6   n_non_stop_unique_tokens       4954 non-null   float64\n",
      " 7   num_hrefs                      4954 non-null   int64  \n",
      " 8   num_self_hrefs                 4954 non-null   int64  \n",
      " 9   num_imgs                       4954 non-null   int64  \n",
      " 10  num_videos                     4954 non-null   int64  \n",
      " 11  average_token_length           4954 non-null   float64\n",
      " 12  num_keywords                   4954 non-null   int64  \n",
      " 13  data_channel_is_lifestyle      4954 non-null   int64  \n",
      " 14  data_channel_is_entertainment  4954 non-null   int64  \n",
      " 15  data_channel_is_bus            4954 non-null   int64  \n",
      " 16  data_channel_is_socmed         4954 non-null   int64  \n",
      " 17  data_channel_is_tech           4954 non-null   int64  \n",
      " 18  data_channel_is_world          4954 non-null   int64  \n",
      " 19  kw_min_min                     4954 non-null   int64  \n",
      " 20  kw_max_min                     4954 non-null   float64\n",
      " 21  kw_avg_min                     4954 non-null   float64\n",
      " 22  kw_min_max                     4954 non-null   int64  \n",
      " 23  kw_max_max                     4954 non-null   int64  \n",
      " 24  kw_avg_max                     4954 non-null   float64\n",
      " 25  kw_min_avg                     4954 non-null   float64\n",
      " 26  kw_max_avg                     4954 non-null   float64\n",
      " 27  kw_avg_avg                     4954 non-null   float64\n",
      " 28  self_reference_min_shares      4954 non-null   float64\n",
      " 29  self_reference_max_shares      4954 non-null   int64  \n",
      " 30  self_reference_avg_sharess     4954 non-null   float64\n",
      " 31  weekday_is_monday              4954 non-null   int64  \n",
      " 32  weekday_is_tuesday             4954 non-null   int64  \n",
      " 33  weekday_is_wednesday           4954 non-null   int64  \n",
      " 34  weekday_is_thursday            4954 non-null   int64  \n",
      " 35  weekday_is_friday              4954 non-null   int64  \n",
      " 36  weekday_is_saturday            4954 non-null   int64  \n",
      " 37  weekday_is_sunday              4954 non-null   int64  \n",
      " 38  is_weekend                     4954 non-null   int64  \n",
      " 39  LDA_00                         4954 non-null   float64\n",
      " 40  LDA_01                         4954 non-null   float64\n",
      " 41  LDA_02                         4954 non-null   float64\n",
      " 42  LDA_03                         4954 non-null   float64\n",
      " 43  LDA_04                         4954 non-null   float64\n",
      " 44  global_subjectivity            4954 non-null   float64\n",
      " 45  global_sentiment_polarity      4954 non-null   float64\n",
      " 46  global_rate_positive_words     4954 non-null   float64\n",
      " 47  global_rate_negative_words     4954 non-null   float64\n",
      " 48  rate_positive_words            4954 non-null   float64\n",
      " 49  rate_negative_words            4954 non-null   float64\n",
      " 50  avg_positive_polarity          4954 non-null   float64\n",
      " 51  min_positive_polarity          4954 non-null   float64\n",
      " 52  max_positive_polarity          4954 non-null   float64\n",
      " 53  avg_negative_polarity          4954 non-null   float64\n",
      " 54  min_negative_polarity          4954 non-null   float64\n",
      " 55  max_negative_polarity          4954 non-null   float64\n",
      " 56  title_subjectivity             4954 non-null   float64\n",
      " 57  title_sentiment_polarity       4954 non-null   float64\n",
      " 58  abs_title_subjectivity         4954 non-null   float64\n",
      " 59  abs_title_sentiment_polarity   4954 non-null   float64\n",
      " 60  shares                         4954 non-null   int64  \n",
      "dtypes: float64(33), int64(27), object(1)\n",
      "memory usage: 2.3+ MB\n"
     ]
    }
   ],
   "source": [
    "df.info()"
   ]
  },
  {
   "cell_type": "code",
   "execution_count": 4,
   "id": "b84e9dac-a53f-4ba7-91d2-79f3848773bd",
   "metadata": {},
   "outputs": [
    {
     "data": {
      "text/html": [
       "<div>\n",
       "<style scoped>\n",
       "    .dataframe tbody tr th:only-of-type {\n",
       "        vertical-align: middle;\n",
       "    }\n",
       "\n",
       "    .dataframe tbody tr th {\n",
       "        vertical-align: top;\n",
       "    }\n",
       "\n",
       "    .dataframe thead th {\n",
       "        text-align: right;\n",
       "    }\n",
       "</style>\n",
       "<table border=\"1\" class=\"dataframe\">\n",
       "  <thead>\n",
       "    <tr style=\"text-align: right;\">\n",
       "      <th></th>\n",
       "      <th>url</th>\n",
       "      <th>timedelta</th>\n",
       "      <th>n_tokens_title</th>\n",
       "      <th>n_tokens_content</th>\n",
       "      <th>n_unique_tokens</th>\n",
       "      <th>n_non_stop_words</th>\n",
       "      <th>n_non_stop_unique_tokens</th>\n",
       "      <th>num_hrefs</th>\n",
       "      <th>num_self_hrefs</th>\n",
       "      <th>num_imgs</th>\n",
       "      <th>...</th>\n",
       "      <th>min_positive_polarity</th>\n",
       "      <th>max_positive_polarity</th>\n",
       "      <th>avg_negative_polarity</th>\n",
       "      <th>min_negative_polarity</th>\n",
       "      <th>max_negative_polarity</th>\n",
       "      <th>title_subjectivity</th>\n",
       "      <th>title_sentiment_polarity</th>\n",
       "      <th>abs_title_subjectivity</th>\n",
       "      <th>abs_title_sentiment_polarity</th>\n",
       "      <th>shares</th>\n",
       "    </tr>\n",
       "  </thead>\n",
       "  <tbody>\n",
       "    <tr>\n",
       "      <th>count</th>\n",
       "      <td>4954</td>\n",
       "      <td>4954.000000</td>\n",
       "      <td>4954.000000</td>\n",
       "      <td>4954.000000</td>\n",
       "      <td>4954.000000</td>\n",
       "      <td>4954.000000</td>\n",
       "      <td>4954.000000</td>\n",
       "      <td>4954.000000</td>\n",
       "      <td>4954.000000</td>\n",
       "      <td>4954.000000</td>\n",
       "      <td>...</td>\n",
       "      <td>4954.000000</td>\n",
       "      <td>4954.000000</td>\n",
       "      <td>4954.000000</td>\n",
       "      <td>4954.000000</td>\n",
       "      <td>4954.000000</td>\n",
       "      <td>4954.000000</td>\n",
       "      <td>4954.000000</td>\n",
       "      <td>4954.000000</td>\n",
       "      <td>4954.000000</td>\n",
       "      <td>4954.000000</td>\n",
       "    </tr>\n",
       "    <tr>\n",
       "      <th>unique</th>\n",
       "      <td>4954</td>\n",
       "      <td>NaN</td>\n",
       "      <td>NaN</td>\n",
       "      <td>NaN</td>\n",
       "      <td>NaN</td>\n",
       "      <td>NaN</td>\n",
       "      <td>NaN</td>\n",
       "      <td>NaN</td>\n",
       "      <td>NaN</td>\n",
       "      <td>NaN</td>\n",
       "      <td>...</td>\n",
       "      <td>NaN</td>\n",
       "      <td>NaN</td>\n",
       "      <td>NaN</td>\n",
       "      <td>NaN</td>\n",
       "      <td>NaN</td>\n",
       "      <td>NaN</td>\n",
       "      <td>NaN</td>\n",
       "      <td>NaN</td>\n",
       "      <td>NaN</td>\n",
       "      <td>NaN</td>\n",
       "    </tr>\n",
       "    <tr>\n",
       "      <th>top</th>\n",
       "      <td>http://mashable.com/2014/09/28/jobs-tech-workers/</td>\n",
       "      <td>NaN</td>\n",
       "      <td>NaN</td>\n",
       "      <td>NaN</td>\n",
       "      <td>NaN</td>\n",
       "      <td>NaN</td>\n",
       "      <td>NaN</td>\n",
       "      <td>NaN</td>\n",
       "      <td>NaN</td>\n",
       "      <td>NaN</td>\n",
       "      <td>...</td>\n",
       "      <td>NaN</td>\n",
       "      <td>NaN</td>\n",
       "      <td>NaN</td>\n",
       "      <td>NaN</td>\n",
       "      <td>NaN</td>\n",
       "      <td>NaN</td>\n",
       "      <td>NaN</td>\n",
       "      <td>NaN</td>\n",
       "      <td>NaN</td>\n",
       "      <td>NaN</td>\n",
       "    </tr>\n",
       "    <tr>\n",
       "      <th>freq</th>\n",
       "      <td>1</td>\n",
       "      <td>NaN</td>\n",
       "      <td>NaN</td>\n",
       "      <td>NaN</td>\n",
       "      <td>NaN</td>\n",
       "      <td>NaN</td>\n",
       "      <td>NaN</td>\n",
       "      <td>NaN</td>\n",
       "      <td>NaN</td>\n",
       "      <td>NaN</td>\n",
       "      <td>...</td>\n",
       "      <td>NaN</td>\n",
       "      <td>NaN</td>\n",
       "      <td>NaN</td>\n",
       "      <td>NaN</td>\n",
       "      <td>NaN</td>\n",
       "      <td>NaN</td>\n",
       "      <td>NaN</td>\n",
       "      <td>NaN</td>\n",
       "      <td>NaN</td>\n",
       "      <td>NaN</td>\n",
       "    </tr>\n",
       "    <tr>\n",
       "      <th>mean</th>\n",
       "      <td>NaN</td>\n",
       "      <td>49.628381</td>\n",
       "      <td>11.201857</td>\n",
       "      <td>550.405733</td>\n",
       "      <td>0.478429</td>\n",
       "      <td>0.901494</td>\n",
       "      <td>0.616601</td>\n",
       "      <td>10.355874</td>\n",
       "      <td>2.677634</td>\n",
       "      <td>3.572467</td>\n",
       "      <td>...</td>\n",
       "      <td>0.086668</td>\n",
       "      <td>0.696986</td>\n",
       "      <td>-0.251748</td>\n",
       "      <td>-0.527945</td>\n",
       "      <td>-0.097392</td>\n",
       "      <td>0.295246</td>\n",
       "      <td>0.062419</td>\n",
       "      <td>0.338684</td>\n",
       "      <td>0.160434</td>\n",
       "      <td>3340.911183</td>\n",
       "    </tr>\n",
       "    <tr>\n",
       "      <th>std</th>\n",
       "      <td>NaN</td>\n",
       "      <td>22.589941</td>\n",
       "      <td>2.182106</td>\n",
       "      <td>457.900604</td>\n",
       "      <td>0.180073</td>\n",
       "      <td>0.298028</td>\n",
       "      <td>0.220690</td>\n",
       "      <td>12.529856</td>\n",
       "      <td>3.402775</td>\n",
       "      <td>5.979075</td>\n",
       "      <td>...</td>\n",
       "      <td>0.069650</td>\n",
       "      <td>0.305969</td>\n",
       "      <td>0.140502</td>\n",
       "      <td>0.317784</td>\n",
       "      <td>0.095186</td>\n",
       "      <td>0.328431</td>\n",
       "      <td>0.272434</td>\n",
       "      <td>0.187267</td>\n",
       "      <td>0.228852</td>\n",
       "      <td>9182.718830</td>\n",
       "    </tr>\n",
       "    <tr>\n",
       "      <th>min</th>\n",
       "      <td>NaN</td>\n",
       "      <td>8.000000</td>\n",
       "      <td>3.000000</td>\n",
       "      <td>0.000000</td>\n",
       "      <td>0.000000</td>\n",
       "      <td>0.000000</td>\n",
       "      <td>0.000000</td>\n",
       "      <td>0.000000</td>\n",
       "      <td>0.000000</td>\n",
       "      <td>0.000000</td>\n",
       "      <td>...</td>\n",
       "      <td>0.000000</td>\n",
       "      <td>0.000000</td>\n",
       "      <td>-1.000000</td>\n",
       "      <td>-1.000000</td>\n",
       "      <td>-1.000000</td>\n",
       "      <td>0.000000</td>\n",
       "      <td>-1.000000</td>\n",
       "      <td>0.000000</td>\n",
       "      <td>0.000000</td>\n",
       "      <td>5.000000</td>\n",
       "    </tr>\n",
       "    <tr>\n",
       "      <th>25%</th>\n",
       "      <td>NaN</td>\n",
       "      <td>30.000000</td>\n",
       "      <td>10.000000</td>\n",
       "      <td>256.000000</td>\n",
       "      <td>0.445631</td>\n",
       "      <td>1.000000</td>\n",
       "      <td>0.608315</td>\n",
       "      <td>3.000000</td>\n",
       "      <td>1.000000</td>\n",
       "      <td>1.000000</td>\n",
       "      <td>...</td>\n",
       "      <td>0.050000</td>\n",
       "      <td>0.500000</td>\n",
       "      <td>-0.331006</td>\n",
       "      <td>-0.800000</td>\n",
       "      <td>-0.125000</td>\n",
       "      <td>0.000000</td>\n",
       "      <td>0.000000</td>\n",
       "      <td>0.166667</td>\n",
       "      <td>0.000000</td>\n",
       "      <td>945.250000</td>\n",
       "    </tr>\n",
       "    <tr>\n",
       "      <th>50%</th>\n",
       "      <td>NaN</td>\n",
       "      <td>50.000000</td>\n",
       "      <td>11.000000</td>\n",
       "      <td>436.000000</td>\n",
       "      <td>0.515556</td>\n",
       "      <td>1.000000</td>\n",
       "      <td>0.671141</td>\n",
       "      <td>7.000000</td>\n",
       "      <td>2.000000</td>\n",
       "      <td>1.000000</td>\n",
       "      <td>...</td>\n",
       "      <td>0.100000</td>\n",
       "      <td>0.800000</td>\n",
       "      <td>-0.251427</td>\n",
       "      <td>-0.500000</td>\n",
       "      <td>-0.100000</td>\n",
       "      <td>0.200000</td>\n",
       "      <td>0.000000</td>\n",
       "      <td>0.500000</td>\n",
       "      <td>0.037500</td>\n",
       "      <td>1400.000000</td>\n",
       "    </tr>\n",
       "    <tr>\n",
       "      <th>75%</th>\n",
       "      <td>NaN</td>\n",
       "      <td>68.000000</td>\n",
       "      <td>13.000000</td>\n",
       "      <td>753.750000</td>\n",
       "      <td>0.579986</td>\n",
       "      <td>1.000000</td>\n",
       "      <td>0.731024</td>\n",
       "      <td>13.000000</td>\n",
       "      <td>3.000000</td>\n",
       "      <td>3.000000</td>\n",
       "      <td>...</td>\n",
       "      <td>0.100000</td>\n",
       "      <td>1.000000</td>\n",
       "      <td>-0.178616</td>\n",
       "      <td>-0.300000</td>\n",
       "      <td>-0.050000</td>\n",
       "      <td>0.500000</td>\n",
       "      <td>0.136364</td>\n",
       "      <td>0.500000</td>\n",
       "      <td>0.250000</td>\n",
       "      <td>2700.000000</td>\n",
       "    </tr>\n",
       "    <tr>\n",
       "      <th>max</th>\n",
       "      <td>NaN</td>\n",
       "      <td>101.000000</td>\n",
       "      <td>23.000000</td>\n",
       "      <td>6159.000000</td>\n",
       "      <td>1.000000</td>\n",
       "      <td>1.000000</td>\n",
       "      <td>1.000000</td>\n",
       "      <td>304.000000</td>\n",
       "      <td>65.000000</td>\n",
       "      <td>77.000000</td>\n",
       "      <td>...</td>\n",
       "      <td>1.000000</td>\n",
       "      <td>1.000000</td>\n",
       "      <td>0.000000</td>\n",
       "      <td>0.000000</td>\n",
       "      <td>0.000000</td>\n",
       "      <td>1.000000</td>\n",
       "      <td>1.000000</td>\n",
       "      <td>0.500000</td>\n",
       "      <td>1.000000</td>\n",
       "      <td>284700.000000</td>\n",
       "    </tr>\n",
       "  </tbody>\n",
       "</table>\n",
       "<p>11 rows × 61 columns</p>\n",
       "</div>"
      ],
      "text/plain": [
       "                                                      url    timedelta  \\\n",
       "count                                                4954  4954.000000   \n",
       "unique                                               4954          NaN   \n",
       "top     http://mashable.com/2014/09/28/jobs-tech-workers/          NaN   \n",
       "freq                                                    1          NaN   \n",
       "mean                                                  NaN    49.628381   \n",
       "std                                                   NaN    22.589941   \n",
       "min                                                   NaN     8.000000   \n",
       "25%                                                   NaN    30.000000   \n",
       "50%                                                   NaN    50.000000   \n",
       "75%                                                   NaN    68.000000   \n",
       "max                                                   NaN   101.000000   \n",
       "\n",
       "        n_tokens_title  n_tokens_content  n_unique_tokens  n_non_stop_words  \\\n",
       "count      4954.000000       4954.000000      4954.000000       4954.000000   \n",
       "unique             NaN               NaN              NaN               NaN   \n",
       "top                NaN               NaN              NaN               NaN   \n",
       "freq               NaN               NaN              NaN               NaN   \n",
       "mean         11.201857        550.405733         0.478429          0.901494   \n",
       "std           2.182106        457.900604         0.180073          0.298028   \n",
       "min           3.000000          0.000000         0.000000          0.000000   \n",
       "25%          10.000000        256.000000         0.445631          1.000000   \n",
       "50%          11.000000        436.000000         0.515556          1.000000   \n",
       "75%          13.000000        753.750000         0.579986          1.000000   \n",
       "max          23.000000       6159.000000         1.000000          1.000000   \n",
       "\n",
       "        n_non_stop_unique_tokens    num_hrefs  num_self_hrefs     num_imgs  \\\n",
       "count                4954.000000  4954.000000     4954.000000  4954.000000   \n",
       "unique                       NaN          NaN             NaN          NaN   \n",
       "top                          NaN          NaN             NaN          NaN   \n",
       "freq                         NaN          NaN             NaN          NaN   \n",
       "mean                    0.616601    10.355874        2.677634     3.572467   \n",
       "std                     0.220690    12.529856        3.402775     5.979075   \n",
       "min                     0.000000     0.000000        0.000000     0.000000   \n",
       "25%                     0.608315     3.000000        1.000000     1.000000   \n",
       "50%                     0.671141     7.000000        2.000000     1.000000   \n",
       "75%                     0.731024    13.000000        3.000000     3.000000   \n",
       "max                     1.000000   304.000000       65.000000    77.000000   \n",
       "\n",
       "        ...  min_positive_polarity  max_positive_polarity  \\\n",
       "count   ...            4954.000000            4954.000000   \n",
       "unique  ...                    NaN                    NaN   \n",
       "top     ...                    NaN                    NaN   \n",
       "freq    ...                    NaN                    NaN   \n",
       "mean    ...               0.086668               0.696986   \n",
       "std     ...               0.069650               0.305969   \n",
       "min     ...               0.000000               0.000000   \n",
       "25%     ...               0.050000               0.500000   \n",
       "50%     ...               0.100000               0.800000   \n",
       "75%     ...               0.100000               1.000000   \n",
       "max     ...               1.000000               1.000000   \n",
       "\n",
       "        avg_negative_polarity  min_negative_polarity  max_negative_polarity  \\\n",
       "count             4954.000000            4954.000000            4954.000000   \n",
       "unique                    NaN                    NaN                    NaN   \n",
       "top                       NaN                    NaN                    NaN   \n",
       "freq                      NaN                    NaN                    NaN   \n",
       "mean                -0.251748              -0.527945              -0.097392   \n",
       "std                  0.140502               0.317784               0.095186   \n",
       "min                 -1.000000              -1.000000              -1.000000   \n",
       "25%                 -0.331006              -0.800000              -0.125000   \n",
       "50%                 -0.251427              -0.500000              -0.100000   \n",
       "75%                 -0.178616              -0.300000              -0.050000   \n",
       "max                  0.000000               0.000000               0.000000   \n",
       "\n",
       "        title_subjectivity  title_sentiment_polarity  abs_title_subjectivity  \\\n",
       "count          4954.000000               4954.000000             4954.000000   \n",
       "unique                 NaN                       NaN                     NaN   \n",
       "top                    NaN                       NaN                     NaN   \n",
       "freq                   NaN                       NaN                     NaN   \n",
       "mean              0.295246                  0.062419                0.338684   \n",
       "std               0.328431                  0.272434                0.187267   \n",
       "min               0.000000                 -1.000000                0.000000   \n",
       "25%               0.000000                  0.000000                0.166667   \n",
       "50%               0.200000                  0.000000                0.500000   \n",
       "75%               0.500000                  0.136364                0.500000   \n",
       "max               1.000000                  1.000000                0.500000   \n",
       "\n",
       "        abs_title_sentiment_polarity         shares  \n",
       "count                    4954.000000    4954.000000  \n",
       "unique                           NaN            NaN  \n",
       "top                              NaN            NaN  \n",
       "freq                             NaN            NaN  \n",
       "mean                        0.160434    3340.911183  \n",
       "std                         0.228852    9182.718830  \n",
       "min                         0.000000       5.000000  \n",
       "25%                         0.000000     945.250000  \n",
       "50%                         0.037500    1400.000000  \n",
       "75%                         0.250000    2700.000000  \n",
       "max                         1.000000  284700.000000  \n",
       "\n",
       "[11 rows x 61 columns]"
      ]
     },
     "execution_count": 4,
     "metadata": {},
     "output_type": "execute_result"
    }
   ],
   "source": [
    "df.describe(include = 'all')"
   ]
  },
  {
   "cell_type": "code",
   "execution_count": 5,
   "id": "fd5747e2-0d58-4b8d-b642-0a7fa226e5cf",
   "metadata": {},
   "outputs": [
    {
     "data": {
      "text/plain": [
       "timedelta                        0.076906\n",
       "n_tokens_title                   0.028713\n",
       "n_tokens_content                -0.069169\n",
       "n_unique_tokens                 -0.076965\n",
       "n_non_stop_words                -0.110147\n",
       "n_non_stop_unique_tokens        -0.095301\n",
       "num_hrefs                       -0.011228\n",
       "num_self_hrefs                  -0.025997\n",
       "num_imgs                         0.017732\n",
       "num_videos                      -0.013238\n",
       "average_token_length            -0.114058\n",
       "num_keywords                     0.041860\n",
       "data_channel_is_lifestyle       -0.014671\n",
       "data_channel_is_entertainment   -0.019967\n",
       "data_channel_is_bus             -0.029795\n",
       "data_channel_is_socmed          -0.006927\n",
       "data_channel_is_tech            -0.018027\n",
       "data_channel_is_world           -0.065362\n",
       "kw_min_min                            NaN\n",
       "kw_max_min                       0.026138\n",
       "kw_avg_min                       0.024942\n",
       "kw_min_max                       0.020489\n",
       "kw_max_max                      -0.000828\n",
       "kw_avg_max                       0.092301\n",
       "kw_min_avg                       0.063257\n",
       "kw_max_avg                       0.079735\n",
       "kw_avg_avg                       0.148997\n",
       "self_reference_min_shares        0.012535\n",
       "self_reference_max_shares        0.016788\n",
       "self_reference_avg_sharess       0.021550\n",
       "weekday_is_monday               -0.000230\n",
       "weekday_is_tuesday              -0.005897\n",
       "weekday_is_wednesday            -0.018870\n",
       "weekday_is_thursday              0.005255\n",
       "weekday_is_friday                0.001839\n",
       "weekday_is_saturday              0.004019\n",
       "weekday_is_sunday                0.023973\n",
       "is_weekend                       0.020863\n",
       "LDA_00                          -0.034826\n",
       "LDA_01                           0.015810\n",
       "LDA_02                          -0.092161\n",
       "LDA_03                           0.119614\n",
       "LDA_04                          -0.015973\n",
       "global_subjectivity             -0.059563\n",
       "global_sentiment_polarity       -0.007629\n",
       "global_rate_positive_words      -0.056291\n",
       "global_rate_negative_words      -0.069532\n",
       "rate_positive_words             -0.074023\n",
       "rate_negative_words             -0.087448\n",
       "avg_positive_polarity           -0.069152\n",
       "min_positive_polarity           -0.015503\n",
       "max_positive_polarity           -0.067267\n",
       "avg_negative_polarity            0.049730\n",
       "min_negative_polarity            0.064656\n",
       "max_negative_polarity            0.005174\n",
       "title_subjectivity               0.001061\n",
       "title_sentiment_polarity         0.022197\n",
       "abs_title_subjectivity          -0.000171\n",
       "abs_title_sentiment_polarity     0.009206\n",
       "shares                           1.000000\n",
       "dtype: float64"
      ]
     },
     "execution_count": 5,
     "metadata": {},
     "output_type": "execute_result"
    }
   ],
   "source": [
    "df.corrwith(df[\"shares\"])"
   ]
  },
  {
   "cell_type": "code",
   "execution_count": 6,
   "id": "55a4eecb-c049-4344-873f-398d994d209d",
   "metadata": {},
   "outputs": [],
   "source": [
    "df = df.drop(columns = ['url'])"
   ]
  },
  {
   "cell_type": "code",
   "execution_count": 7,
   "id": "14d8db11-9b7d-42c4-b386-680fc88586d6",
   "metadata": {},
   "outputs": [
    {
     "data": {
      "image/png": "[encoded data removed]",
      "text/plain": [
       "<Figure size 842.4x595.44 with 1 Axes>"
      ]
     },
     "metadata": {},
     "output_type": "display_data"
    }
   ],
   "source": [
    "sns.kdeplot(df.shares);"
   ]
  },
  {
   "cell_type": "code",
   "execution_count": 8,
   "id": "55943413-85ee-41bf-9d11-9ed3caa2f434",
   "metadata": {},
   "outputs": [
    {
     "name": "stdout",
     "output_type": "stream",
     "text": [
      "972.9481369867426\n",
      "5.333305534977436e-212\n"
     ]
    }
   ],
   "source": [
    "from scipy.stats import normaltest\n",
    "\n",
    "df['shares_log'] = np.log(df.shares)\n",
    "stat, p = normaltest(df.shares_log)\n",
    "df = df.drop(columns = ['shares'])\n",
    "print(stat)\n",
    "print(p)"
   ]
  },
  {
   "cell_type": "markdown",
   "id": "0554eefd-665e-4af6-8d06-9ac82c702bc6",
   "metadata": {},
   "source": [
    "    1.2. Разбейте набор данных на обучающую и валидационную выборки с помощью функции train_test_split."
   ]
  },
  {
   "cell_type": "code",
   "execution_count": 9,
   "id": "ea4e148d-decd-4f79-8954-c0ae0d22cc63",
   "metadata": {},
   "outputs": [],
   "source": [
    "# from sklearn.preprocessing import StandardScaler\n",
    "# scaler = StandardScaler()\n",
    "\n",
    "X = df.drop(columns = ['shares_log'])\n",
    "y = df['shares_log']\n",
    "\n",
    "# X_1 = scaler.fit_transform(X)\n",
    "# X_1"
   ]
  },
  {
   "cell_type": "code",
   "execution_count": 10,
   "id": "9fb1063a-bcd1-4666-9b57-57d756b4c193",
   "metadata": {},
   "outputs": [],
   "source": [
    "from sklearn.model_selection import train_test_split\n",
    "\n",
    "X_train, X_test, y_train, y_test = train_test_split(X, y, test_size=0.25, random_state=42)"
   ]
  },
  {
   "cell_type": "markdown",
   "id": "1e6c7564-557f-438f-a9e1-e846fff33ea9",
   "metadata": {},
   "source": [
    "    1.3. Обучите алгоритм классификации DecisionTreeClassifier или регрессии DecisionTreeRegressor."
   ]
  },
  {
   "cell_type": "code",
   "execution_count": 11,
   "id": "66552fdb-8a24-4b8e-88a0-e57cdb59b701",
   "metadata": {},
   "outputs": [
    {
     "data": {
      "text/plain": [
       "1.1817874026909252"
      ]
     },
     "execution_count": 11,
     "metadata": {},
     "output_type": "execute_result"
    }
   ],
   "source": [
    "from sklearn.tree import DecisionTreeRegressor\n",
    "from sklearn.metrics import mean_squared_error\n",
    "\n",
    "tree = DecisionTreeRegressor()\n",
    "tree.fit(X_train, y_train)\n",
    "y_pred = tree.predict(X_test)\n",
    "mean_squared_error(y_test, y_pred, squared=False)"
   ]
  },
  {
   "cell_type": "code",
   "execution_count": 12,
   "id": "8dc9bc9c-b2e3-4e38-9c53-cae9889317b3",
   "metadata": {},
   "outputs": [
    {
     "data": {
      "text/plain": [
       "-0.7736362775147039"
      ]
     },
     "execution_count": 12,
     "metadata": {},
     "output_type": "execute_result"
    }
   ],
   "source": [
    "from sklearn.metrics import explained_variance_score\n",
    "explained_variance_score(y_test, y_pred)"
   ]
  },
  {
   "cell_type": "markdown",
   "id": "3faed2f1-866a-45ef-9a02-462d62504d87",
   "metadata": {},
   "source": [
    "    2. НАСТРОЙКА ГИПЕРПАРАМЕТРОВ ДЕРЕВА"
   ]
  },
  {
   "cell_type": "markdown",
   "id": "15fae914-efe6-49f8-b8a7-ceecadf6e865",
   "metadata": {},
   "source": [
    "    2.1. Создайте генератор разбиений, который перемешивает выборку перед созданием блоков (shuffle=True). Число блоков n_splits равно 5. Задайте также парамет рrandom_state для воспроизводимости результатов.\n",
    "    kf = KFold(n_splits=5, shuffle=True, random_state=42)"
   ]
  },
  {
   "cell_type": "code",
   "execution_count": 13,
   "id": "5452ab3b-8585-445d-87bb-b1df76b06741",
   "metadata": {},
   "outputs": [],
   "source": [
    "from sklearn.model_selection import KFold\n",
    "from sklearn.model_selection import cross_val_score\n",
    "\n",
    "kf = KFold(n_splits=5, shuffle=True, random_state=42) # n_splits играет роль K\n",
    "tree = DecisionTreeRegressor()"
   ]
  },
  {
   "cell_type": "code",
   "execution_count": 14,
   "id": "da3dd5a4-d8a8-40c3-b15c-57d5623f13e3",
   "metadata": {},
   "outputs": [
    {
     "name": "stdout",
     "output_type": "stream",
     "text": [
      "Массив значений метрики: [-0.91315556 -0.78265824 -0.45640264 -0.78227104 -0.48376422]\n",
      "Средняя метрика на кросс-валидации: -0.683650340915998\n"
     ]
    }
   ],
   "source": [
    "scores = cross_val_score(tree, X, y, cv=kf, scoring='explained_variance')\n",
    "print('Массив значений метрики:', scores)\n",
    "print('Средняя метрика на кросс-валидации:', np.mean(scores))"
   ]
  },
  {
   "cell_type": "code",
   "execution_count": 15,
   "id": "3f0582bf-2ab0-4cf0-860b-8745960de3c1",
   "metadata": {},
   "outputs": [
    {
     "name": "stdout",
     "output_type": "stream",
     "text": [
      "Массив значений метрики: [-0.84201215 -0.78797697 -0.41969275 -0.7178102  -0.56107821]\n",
      "Средняя метрика на кросс-валидации: -0.665714056961091\n"
     ]
    }
   ],
   "source": [
    "scores = cross_val_score(tree, X, y, cv=kf, scoring='r2')\n",
    "print('Массив значений метрики:', scores)\n",
    "print('Средняя метрика на кросс-валидации:', np.mean(scores))"
   ]
  },
  {
   "cell_type": "code",
   "execution_count": 16,
   "id": "ebc1101e-0dac-4fdc-be3e-d4ff16e43ad4",
   "metadata": {},
   "outputs": [
    {
     "name": "stdout",
     "output_type": "stream",
     "text": [
      "Массив значений метрики: [-1.47601626 -1.37371365 -1.44946999 -1.5164644  -1.34368052]\n",
      "Средняя метрика на кросс-валидации: -1.4318689663817967\n"
     ]
    }
   ],
   "source": [
    "scores = cross_val_score(tree, X, y, cv=kf, scoring='neg_mean_squared_error')\n",
    "print('Массив значений метрики:', scores)\n",
    "print('Средняя метрика на кросс-валидации:', np.mean(scores))"
   ]
  },
  {
   "cell_type": "code",
   "execution_count": 17,
   "id": "ce836861-707c-441e-963c-f0de65676e48",
   "metadata": {},
   "outputs": [
    {
     "name": "stdout",
     "output_type": "stream",
     "text": [
      "Массив значений метрики: [-0.86286238 -0.8640107  -0.85694038 -0.84534455 -0.85679747]\n",
      "Средняя метрика на кросс-валидации: -0.8571910960278494\n"
     ]
    }
   ],
   "source": [
    "scores = cross_val_score(tree, X, y, cv=kf, scoring='neg_mean_absolute_error')\n",
    "print('Массив значений метрики:', scores)\n",
    "print('Средняя метрика на кросс-валидации:', np.mean(scores))"
   ]
  },
  {
   "cell_type": "markdown",
   "id": "3b505e2e-8351-4709-8540-dc3bb0b5d068",
   "metadata": {},
   "source": [
    "Везде ситуация неутешительна, поэтому поменяем гиперпараметры и посмотрим как поменяются результата"
   ]
  },
  {
   "cell_type": "code",
   "execution_count": 18,
   "id": "5feaa1fd-18ea-46da-a8a9-8cbf48a334a2",
   "metadata": {},
   "outputs": [
    {
     "name": "stdout",
     "output_type": "stream",
     "text": [
      "Массив значений метрики: [0.0470648  0.00720947 0.09267636 0.10759893 0.0738944 ]\n",
      "Средняя метрика на кросс-валидации: 0.06568878993864491\n"
     ]
    }
   ],
   "source": [
    "tree = DecisionTreeRegressor(max_depth = 5, max_features = 3)\n",
    "scores = cross_val_score(tree, X, y, cv=kf, scoring='explained_variance')\n",
    "print('Массив значений метрики:', scores)\n",
    "print('Средняя метрика на кросс-валидации:', np.mean(scores))"
   ]
  },
  {
   "cell_type": "code",
   "execution_count": 19,
   "id": "32506580-2aee-468b-820f-2d7785a3d3d0",
   "metadata": {},
   "outputs": [
    {
     "name": "stdout",
     "output_type": "stream",
     "text": [
      "Массив значений метрики: [ 0.04797325 -0.03340226  0.0878771   0.09112154  0.06939223]\n",
      "Средняя метрика на кросс-валидации: 0.052592371793410184\n"
     ]
    }
   ],
   "source": [
    "scores = cross_val_score(tree, X, y, cv=kf, scoring='r2')\n",
    "print('Массив значений метрики:', scores)\n",
    "print('Средняя метрика на кросс-валидации:', np.mean(scores))"
   ]
  },
  {
   "cell_type": "code",
   "execution_count": 20,
   "id": "54c56b88-3c5a-4380-8907-b9641dc11c13",
   "metadata": {},
   "outputs": [
    {
     "name": "stdout",
     "output_type": "stream",
     "text": [
      "Массив значений метрики: [-0.73192002 -0.76735429 -0.86279447 -0.75533449 -0.81365401]\n",
      "Средняя метрика на кросс-валидации: -0.7862114568438955\n"
     ]
    }
   ],
   "source": [
    "scores = cross_val_score(tree, X, y, cv=kf, scoring='neg_mean_squared_error')\n",
    "print('Массив значений метрики:', scores)\n",
    "print('Средняя метрика на кросс-валидации:', np.mean(scores))"
   ]
  },
  {
   "cell_type": "code",
   "execution_count": 21,
   "id": "6eebed27-ad6a-435a-995a-715805cefb50",
   "metadata": {},
   "outputs": [
    {
     "name": "stdout",
     "output_type": "stream",
     "text": [
      "Массив значений метрики: [-0.65518259 -0.62450117 -0.67628084 -0.65300109 -0.70039096]\n",
      "Средняя метрика на кросс-валидации: -0.6618713280070623\n"
     ]
    }
   ],
   "source": [
    "scores = cross_val_score(tree, X, y, cv=kf, scoring='neg_mean_absolute_error')\n",
    "print('Массив значений метрики:', scores)\n",
    "print('Средняя метрика на кросс-валидации:', np.mean(scores))"
   ]
  },
  {
   "cell_type": "markdown",
   "id": "72d901a9-91ea-4682-8c9c-6e528fcbbd96",
   "metadata": {},
   "source": [
    "Ситуация стала лучше. Как видим, можем использовать метрики r2 и explained_variance для данных гиперпараметров.\n",
    "\n",
    "Гиперпараметры улучшили ситуацию в нашей задаче, посмотрим, какие гиперпараметры будут лучшими для дерева решений."
   ]
  },
  {
   "cell_type": "markdown",
   "id": "5891cf3b-5bcc-4849-84c6-ca2fa5ee9aa5",
   "metadata": {},
   "source": [
    "    2.2. Осуществите кросс-валидацию модели для подбора гиперпараметров:\n",
    "    - максимальная глубина дерева max_depth;\n",
    "    - минимальное число объектов для разбиения вомвнутренней вершине min_samples_split;\n",
    "    - минимальное число объектов в листе min_samples_leaf;\n",
    "    - максимальное количество признаков, рассматриваемых при поиске лучшего разбиения max_features"
   ]
  },
  {
   "cell_type": "code",
   "execution_count": 22,
   "id": "15d92671-56fc-4a71-9fa9-63fcf26bc9e0",
   "metadata": {},
   "outputs": [
    {
     "name": "stdout",
     "output_type": "stream",
     "text": [
      "Найлучшее качество модели при {'max_depth': 4}\n",
      "Наилучшая оценка качества модели: 0.1600561934097801\n"
     ]
    }
   ],
   "source": [
    "from sklearn.model_selection import GridSearchCV\n",
    "\n",
    "tree = DecisionTreeRegressor()\n",
    "# tree_params={'max_depth': np.arange(2, 11), 'min_samples_split': np.arange(2,21), 'min_samples_leaf': np.arange(2,11), 'max_features': np.arange(2,16)} # словарь параметров (ключ: набор возможных значений)\n",
    "tree_params_1={'max_depth': np.arange(2, 21)}\n",
    "\n",
    "tree_grid_1 = GridSearchCV(tree, tree_params_1, cv=kf, scoring='explained_variance', n_jobs = -1)\n",
    "tree_grid_1.fit(X_train, y_train)\n",
    "print(\"Найлучшее качество модели при\", tree_grid_1.best_params_)\n",
    "print(\"Наилучшая оценка качества модели:\", tree_grid_1.best_score_)"
   ]
  },
  {
   "cell_type": "code",
   "execution_count": 23,
   "id": "b56af9de-5707-4643-b653-65361fa2d50a",
   "metadata": {},
   "outputs": [
    {
     "name": "stdout",
     "output_type": "stream",
     "text": [
      "Найлучшее качество модели при {'min_samples_split': 5}\n",
      "Наилучшая оценка качества модели: 0.16316033287427362\n"
     ]
    }
   ],
   "source": [
    "tree = DecisionTreeRegressor(max_depth = 4)\n",
    "tree_params_2={'min_samples_split': np.arange(2, 21)}\n",
    "\n",
    "tree_grid_2 = GridSearchCV(tree, tree_params_2, cv=kf, scoring='explained_variance', n_jobs = -1)\n",
    "tree_grid_2.fit(X_train, y_train)\n",
    "print(\"Найлучшее качество модели при\", tree_grid_2.best_params_)\n",
    "print(\"Наилучшая оценка качества модели:\", tree_grid_2.best_score_)"
   ]
  },
  {
   "cell_type": "code",
   "execution_count": 24,
   "id": "40474a7b-5689-47ca-8b25-6c53f7184096",
   "metadata": {},
   "outputs": [
    {
     "name": "stdout",
     "output_type": "stream",
     "text": [
      "Найлучшее качество модели при {'min_samples_leaf': 20}\n",
      "Наилучшая оценка качества модели: 0.17319072975444788\n"
     ]
    }
   ],
   "source": [
    "tree = DecisionTreeRegressor(max_depth = 4, min_samples_split = 5)\n",
    "tree_params_3={'min_samples_leaf': np.arange(2, 21)}\n",
    "\n",
    "tree_grid_3 = GridSearchCV(tree, tree_params_3, cv=kf, scoring='explained_variance', n_jobs = -1)\n",
    "tree_grid_3.fit(X_train, y_train)\n",
    "print(\"Найлучшее качество модели при\", tree_grid_3.best_params_)\n",
    "print(\"Наилучшая оценка качества модели:\", tree_grid_3.best_score_)"
   ]
  },
  {
   "cell_type": "code",
   "execution_count": 25,
   "id": "26c78498-8b5b-45bf-9ab0-d501808f8fce",
   "metadata": {},
   "outputs": [
    {
     "name": "stdout",
     "output_type": "stream",
     "text": [
      "Найлучшее качество модели при {'max_features': 19}\n",
      "Наилучшая оценка качества модели: 0.15797085044334547\n"
     ]
    }
   ],
   "source": [
    "tree = DecisionTreeRegressor(max_depth = 4, min_samples_split = 5, min_samples_leaf = 20)\n",
    "tree_params_4={'max_features': np.arange(2, 21)}\n",
    "\n",
    "tree_grid_4 = GridSearchCV(tree, tree_params_4, cv=kf, scoring='explained_variance', n_jobs = -1)\n",
    "tree_grid_4.fit(X_train, y_train)\n",
    "print(\"Найлучшее качество модели при\", tree_grid_4.best_params_)\n",
    "print(\"Наилучшая оценка качества модели:\", tree_grid_4.best_score_)"
   ]
  },
  {
   "cell_type": "markdown",
   "id": "25c789dc-9764-4898-8e23-9c1108f4ab73",
   "metadata": {},
   "source": [
    "    2.3. Постройте валидационные кривые. Сделайте выводы."
   ]
  },
  {
   "cell_type": "code",
   "execution_count": 26,
   "id": "3230ae1b-e1c6-48a6-ac01-e9af2d084106",
   "metadata": {},
   "outputs": [
    {
     "data": {
      "image/png": "[encoded data removed]",
      "text/plain": [
       "<Figure size 720x720 with 4 Axes>"
      ]
     },
     "metadata": {},
     "output_type": "display_data"
    }
   ],
   "source": [
    "fig, ax = plt.subplots(2, 2, figsize = (10,10))\n",
    "\n",
    "ax[0,0].set_xlabel(\"Max depth\")\n",
    "ax[0,0].set_ylabel(\"Score\")\n",
    "ax[0,0].plot(tree_params_1['max_depth'], tree_grid_1.cv_results_[\"mean_test_score\"]);\n",
    "\n",
    "ax[0,1].set_xlabel(\"Min samples split\")\n",
    "ax[0,1].set_ylabel(\"Score\")\n",
    "ax[0,1].plot(tree_params_2[\"min_samples_split\"], tree_grid_2.cv_results_[\"mean_test_score\"]);\n",
    "\n",
    "ax[1,0].set_xlabel(\"Min samples leaf\")\n",
    "ax[1,0].set_ylabel(\"Score\")\n",
    "ax[1,0].plot(tree_params_3[\"min_samples_leaf\"],tree_grid_3.cv_results_[\"mean_test_score\"]);\n",
    "\n",
    "ax[1,1].set_xlabel(\"Max features\")\n",
    "ax[1,1].set_ylabel(\"Score\")\n",
    "ax[1,1].plot(tree_params_4[\"max_features\"], tree_grid_4.cv_results_[\"mean_test_score\"]);\n"
   ]
  },
  {
   "cell_type": "markdown",
   "id": "587f8e9a-7b53-4922-a908-2f8d01f6369c",
   "metadata": {},
   "source": [
    "    2.4 Постройте графически полученное дерево. Оцените важность признаков."
   ]
  },
  {
   "cell_type": "code",
   "execution_count": 27,
   "id": "79805b25-7c3d-444f-bf5b-7796acdf3e03",
   "metadata": {},
   "outputs": [
    {
     "name": "stdout",
     "output_type": "stream",
     "text": [
      "digraph Tree {\n",
      "node [shape=box] ;\n",
      "0 [label=\"kw_avg_avg <= 3391.229\\nmse = 0.872\\nsamples = 3715\\nvalue = 7.465\"] ;\n",
      "1 [label=\"self_reference_avg_sharess <= 1753.125\\nmse = 0.634\\nsamples = 2410\\nvalue = 7.258\"] ;\n",
      "0 -> 1 [labeldistance=2.5, labelangle=45, headlabel=\"True\"] ;\n",
      "2 [label=\"kw_max_avg <= 3443.824\\nmse = 0.595\\nsamples = 1226\\nvalue = 7.122\"] ;\n",
      "1 -> 2 ;\n",
      "3 [label=\"LDA_03 <= 0.051\\nmse = 0.556\\nsamples = 479\\nvalue = 6.963\"] ;\n",
      "2 -> 3 ;\n",
      "4 [label=\"mse = 0.481\\nsamples = 417\\nvalue = 7.014\"] ;\n",
      "3 -> 4 ;\n",
      "5 [label=\"mse = 0.927\\nsamples = 62\\nvalue = 6.622\"] ;\n",
      "3 -> 5 ;\n",
      "6 [label=\"n_non_stop_unique_tokens <= 0.597\\nmse = 0.594\\nsamples = 747\\nvalue = 7.224\"] ;\n",
      "2 -> 6 ;\n",
      "7 [label=\"mse = 0.858\\nsamples = 146\\nvalue = 7.444\"] ;\n",
      "6 -> 7 ;\n",
      "8 [label=\"mse = 0.515\\nsamples = 601\\nvalue = 7.17\"] ;\n",
      "6 -> 8 ;\n",
      "9 [label=\"timedelta <= 86.5\\nmse = 0.635\\nsamples = 1184\\nvalue = 7.399\"] ;\n",
      "1 -> 9 ;\n",
      "10 [label=\"data_channel_is_tech <= 0.5\\nmse = 0.567\\nsamples = 1153\\nvalue = 7.359\"] ;\n",
      "9 -> 10 ;\n",
      "11 [label=\"mse = 0.572\\nsamples = 880\\nvalue = 7.295\"] ;\n",
      "10 -> 11 ;\n",
      "12 [label=\"mse = 0.499\\nsamples = 273\\nvalue = 7.563\"] ;\n",
      "10 -> 12 ;\n",
      "13 [label=\"mse = 0.784\\nsamples = 31\\nvalue = 8.917\"] ;\n",
      "9 -> 13 ;\n",
      "14 [label=\"timedelta <= 86.5\\nmse = 1.088\\nsamples = 1305\\nvalue = 7.846\"] ;\n",
      "0 -> 14 [labeldistance=2.5, labelangle=-45, headlabel=\"False\"] ;\n",
      "15 [label=\"self_reference_min_shares <= 3450.0\\nmse = 1.051\\nsamples = 1228\\nvalue = 7.779\"] ;\n",
      "14 -> 15 ;\n",
      "16 [label=\"kw_avg_avg <= 5031.198\\nmse = 1.019\\nsamples = 940\\nvalue = 7.705\"] ;\n",
      "15 -> 16 ;\n",
      "17 [label=\"mse = 0.851\\nsamples = 724\\nvalue = 7.618\"] ;\n",
      "16 -> 17 ;\n",
      "18 [label=\"mse = 1.47\\nsamples = 216\\nvalue = 7.995\"] ;\n",
      "16 -> 18 ;\n",
      "19 [label=\"max_positive_polarity <= 0.65\\nmse = 1.079\\nsamples = 288\\nvalue = 8.023\"] ;\n",
      "15 -> 19 ;\n",
      "20 [label=\"mse = 0.89\\nsamples = 80\\nvalue = 7.714\"] ;\n",
      "19 -> 20 ;\n",
      "21 [label=\"mse = 1.1\\nsamples = 208\\nvalue = 8.142\"] ;\n",
      "19 -> 21 ;\n",
      "22 [label=\"kw_max_min <= 833.5\\nmse = 0.47\\nsamples = 77\\nvalue = 8.911\"] ;\n",
      "14 -> 22 ;\n",
      "23 [label=\"rate_negative_words <= 0.278\\nmse = 0.336\\nsamples = 50\\nvalue = 8.775\"] ;\n",
      "22 -> 23 ;\n",
      "24 [label=\"mse = 0.228\\nsamples = 27\\nvalue = 8.638\"] ;\n",
      "23 -> 24 ;\n",
      "25 [label=\"mse = 0.415\\nsamples = 23\\nvalue = 8.936\"] ;\n",
      "23 -> 25 ;\n",
      "26 [label=\"mse = 0.619\\nsamples = 27\\nvalue = 9.163\"] ;\n",
      "22 -> 26 ;\n",
      "}\n"
     ]
    }
   ],
   "source": [
    "from sklearn.tree import export_graphviz\n",
    "tree = DecisionTreeRegressor(max_depth = 4, min_samples_split = 5, min_samples_leaf = 20, max_features = 19)\n",
    "tree.fit(X_train, y_train)\n",
    "\n",
    "export_graphviz(tree, out_file='tree.dot', feature_names=X.columns)\n",
    "print(open('tree.dot').read()) "
   ]
  },
  {
   "attachments": {
    "476037fa-06e4-4420-b5c0-6f6753a5e215.svg": {
     "image/svg+xml": [
      "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"
     ]
    }
   },
   "cell_type": "markdown",
   "id": "9f72b881-6356-46d7-95b9-d970618318ef",
   "metadata": {},
   "source": [
    "![graphviz.svg](attachment:476037fa-06e4-4420-b5c0-6f6753a5e215.svg)"
   ]
  },
  {
   "cell_type": "code",
   "execution_count": 28,
   "id": "d21405b4-2b59-4fdc-bec3-8277d827c38c",
   "metadata": {},
   "outputs": [
    {
     "name": "stdout",
     "output_type": "stream",
     "text": [
      "Feature ranking:\n",
      "1 kw_avg_avg 0.5123198219762476\n",
      "2 timedelta 0.26902811576584185\n",
      "3 self_reference_avg_sharess 0.07521078215824112\n",
      "4 self_reference_min_shares 0.036242827798613805\n",
      "5 kw_max_avg 0.032106244302256996\n",
      "6 data_channel_is_tech 0.02416582266113587\n",
      "7 max_positive_polarity 0.017200166957376355\n",
      "8 n_non_stop_unique_tokens 0.014273318670297776\n",
      "9 LDA_03 0.013399158479511293\n",
      "10 kw_max_min 0.004264973348617846\n"
     ]
    }
   ],
   "source": [
    "features = {'f' + str(i + 1):name for (i, name) in zip(range(len(df.columns)), df.columns)}\n",
    "importances = tree.feature_importances_\n",
    "\n",
    "indices = np.argsort(importances)[:: -1]\n",
    "num_to_plot = 10\n",
    "feature_indices = [ind + 1 for ind in indices[:num_to_plot]]\n",
    "\n",
    "print(\"Feature ranking:\")\n",
    "for f in range(num_to_plot):\n",
    "    print(f + 1, features[\"f\" + str(feature_indices[f])], importances[indices[f]])"
   ]
  },
  {
   "cell_type": "code",
   "execution_count": 29,
   "id": "49480c11-ffcf-4851-9c6f-4310cbc36238",
   "metadata": {},
   "outputs": [
    {
     "data": {
      "image/png": "[encoded data removed]",
      "text/plain": [
       "<Figure size 1080x360 with 1 Axes>"
      ]
     },
     "metadata": {},
     "output_type": "display_data"
    }
   ],
   "source": [
    "plt.figure(figsize=(15,5))\n",
    "plt.title(\"Feature importances\")\n",
    "bars = plt.bar(range(num_to_plot), \n",
    "               importances[indices[:num_to_plot]],\n",
    "               color=([str(i / float(num_to_plot +  1)) for i in range(num_to_plot)]),\n",
    "               align=\"center\")\n",
    "ticks = plt.xticks(range(num_to_plot), \n",
    "                   feature_indices)\n",
    "plt.xlim([-1, num_to_plot])\n",
    "plt.legend(bars, [u''.join(features[\"f\" + str(i)]) for i in feature_indices]);"
   ]
  },
  {
   "cell_type": "markdown",
   "id": "c97df74c-ef4f-4a69-a0f9-479325465303",
   "metadata": {},
   "source": [
    "    3. Случайный лес"
   ]
  },
  {
   "cell_type": "markdown",
   "id": "6c8afcd4-6dba-475f-b852-21299efe4154",
   "metadata": {},
   "source": [
    "    3.1. Постройте модель случайного леса для вашей задачи с гиперпараметрами по умолчанию и оцените качество модели."
   ]
  },
  {
   "cell_type": "code",
   "execution_count": 30,
   "id": "7d43e552-b616-467a-9d86-cec1fdd4b7e3",
   "metadata": {},
   "outputs": [],
   "source": [
    "from sklearn.ensemble import RandomForestRegressor\n",
    "\n",
    "rf = RandomForestRegressor(random_state=42)\n",
    "rf.fit(X_train, y_train)\n",
    "y_pred = rf.predict(X_test)"
   ]
  },
  {
   "cell_type": "code",
   "execution_count": 31,
   "id": "f29e05b5-5b11-4d4e-ab63-c00f66a84df9",
   "metadata": {},
   "outputs": [
    {
     "data": {
      "text/plain": [
       "0.20399176695620336"
      ]
     },
     "execution_count": 31,
     "metadata": {},
     "output_type": "execute_result"
    }
   ],
   "source": [
    "explained_variance_score(y_test, y_pred)"
   ]
  },
  {
   "cell_type": "markdown",
   "id": "6076ff9c-03dd-4e3c-9a58-813acda47e71",
   "metadata": {},
   "source": [
    "    3.2 Осуществите подбор гиперпараметров модели.\n",
    "    • Количество деревьев n_estimators;\n",
    "    • Максимальная глубина дерева max_depth;\n",
    "    • Минимальное число объектов для разбиения во внутренней вершине min_samples_split;\n",
    "    • Минимальное число объектов в листе min_samples_leaf;\n",
    "    • Максимальное количество признаков, рассматриваемых при поиске лучшего разбиения max_features."
   ]
  },
  {
   "cell_type": "code",
   "execution_count": 32,
   "id": "c71423f8-8f21-4639-8739-8cb4ef0b9906",
   "metadata": {},
   "outputs": [
    {
     "name": "stdout",
     "output_type": "stream",
     "text": [
      "Найлучшее качество модели при {'n_estimators': 400}\n",
      "Наилучшая оценка качества модели: 0.22932224974541365\n"
     ]
    }
   ],
   "source": [
    "rf = RandomForestRegressor()\n",
    "rf_params_estimators_1 = {'n_estimators': [100, 150, 200, 250, 300, 350, 400, 450, 500]}\n",
    "rf_grid_estimators_1 = GridSearchCV(rf, rf_params_estimators_1, cv=kf, scoring='explained_variance', n_jobs = -1)\n",
    "rf_grid_estimators_1.fit(X_train, y_train)\n",
    "print(\"Найлучшее качество модели при\", rf_grid_estimators_1.best_params_)\n",
    "print(\"Наилучшая оценка качества модели:\", rf_grid_estimators_1.best_score_)"
   ]
  },
  {
   "cell_type": "code",
   "execution_count": 33,
   "id": "5e9e93d6-8a6a-481f-a27b-75c2f5746c27",
   "metadata": {},
   "outputs": [
    {
     "name": "stdout",
     "output_type": "stream",
     "text": [
      "Найлучшее качество модели при {'max_depth': 9}\n",
      "Наилучшая оценка качества модели: 0.22750419848989417\n"
     ]
    }
   ],
   "source": [
    "rf = RandomForestRegressor(n_estimators = 400)\n",
    "rf_params_estimators_2 = {'max_depth': np.arange(2, 11)}\n",
    "rf_grid_estimators_2 = GridSearchCV(rf, rf_params_estimators_2, cv=kf, scoring='explained_variance', n_jobs = -1)\n",
    "rf_grid_estimators_2.fit(X_train, y_train)\n",
    "print(\"Найлучшее качество модели при\", rf_grid_estimators_2.best_params_)\n",
    "print(\"Наилучшая оценка качества модели:\", rf_grid_estimators_2.best_score_)"
   ]
  },
  {
   "cell_type": "code",
   "execution_count": null,
   "id": "7fbf8704-5f44-4060-9600-987d11dcb799",
   "metadata": {},
   "outputs": [],
   "source": [
    "rf = RandomForestRegressor(n_estimators = 250, max_depth = 9)\n",
    "rf_params_estimators_3 = {'min_samples_split': np.arange(20, 31)}\n",
    "rf_grid_estimators_3 = GridSearchCV(rf, rf_params_estimators_3, cv=kf, scoring='explained_variance', n_jobs = -1)\n",
    "rf_grid_estimators_3.fit(X_train, y_train)\n",
    "print(\"Найлучшее качество модели при\", rf_grid_estimators_3.best_params_)\n",
    "print(\"Наилучшая оценка качества модели:\", rf_grid_estimators_3.best_score_)"
   ]
  },
  {
   "cell_type": "code",
   "execution_count": null,
   "id": "b96b1f97-b706-4016-838b-82abee05c820",
   "metadata": {},
   "outputs": [],
   "source": [
    "rf = RandomForestRegressor(n_estimators = 350, max_depth = 10, min_samples_split = 26)\n",
    "rf_params_estimators_4 = {'min_samples_leaf': np.arange(18, 31)}\n",
    "rf_grid_estimators_4 = GridSearchCV(rf, rf_params_estimators_4, cv=kf, scoring='explained_variance', n_jobs = -1)\n",
    "rf_grid_estimators_4.fit(X_train, y_train)\n",
    "print(\"Найлучшее качество модели при\", rf_grid_estimators_4.best_params_)\n",
    "print(\"Наилучшая оценка качества модели:\", rf_grid_estimators_4.best_score_)"
   ]
  },
  {
   "cell_type": "code",
   "execution_count": null,
   "id": "f429a5b6-0f7f-4151-82f9-dc8bbf416f85",
   "metadata": {},
   "outputs": [],
   "source": [
    "rf = RandomForestRegressor(n_estimators = 350, max_depth = 10, min_samples_split = 19)\n",
    "rf_params_estimators_5 = {'max_features': np.arange(18, 31)}\n",
    "rf_grid_estimators_5 = GridSearchCV(rf, rf_params_estimators_5, cv=kf, scoring='explained_variance', n_jobs = -1)\n",
    "rf_grid_estimators_5.fit(X_train, y_train)\n",
    "print(\"Найлучшее качество модели при\", rf_grid_estimators_5.best_params_)\n",
    "print(\"Наилучшая оценка качества модели:\", rf_grid_estimators_5.best_score_)"
   ]
  },
  {
   "cell_type": "markdown",
   "id": "f8dc11d3-4bbc-441e-967c-92d56cb6171e",
   "metadata": {},
   "source": [
    "    3.3. Постройте валидационные кривые для каждого из гиперпараметров."
   ]
  },
  {
   "cell_type": "code",
   "execution_count": null,
   "id": "b0dd248d-2182-47b0-90e7-39f57fc45c3c",
   "metadata": {},
   "outputs": [],
   "source": [
    "fig, ax = plt.subplots(2, 3, figsize = (20,10))\n",
    "\n",
    "ax[0,0].set_xlabel(\"N estimators\")\n",
    "ax[0,0].set_ylabel(\"Score\")\n",
    "ax[0,0].plot(rf_params_estimators_1['n_estimators'], rf_grid_estimators_1.cv_results_[\"mean_test_score\"]);\n",
    "\n",
    "ax[0,1].set_xlabel(\"Max depth\")\n",
    "ax[0,1].set_ylabel(\"Score\")\n",
    "ax[0,1].plot(rf_params_estimators_2[\"max_depth\"], rf_grid_estimators_2.cv_results_[\"mean_test_score\"]);\n",
    "\n",
    "ax[0,2].set_xlabel(\"Max features\")\n",
    "ax[0,2].set_ylabel(\"Score\")\n",
    "ax[0,2].plot(rf_params_estimators_3[\"min_samples_split\"], rf_grid_estimators_3.cv_results_[\"mean_test_score\"]);\n",
    "\n",
    "ax[1,0].set_xlabel(\"Min samples leaf\")\n",
    "ax[1,0].set_ylabel(\"Score\")\n",
    "ax[1,0].plot(rf_params_estimators_4[\"min_samples_leaf\"], rf_grid_estimators_4.cv_results_[\"mean_test_score\"]);\n",
    "\n",
    "ax[1,1].set_xlabel(\"Max features\")\n",
    "ax[1,1].set_ylabel(\"Score\")\n",
    "ax[1,1].plot(rf_params_estimators_5[\"max_features\"], rf_grid_estimators_5.cv_results_[\"mean_test_score\"]);"
   ]
  },
  {
   "cell_type": "markdown",
   "id": "d82820eb-7138-4366-9c1b-0b42482828ca",
   "metadata": {},
   "source": [
    "    3.4. Оцените важность признаков данной модели. Визуализируйте топ-10 самых полезных признаков."
   ]
  },
  {
   "cell_type": "code",
   "execution_count": null,
   "id": "5e5928ee-cce1-4c63-bf15-49c07e9f6cc6",
   "metadata": {},
   "outputs": [],
   "source": [
    "features = {'f' + str(i + 1):name for (i, name) in zip(range(len(df.columns)), df.columns)}\n",
    "importances = tree.feature_importances_\n",
    "\n",
    "indices = np.argsort(importances)[:: -1]\n",
    "num_to_plot = 10\n",
    "feature_indices = [ind + 1 for ind in indices[:num_to_plot]]\n",
    "\n",
    "print(\"Feature ranking:\")\n",
    "for f in range(num_to_plot):\n",
    "    print(f + 1, features[\"f\" + str(feature_indices[f])], importances[indices[f]])"
   ]
  },
  {
   "cell_type": "code",
   "execution_count": null,
   "id": "409c409d-fc15-4ab7-8106-ec607720c168",
   "metadata": {},
   "outputs": [],
   "source": [
    "plt.figure(figsize=(15,5))\n",
    "plt.title(\"Feature importances\")\n",
    "bars = plt.bar(range(num_to_plot), \n",
    "               importances[indices[:num_to_plot]],\n",
    "               color=([str(i / float(num_to_plot +  1)) for i in range(num_to_plot)]),\n",
    "               align=\"center\")\n",
    "ticks = plt.xticks(range(num_to_plot), \n",
    "                   feature_indices)\n",
    "plt.xlim([-1, num_to_plot])\n",
    "plt.legend(bars, [u''.join(features[\"f\" + str(i)]) for i in feature_indices]);"
   ]
  },
  {
   "cell_type": "markdown",
   "id": "70b0fc5e-79c7-4bf3-82f6-a95afb0e08cf",
   "metadata": {},
   "source": [
    "    3.5 Сравните результаты метода ближайших соседей, дерева решений и случайного леса. Сформулируйте выводы."
   ]
  },
  {
   "cell_type": "markdown",
   "id": "c3d8bdce-2923-4188-be69-0b07aff9319d",
   "metadata": {},
   "source": [
    "Качество модели метода ближайших соседей оказался найхудшим из всех. Деревья решений намного быстрее чем метод ближайших соседей и качесто модели напорядок выше. Самым долгим окозался рамдомный лес, но при этом качество модели найлучшее."
   ]
  },
  {
   "cell_type": "code",
   "execution_count": null,
   "id": "71291f65-1d78-494b-9866-edb56d0a5b64",
   "metadata": {},
   "outputs": [],
   "source": []
  }
 ],
 "metadata": {
  "kernelspec": {
   "display_name": "Python 3 (ipykernel)",
   "language": "python",
   "name": "python3"
  },
  "language_info": {
   "codemirror_mode": {
    "name": "ipython",
    "version": 3
   },
   "file_extension": ".py",
   "mimetype": "text/x-python",
   "name": "python",
   "nbconvert_exporter": "python",
   "pygments_lexer": "ipython3",
   "version": "3.8.0"
  }
 },
 "nbformat": 4,
 "nbformat_minor": 5
}