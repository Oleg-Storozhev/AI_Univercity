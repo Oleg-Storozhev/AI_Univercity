{
 "cells": [
  {
   "cell_type": "markdown",
   "id": "00003240-37df-4f24-8da1-a43267df9d0c",
   "metadata": {},
   "source": [
    "10.09.2021"
   ]
  },
  {
   "cell_type": "markdown",
   "id": "1f99aea7-a150-4513-bef5-6f4f7fd617e8",
   "metadata": {},
   "source": [
    "Импорт нужных библиотек"
   ]
  },
  {
   "cell_type": "code",
   "execution_count": 1,
   "id": "b519b45c-8bd1-4e0e-8a8d-681c9407cfb4",
   "metadata": {},
   "outputs": [],
   "source": [
    "import numpy as np \n",
    "import pandas as pd \n",
    "import matplotlib.pyplot as plt\n",
    "import seaborn as sns\n",
    "from sklearn.linear_model import LinearRegression\n",
    "from scipy.stats import linregress"
   ]
  },
  {
   "cell_type": "markdown",
   "id": "fde023e2-4d34-453e-b56c-847509ec1375",
   "metadata": {},
   "source": [
    "Загрузка данных"
   ]
  },
  {
   "cell_type": "code",
   "execution_count": 2,
   "id": "beb4340e-98e3-4b45-93c0-70a9bfeec041",
   "metadata": {},
   "outputs": [
    {
     "data": {
      "text/html": [
       "<div>\n",
       "<style scoped>\n",
       "    .dataframe tbody tr th:only-of-type {\n",
       "        vertical-align: middle;\n",
       "    }\n",
       "\n",
       "    .dataframe tbody tr th {\n",
       "        vertical-align: top;\n",
       "    }\n",
       "\n",
       "    .dataframe thead th {\n",
       "        text-align: right;\n",
       "    }\n",
       "</style>\n",
       "<table border=\"1\" class=\"dataframe\">\n",
       "  <thead>\n",
       "    <tr style=\"text-align: right;\">\n",
       "      <th></th>\n",
       "      <th>Price</th>\n",
       "      <th>Year</th>\n",
       "      <th>Mileage</th>\n",
       "      <th>City</th>\n",
       "      <th>State</th>\n",
       "      <th>Vin</th>\n",
       "      <th>Make</th>\n",
       "      <th>Model</th>\n",
       "    </tr>\n",
       "  </thead>\n",
       "  <tbody>\n",
       "    <tr>\n",
       "      <th>0</th>\n",
       "      <td>8995</td>\n",
       "      <td>2014</td>\n",
       "      <td>35725.0</td>\n",
       "      <td>El Paso</td>\n",
       "      <td>TX</td>\n",
       "      <td>19VDE2E53EE000083</td>\n",
       "      <td>Acura</td>\n",
       "      <td>ILX6-Speed</td>\n",
       "    </tr>\n",
       "    <tr>\n",
       "      <th>1</th>\n",
       "      <td>10888</td>\n",
       "      <td>2013</td>\n",
       "      <td>NaN</td>\n",
       "      <td>Long Island City</td>\n",
       "      <td>NY</td>\n",
       "      <td>19VDE1F52DE012636</td>\n",
       "      <td>Acura</td>\n",
       "      <td>ILX5-Speed</td>\n",
       "    </tr>\n",
       "    <tr>\n",
       "      <th>2</th>\n",
       "      <td>8995</td>\n",
       "      <td>2013</td>\n",
       "      <td>48851.0</td>\n",
       "      <td>El Paso</td>\n",
       "      <td>TX</td>\n",
       "      <td>19VDE2E52DE000025</td>\n",
       "      <td>Acura</td>\n",
       "      <td>ILX6-Speed</td>\n",
       "    </tr>\n",
       "    <tr>\n",
       "      <th>3</th>\n",
       "      <td>10999</td>\n",
       "      <td>2014</td>\n",
       "      <td>39922.0</td>\n",
       "      <td>Windsor</td>\n",
       "      <td>CO</td>\n",
       "      <td>19VDE1F71EE003817</td>\n",
       "      <td>Acura</td>\n",
       "      <td>ILX5-Speed</td>\n",
       "    </tr>\n",
       "    <tr>\n",
       "      <th>4</th>\n",
       "      <td>0</td>\n",
       "      <td>2016</td>\n",
       "      <td>NaN</td>\n",
       "      <td>Lindon</td>\n",
       "      <td>UT</td>\n",
       "      <td>19UDE2F32GA001284</td>\n",
       "      <td>Acura</td>\n",
       "      <td>ILXAutomatic</td>\n",
       "    </tr>\n",
       "    <tr>\n",
       "      <th>...</th>\n",
       "      <td>...</td>\n",
       "      <td>...</td>\n",
       "      <td>...</td>\n",
       "      <td>...</td>\n",
       "      <td>...</td>\n",
       "      <td>...</td>\n",
       "      <td>...</td>\n",
       "      <td>...</td>\n",
       "    </tr>\n",
       "    <tr>\n",
       "      <th>852117</th>\n",
       "      <td>63215</td>\n",
       "      <td>2017</td>\n",
       "      <td>9.0</td>\n",
       "      <td>Culver City</td>\n",
       "      <td>CA</td>\n",
       "      <td>YV1A22MK9H1013237</td>\n",
       "      <td>Volvo</td>\n",
       "      <td>S90T6</td>\n",
       "    </tr>\n",
       "    <tr>\n",
       "      <th>852118</th>\n",
       "      <td>72260</td>\n",
       "      <td>2017</td>\n",
       "      <td>3201.0</td>\n",
       "      <td>Englewood</td>\n",
       "      <td>NJ</td>\n",
       "      <td>YV4A22PL3H1186162</td>\n",
       "      <td>Volvo</td>\n",
       "      <td>XC90T6</td>\n",
       "    </tr>\n",
       "    <tr>\n",
       "      <th>852119</th>\n",
       "      <td>55999</td>\n",
       "      <td>2016</td>\n",
       "      <td>28941.0</td>\n",
       "      <td>Fort Collins</td>\n",
       "      <td>CO</td>\n",
       "      <td>YV4A22PL4G1000868</td>\n",
       "      <td>Volvo</td>\n",
       "      <td>XC90AWD</td>\n",
       "    </tr>\n",
       "    <tr>\n",
       "      <th>852120</th>\n",
       "      <td>60240</td>\n",
       "      <td>2017</td>\n",
       "      <td>3005.0</td>\n",
       "      <td>San Leandro</td>\n",
       "      <td>CA</td>\n",
       "      <td>YV4A22NLXH1006162</td>\n",
       "      <td>Volvo</td>\n",
       "      <td>V90</td>\n",
       "    </tr>\n",
       "    <tr>\n",
       "      <th>852121</th>\n",
       "      <td>76995</td>\n",
       "      <td>2017</td>\n",
       "      <td>2502.0</td>\n",
       "      <td>New York</td>\n",
       "      <td>NY</td>\n",
       "      <td>YV4BC0ZX1H1109845</td>\n",
       "      <td>Volvo</td>\n",
       "      <td>XC90T8</td>\n",
       "    </tr>\n",
       "  </tbody>\n",
       "</table>\n",
       "<p>852122 rows × 8 columns</p>\n",
       "</div>"
      ],
      "text/plain": [
       "        Price  Year  Mileage              City State                Vin  \\\n",
       "0        8995  2014  35725.0           El Paso    TX  19VDE2E53EE000083   \n",
       "1       10888  2013      NaN  Long Island City    NY  19VDE1F52DE012636   \n",
       "2        8995  2013  48851.0           El Paso    TX  19VDE2E52DE000025   \n",
       "3       10999  2014  39922.0           Windsor    CO  19VDE1F71EE003817   \n",
       "4           0  2016      NaN            Lindon    UT  19UDE2F32GA001284   \n",
       "...       ...   ...      ...               ...   ...                ...   \n",
       "852117  63215  2017      9.0       Culver City    CA  YV1A22MK9H1013237   \n",
       "852118  72260  2017   3201.0         Englewood    NJ  YV4A22PL3H1186162   \n",
       "852119  55999  2016  28941.0      Fort Collins    CO  YV4A22PL4G1000868   \n",
       "852120  60240  2017   3005.0       San Leandro    CA  YV4A22NLXH1006162   \n",
       "852121  76995  2017   2502.0          New York    NY  YV4BC0ZX1H1109845   \n",
       "\n",
       "         Make         Model  \n",
       "0       Acura    ILX6-Speed  \n",
       "1       Acura    ILX5-Speed  \n",
       "2       Acura    ILX6-Speed  \n",
       "3       Acura    ILX5-Speed  \n",
       "4       Acura  ILXAutomatic  \n",
       "...       ...           ...  \n",
       "852117  Volvo         S90T6  \n",
       "852118  Volvo        XC90T6  \n",
       "852119  Volvo       XC90AWD  \n",
       "852120  Volvo           V90  \n",
       "852121  Volvo        XC90T8  \n",
       "\n",
       "[852122 rows x 8 columns]"
      ]
     },
     "execution_count": 2,
     "metadata": {},
     "output_type": "execute_result"
    }
   ],
   "source": [
    "df = pd.read_csv('true_car_listings_prepeared.csv')\n",
    "df"
   ]
  },
  {
   "cell_type": "code",
   "execution_count": 3,
   "id": "86d382af-630e-4fb3-b064-c53c2afa721b",
   "metadata": {},
   "outputs": [
    {
     "data": {
      "text/html": [
       "<div>\n",
       "<style scoped>\n",
       "    .dataframe tbody tr th:only-of-type {\n",
       "        vertical-align: middle;\n",
       "    }\n",
       "\n",
       "    .dataframe tbody tr th {\n",
       "        vertical-align: top;\n",
       "    }\n",
       "\n",
       "    .dataframe thead th {\n",
       "        text-align: right;\n",
       "    }\n",
       "</style>\n",
       "<table border=\"1\" class=\"dataframe\">\n",
       "  <thead>\n",
       "    <tr style=\"text-align: right;\">\n",
       "      <th></th>\n",
       "      <th>Price</th>\n",
       "      <th>Year</th>\n",
       "      <th>Mileage</th>\n",
       "      <th>City</th>\n",
       "      <th>State</th>\n",
       "      <th>Vin</th>\n",
       "      <th>Make</th>\n",
       "      <th>Model</th>\n",
       "    </tr>\n",
       "  </thead>\n",
       "  <tbody>\n",
       "    <tr>\n",
       "      <th>0</th>\n",
       "      <td>8995</td>\n",
       "      <td>2014</td>\n",
       "      <td>35725.0</td>\n",
       "      <td>El Paso</td>\n",
       "      <td>TX</td>\n",
       "      <td>19VDE2E53EE000083</td>\n",
       "      <td>Acura</td>\n",
       "      <td>ILX6-Speed</td>\n",
       "    </tr>\n",
       "    <tr>\n",
       "      <th>1</th>\n",
       "      <td>10888</td>\n",
       "      <td>2013</td>\n",
       "      <td>NaN</td>\n",
       "      <td>Long Island City</td>\n",
       "      <td>NY</td>\n",
       "      <td>19VDE1F52DE012636</td>\n",
       "      <td>Acura</td>\n",
       "      <td>ILX5-Speed</td>\n",
       "    </tr>\n",
       "    <tr>\n",
       "      <th>2</th>\n",
       "      <td>8995</td>\n",
       "      <td>2013</td>\n",
       "      <td>48851.0</td>\n",
       "      <td>El Paso</td>\n",
       "      <td>TX</td>\n",
       "      <td>19VDE2E52DE000025</td>\n",
       "      <td>Acura</td>\n",
       "      <td>ILX6-Speed</td>\n",
       "    </tr>\n",
       "    <tr>\n",
       "      <th>3</th>\n",
       "      <td>10999</td>\n",
       "      <td>2014</td>\n",
       "      <td>39922.0</td>\n",
       "      <td>Windsor</td>\n",
       "      <td>CO</td>\n",
       "      <td>19VDE1F71EE003817</td>\n",
       "      <td>Acura</td>\n",
       "      <td>ILX5-Speed</td>\n",
       "    </tr>\n",
       "    <tr>\n",
       "      <th>4</th>\n",
       "      <td>0</td>\n",
       "      <td>2016</td>\n",
       "      <td>NaN</td>\n",
       "      <td>Lindon</td>\n",
       "      <td>UT</td>\n",
       "      <td>19UDE2F32GA001284</td>\n",
       "      <td>Acura</td>\n",
       "      <td>ILXAutomatic</td>\n",
       "    </tr>\n",
       "  </tbody>\n",
       "</table>\n",
       "</div>"
      ],
      "text/plain": [
       "   Price  Year  Mileage              City State                Vin   Make  \\\n",
       "0   8995  2014  35725.0           El Paso    TX  19VDE2E53EE000083  Acura   \n",
       "1  10888  2013      NaN  Long Island City    NY  19VDE1F52DE012636  Acura   \n",
       "2   8995  2013  48851.0           El Paso    TX  19VDE2E52DE000025  Acura   \n",
       "3  10999  2014  39922.0           Windsor    CO  19VDE1F71EE003817  Acura   \n",
       "4      0  2016      NaN            Lindon    UT  19UDE2F32GA001284  Acura   \n",
       "\n",
       "          Model  \n",
       "0    ILX6-Speed  \n",
       "1    ILX5-Speed  \n",
       "2    ILX6-Speed  \n",
       "3    ILX5-Speed  \n",
       "4  ILXAutomatic  "
      ]
     },
     "execution_count": 3,
     "metadata": {},
     "output_type": "execute_result"
    }
   ],
   "source": [
    "# Метод head(n) предназначен для просмотра первых n строк таблицы (по умолчанию n=5)\n",
    "# Аналогично метод tail(n) возвращает последние n строк\n",
    "df.head()"
   ]
  },
  {
   "cell_type": "code",
   "execution_count": 4,
   "id": "0aa8edac-44d2-4cc2-8fb8-b7ae121f81ef",
   "metadata": {},
   "outputs": [
    {
     "data": {
      "text/html": [
       "<div>\n",
       "<style scoped>\n",
       "    .dataframe tbody tr th:only-of-type {\n",
       "        vertical-align: middle;\n",
       "    }\n",
       "\n",
       "    .dataframe tbody tr th {\n",
       "        vertical-align: top;\n",
       "    }\n",
       "\n",
       "    .dataframe thead th {\n",
       "        text-align: right;\n",
       "    }\n",
       "</style>\n",
       "<table border=\"1\" class=\"dataframe\">\n",
       "  <thead>\n",
       "    <tr style=\"text-align: right;\">\n",
       "      <th></th>\n",
       "      <th>Price</th>\n",
       "      <th>Year</th>\n",
       "      <th>Mileage</th>\n",
       "      <th>City</th>\n",
       "      <th>State</th>\n",
       "      <th>Vin</th>\n",
       "      <th>Make</th>\n",
       "      <th>Model</th>\n",
       "    </tr>\n",
       "  </thead>\n",
       "  <tbody>\n",
       "    <tr>\n",
       "      <th>852117</th>\n",
       "      <td>63215</td>\n",
       "      <td>2017</td>\n",
       "      <td>9.0</td>\n",
       "      <td>Culver City</td>\n",
       "      <td>CA</td>\n",
       "      <td>YV1A22MK9H1013237</td>\n",
       "      <td>Volvo</td>\n",
       "      <td>S90T6</td>\n",
       "    </tr>\n",
       "    <tr>\n",
       "      <th>852118</th>\n",
       "      <td>72260</td>\n",
       "      <td>2017</td>\n",
       "      <td>3201.0</td>\n",
       "      <td>Englewood</td>\n",
       "      <td>NJ</td>\n",
       "      <td>YV4A22PL3H1186162</td>\n",
       "      <td>Volvo</td>\n",
       "      <td>XC90T6</td>\n",
       "    </tr>\n",
       "    <tr>\n",
       "      <th>852119</th>\n",
       "      <td>55999</td>\n",
       "      <td>2016</td>\n",
       "      <td>28941.0</td>\n",
       "      <td>Fort Collins</td>\n",
       "      <td>CO</td>\n",
       "      <td>YV4A22PL4G1000868</td>\n",
       "      <td>Volvo</td>\n",
       "      <td>XC90AWD</td>\n",
       "    </tr>\n",
       "    <tr>\n",
       "      <th>852120</th>\n",
       "      <td>60240</td>\n",
       "      <td>2017</td>\n",
       "      <td>3005.0</td>\n",
       "      <td>San Leandro</td>\n",
       "      <td>CA</td>\n",
       "      <td>YV4A22NLXH1006162</td>\n",
       "      <td>Volvo</td>\n",
       "      <td>V90</td>\n",
       "    </tr>\n",
       "    <tr>\n",
       "      <th>852121</th>\n",
       "      <td>76995</td>\n",
       "      <td>2017</td>\n",
       "      <td>2502.0</td>\n",
       "      <td>New York</td>\n",
       "      <td>NY</td>\n",
       "      <td>YV4BC0ZX1H1109845</td>\n",
       "      <td>Volvo</td>\n",
       "      <td>XC90T8</td>\n",
       "    </tr>\n",
       "  </tbody>\n",
       "</table>\n",
       "</div>"
      ],
      "text/plain": [
       "        Price  Year  Mileage          City State                Vin   Make  \\\n",
       "852117  63215  2017      9.0   Culver City    CA  YV1A22MK9H1013237  Volvo   \n",
       "852118  72260  2017   3201.0     Englewood    NJ  YV4A22PL3H1186162  Volvo   \n",
       "852119  55999  2016  28941.0  Fort Collins    CO  YV4A22PL4G1000868  Volvo   \n",
       "852120  60240  2017   3005.0   San Leandro    CA  YV4A22NLXH1006162  Volvo   \n",
       "852121  76995  2017   2502.0      New York    NY  YV4BC0ZX1H1109845  Volvo   \n",
       "\n",
       "          Model  \n",
       "852117    S90T6  \n",
       "852118   XC90T6  \n",
       "852119  XC90AWD  \n",
       "852120      V90  \n",
       "852121   XC90T8  "
      ]
     },
     "execution_count": 4,
     "metadata": {},
     "output_type": "execute_result"
    }
   ],
   "source": [
    "df.tail(5)"
   ]
  },
  {
   "cell_type": "code",
   "execution_count": 5,
   "id": "1ee7c2f7-c74d-41f0-af13-07d8a08fd55a",
   "metadata": {},
   "outputs": [
    {
     "data": {
      "text/html": [
       "<div>\n",
       "<style scoped>\n",
       "    .dataframe tbody tr th:only-of-type {\n",
       "        vertical-align: middle;\n",
       "    }\n",
       "\n",
       "    .dataframe tbody tr th {\n",
       "        vertical-align: top;\n",
       "    }\n",
       "\n",
       "    .dataframe thead th {\n",
       "        text-align: right;\n",
       "    }\n",
       "</style>\n",
       "<table border=\"1\" class=\"dataframe\">\n",
       "  <thead>\n",
       "    <tr style=\"text-align: right;\">\n",
       "      <th></th>\n",
       "      <th>0</th>\n",
       "      <th>1</th>\n",
       "      <th>2</th>\n",
       "      <th>3</th>\n",
       "      <th>4</th>\n",
       "      <th>5</th>\n",
       "      <th>6</th>\n",
       "      <th>7</th>\n",
       "      <th>8</th>\n",
       "      <th>9</th>\n",
       "    </tr>\n",
       "  </thead>\n",
       "  <tbody>\n",
       "    <tr>\n",
       "      <th>Price</th>\n",
       "      <td>8995</td>\n",
       "      <td>10888</td>\n",
       "      <td>8995</td>\n",
       "      <td>10999</td>\n",
       "      <td>0</td>\n",
       "      <td>7989</td>\n",
       "      <td>14490</td>\n",
       "      <td>13995</td>\n",
       "      <td>10495</td>\n",
       "      <td>9995</td>\n",
       "    </tr>\n",
       "    <tr>\n",
       "      <th>Year</th>\n",
       "      <td>2014</td>\n",
       "      <td>2013</td>\n",
       "      <td>2013</td>\n",
       "      <td>2014</td>\n",
       "      <td>2016</td>\n",
       "      <td>2012</td>\n",
       "      <td>2014</td>\n",
       "      <td>2013</td>\n",
       "      <td>2013</td>\n",
       "      <td>2013</td>\n",
       "    </tr>\n",
       "    <tr>\n",
       "      <th>Mileage</th>\n",
       "      <td>35725.0</td>\n",
       "      <td>NaN</td>\n",
       "      <td>48851.0</td>\n",
       "      <td>39922.0</td>\n",
       "      <td>NaN</td>\n",
       "      <td>NaN</td>\n",
       "      <td>34032.0</td>\n",
       "      <td>32384.0</td>\n",
       "      <td>57596.0</td>\n",
       "      <td>63887.0</td>\n",
       "    </tr>\n",
       "    <tr>\n",
       "      <th>City</th>\n",
       "      <td>El Paso</td>\n",
       "      <td>Long Island City</td>\n",
       "      <td>El Paso</td>\n",
       "      <td>Windsor</td>\n",
       "      <td>Lindon</td>\n",
       "      <td>Miami</td>\n",
       "      <td>Greatneck</td>\n",
       "      <td>West Jordan</td>\n",
       "      <td>Waterbury</td>\n",
       "      <td>El Paso</td>\n",
       "    </tr>\n",
       "    <tr>\n",
       "      <th>State</th>\n",
       "      <td>TX</td>\n",
       "      <td>NY</td>\n",
       "      <td>TX</td>\n",
       "      <td>CO</td>\n",
       "      <td>UT</td>\n",
       "      <td>FL</td>\n",
       "      <td>NY</td>\n",
       "      <td>UT</td>\n",
       "      <td>CT</td>\n",
       "      <td>TX</td>\n",
       "    </tr>\n",
       "    <tr>\n",
       "      <th>Vin</th>\n",
       "      <td>19VDE2E53EE000083</td>\n",
       "      <td>19VDE1F52DE012636</td>\n",
       "      <td>19VDE2E52DE000025</td>\n",
       "      <td>19VDE1F71EE003817</td>\n",
       "      <td>19UDE2F32GA001284</td>\n",
       "      <td>JH4CU2F83CC019895</td>\n",
       "      <td>JH4CU2F84EC002686</td>\n",
       "      <td>JH4CU2F64DC006203</td>\n",
       "      <td>19VDE2E50DE000234</td>\n",
       "      <td>19VDE1F50DE010450</td>\n",
       "    </tr>\n",
       "    <tr>\n",
       "      <th>Make</th>\n",
       "      <td>Acura</td>\n",
       "      <td>Acura</td>\n",
       "      <td>Acura</td>\n",
       "      <td>Acura</td>\n",
       "      <td>Acura</td>\n",
       "      <td>Acura</td>\n",
       "      <td>Acura</td>\n",
       "      <td>Acura</td>\n",
       "      <td>Acura</td>\n",
       "      <td>Acura</td>\n",
       "    </tr>\n",
       "    <tr>\n",
       "      <th>Model</th>\n",
       "      <td>ILX6-Speed</td>\n",
       "      <td>ILX5-Speed</td>\n",
       "      <td>ILX6-Speed</td>\n",
       "      <td>ILX5-Speed</td>\n",
       "      <td>ILXAutomatic</td>\n",
       "      <td>TSXAutomatic</td>\n",
       "      <td>TSXSpecial</td>\n",
       "      <td>TSX5-Speed</td>\n",
       "      <td>ILX6-Speed</td>\n",
       "      <td>NaN</td>\n",
       "    </tr>\n",
       "  </tbody>\n",
       "</table>\n",
       "</div>"
      ],
      "text/plain": [
       "                         0                  1                  2  \\\n",
       "Price                 8995              10888               8995   \n",
       "Year                  2014               2013               2013   \n",
       "Mileage            35725.0                NaN            48851.0   \n",
       "City               El Paso   Long Island City            El Paso   \n",
       "State                   TX                 NY                 TX   \n",
       "Vin      19VDE2E53EE000083  19VDE1F52DE012636  19VDE2E52DE000025   \n",
       "Make                 Acura              Acura              Acura   \n",
       "Model           ILX6-Speed         ILX5-Speed         ILX6-Speed   \n",
       "\n",
       "                         3                  4                  5  \\\n",
       "Price                10999                  0               7989   \n",
       "Year                  2014               2016               2012   \n",
       "Mileage            39922.0                NaN                NaN   \n",
       "City               Windsor             Lindon              Miami   \n",
       "State                   CO                 UT                 FL   \n",
       "Vin      19VDE1F71EE003817  19UDE2F32GA001284  JH4CU2F83CC019895   \n",
       "Make                 Acura              Acura              Acura   \n",
       "Model           ILX5-Speed       ILXAutomatic       TSXAutomatic   \n",
       "\n",
       "                         6                  7                  8  \\\n",
       "Price                14490              13995              10495   \n",
       "Year                  2014               2013               2013   \n",
       "Mileage            34032.0            32384.0            57596.0   \n",
       "City             Greatneck        West Jordan          Waterbury   \n",
       "State                   NY                 UT                 CT   \n",
       "Vin      JH4CU2F84EC002686  JH4CU2F64DC006203  19VDE2E50DE000234   \n",
       "Make                 Acura              Acura              Acura   \n",
       "Model           TSXSpecial         TSX5-Speed         ILX6-Speed   \n",
       "\n",
       "                         9  \n",
       "Price                 9995  \n",
       "Year                  2013  \n",
       "Mileage            63887.0  \n",
       "City               El Paso  \n",
       "State                   TX  \n",
       "Vin      19VDE1F50DE010450  \n",
       "Make                 Acura  \n",
       "Model                  NaN  "
      ]
     },
     "execution_count": 5,
     "metadata": {},
     "output_type": "execute_result"
    }
   ],
   "source": [
    "# Если признаков (столбцов) слишком много, полезно будет транспонировать вывод\n",
    "df.head(10).T"
   ]
  },
  {
   "cell_type": "code",
   "execution_count": 6,
   "id": "f4031551-76ea-4cee-ac90-c42285d6559e",
   "metadata": {},
   "outputs": [
    {
     "name": "stdout",
     "output_type": "stream",
     "text": [
      "<class 'pandas.core.frame.DataFrame'>\n",
      "RangeIndex: 852122 entries, 0 to 852121\n",
      "Data columns (total 8 columns):\n",
      " #   Column   Non-Null Count   Dtype  \n",
      "---  ------   --------------   -----  \n",
      " 0   Price    852122 non-null  int64  \n",
      " 1   Year     852122 non-null  int64  \n",
      " 2   Mileage  731179 non-null  float64\n",
      " 3   City     852122 non-null  object \n",
      " 4   State    852122 non-null  object \n",
      " 5   Vin      852122 non-null  object \n",
      " 6   Make     852122 non-null  object \n",
      " 7   Model    775000 non-null  object \n",
      "dtypes: float64(1), int64(2), object(5)\n",
      "memory usage: 52.0+ MB\n"
     ]
    }
   ],
   "source": [
    "# Метод info() позволяет вывести общую информацию о датасете\n",
    "# Мы можем узнать тип каждого признака, а также есть ли в данных пропуски\n",
    "df.info()"
   ]
  },
  {
   "cell_type": "code",
   "execution_count": 7,
   "id": "29b53aec-46a4-4431-9370-eb79396c21c5",
   "metadata": {},
   "outputs": [
    {
     "data": {
      "text/plain": [
       "Houston          12703\n",
       "San Antonio       8078\n",
       "Louisville        5872\n",
       "Jacksonville      5675\n",
       "Austin            5297\n",
       "                 ...  \n",
       "Pleasant Hill        4\n",
       "Port Jervis          4\n",
       "Los Banos            4\n",
       "Pen Argyl            4\n",
       "Royston              2\n",
       "Name: City, Length: 2553, dtype: int64"
      ]
     },
     "execution_count": 7,
     "metadata": {},
     "output_type": "execute_result"
    }
   ],
   "source": [
    "df['City'].value_counts()"
   ]
  },
  {
   "cell_type": "code",
   "execution_count": 8,
   "id": "7d6b77c0-b1a5-43d6-bed9-1fb5f5362335",
   "metadata": {},
   "outputs": [
    {
     "data": {
      "text/html": [
       "<div>\n",
       "<style scoped>\n",
       "    .dataframe tbody tr th:only-of-type {\n",
       "        vertical-align: middle;\n",
       "    }\n",
       "\n",
       "    .dataframe tbody tr th {\n",
       "        vertical-align: top;\n",
       "    }\n",
       "\n",
       "    .dataframe thead th {\n",
       "        text-align: right;\n",
       "    }\n",
       "</style>\n",
       "<table border=\"1\" class=\"dataframe\">\n",
       "  <thead>\n",
       "    <tr style=\"text-align: right;\">\n",
       "      <th></th>\n",
       "      <th>Price</th>\n",
       "      <th>Year</th>\n",
       "      <th>Mileage</th>\n",
       "      <th>City</th>\n",
       "      <th>State</th>\n",
       "      <th>Vin</th>\n",
       "      <th>Make</th>\n",
       "      <th>Model</th>\n",
       "    </tr>\n",
       "  </thead>\n",
       "  <tbody>\n",
       "    <tr>\n",
       "      <th>140784</th>\n",
       "      <td>10995</td>\n",
       "      <td>2008</td>\n",
       "      <td>84781.0</td>\n",
       "      <td>Port Jervis</td>\n",
       "      <td>NY</td>\n",
       "      <td>1G1ZJ57BX8F287423</td>\n",
       "      <td>Chevrolet</td>\n",
       "      <td>NaN</td>\n",
       "    </tr>\n",
       "    <tr>\n",
       "      <th>314575</th>\n",
       "      <td>6995</td>\n",
       "      <td>2006</td>\n",
       "      <td>70876.0</td>\n",
       "      <td>Port Jervis</td>\n",
       "      <td>NY</td>\n",
       "      <td>1FAFP36N36W121465</td>\n",
       "      <td>Ford</td>\n",
       "      <td>Focus4dr</td>\n",
       "    </tr>\n",
       "    <tr>\n",
       "      <th>334467</th>\n",
       "      <td>4995</td>\n",
       "      <td>2003</td>\n",
       "      <td>171336.0</td>\n",
       "      <td>Port Jervis</td>\n",
       "      <td>NY</td>\n",
       "      <td>1FTRW08653KA37066</td>\n",
       "      <td>Ford</td>\n",
       "      <td>F-1504WD</td>\n",
       "    </tr>\n",
       "    <tr>\n",
       "      <th>340913</th>\n",
       "      <td>10995</td>\n",
       "      <td>1999</td>\n",
       "      <td>156361.0</td>\n",
       "      <td>Port Jervis</td>\n",
       "      <td>NY</td>\n",
       "      <td>1FTNF21L3XEB89376</td>\n",
       "      <td>Ford</td>\n",
       "      <td>Super</td>\n",
       "    </tr>\n",
       "  </tbody>\n",
       "</table>\n",
       "</div>"
      ],
      "text/plain": [
       "        Price  Year   Mileage         City State                Vin  \\\n",
       "140784  10995  2008   84781.0  Port Jervis    NY  1G1ZJ57BX8F287423   \n",
       "314575   6995  2006   70876.0  Port Jervis    NY  1FAFP36N36W121465   \n",
       "334467   4995  2003  171336.0  Port Jervis    NY  1FTRW08653KA37066   \n",
       "340913  10995  1999  156361.0  Port Jervis    NY  1FTNF21L3XEB89376   \n",
       "\n",
       "             Make     Model  \n",
       "140784  Chevrolet       NaN  \n",
       "314575       Ford  Focus4dr  \n",
       "334467       Ford  F-1504WD  \n",
       "340913       Ford     Super  "
      ]
     },
     "execution_count": 8,
     "metadata": {},
     "output_type": "execute_result"
    }
   ],
   "source": [
    "df[df['City'] == \"Port Jervis\"]"
   ]
  },
  {
   "cell_type": "code",
   "execution_count": 9,
   "id": "799ed697-e97a-409d-a207-d8f418ee038f",
   "metadata": {},
   "outputs": [
    {
     "data": {
      "text/plain": [
       "Houston          0.014907\n",
       "San Antonio      0.009480\n",
       "Louisville       0.006891\n",
       "Jacksonville     0.006660\n",
       "Austin           0.006216\n",
       "                   ...   \n",
       "Pleasant Hill    0.000005\n",
       "Port Jervis      0.000005\n",
       "Los Banos        0.000005\n",
       "Pen Argyl        0.000005\n",
       "Royston          0.000002\n",
       "Name: City, Length: 2553, dtype: float64"
      ]
     },
     "execution_count": 9,
     "metadata": {},
     "output_type": "execute_result"
    }
   ],
   "source": [
    "# Параметр normalize позволяет узнать процентное соотношение\n",
    "df['City'].value_counts(normalize=True)"
   ]
  },
  {
   "cell_type": "code",
   "execution_count": 10,
   "id": "5cd1ff56-e686-4a88-937c-dada06596ef9",
   "metadata": {},
   "outputs": [
    {
     "data": {
      "text/plain": [
       "<AxesSubplot:>"
      ]
     },
     "execution_count": 10,
     "metadata": {},
     "output_type": "execute_result"
    },
    {
     "data": {
      "image/png": "[encoded data removed]",
      "text/plain": [
       "<Figure size 432x288 with 1 Axes>"
      ]
     },
     "metadata": {
      "needs_background": "light"
     },
     "output_type": "display_data"
    }
   ],
   "source": [
    "df['Price'].hist()"
   ]
  },
  {
   "cell_type": "code",
   "execution_count": 11,
   "id": "bbcb5f87-750c-43a5-97f5-6d4d740035dc",
   "metadata": {},
   "outputs": [
    {
     "data": {
      "text/plain": [
       "<AxesSubplot:>"
      ]
     },
     "execution_count": 11,
     "metadata": {},
     "output_type": "execute_result"
    },
    {
     "data": {
      "image/png": "[encoded data removed]",
      "text/plain": [
       "<Figure size 432x288 with 1 Axes>"
      ]
     },
     "metadata": {
      "needs_background": "light"
     },
     "output_type": "display_data"
    }
   ],
   "source": [
    "df['Price'].hist(bins=1000)"
   ]
  },
  {
   "cell_type": "code",
   "execution_count": 12,
   "id": "8bb8a89a-e7dc-43db-8ce4-423aaa090247",
   "metadata": {},
   "outputs": [
    {
     "name": "stderr",
     "output_type": "stream",
     "text": [
      "/Users/nataliiastorozheva/PycharmProjects/AI_Univercity/venv/lib/python3.8/site-packages/seaborn/_decorators.py:36: FutureWarning: Pass the following variable as a keyword arg: x. From version 0.12, the only valid positional argument will be `data`, and passing other arguments without an explicit keyword will result in an error or misinterpretation.\n",
      "  warnings.warn(\n"
     ]
    },
    {
     "data": {
      "text/plain": [
       "<AxesSubplot:xlabel='Price'>"
      ]
     },
     "execution_count": 12,
     "metadata": {},
     "output_type": "execute_result"
    },
    {
     "data": {
      "image/png": "[encoded data removed]",
      "text/plain": [
       "<Figure size 432x288 with 1 Axes>"
      ]
     },
     "metadata": {
      "needs_background": "light"
     },
     "output_type": "display_data"
    }
   ],
   "source": [
    "sns.boxplot(df['Price'])"
   ]
  },
  {
   "cell_type": "code",
   "execution_count": 13,
   "id": "d344ea70-de38-4fe3-8b1f-b84b691e5c3b",
   "metadata": {},
   "outputs": [
    {
     "data": {
      "text/plain": [
       "Year\n",
       "1997     9666.639262\n",
       "1998     6175.784238\n",
       "1999     6626.385965\n",
       "2000     6526.303156\n",
       "2001     6787.239164\n",
       "2002     7627.792105\n",
       "2003     7836.989379\n",
       "2004     8328.221141\n",
       "2005     8949.039709\n",
       "2006     9940.886664\n",
       "2007    10871.353975\n",
       "2008    11904.341156\n",
       "2009    12232.379256\n",
       "2010    13397.321326\n",
       "2011    15279.478048\n",
       "2012    16309.671369\n",
       "2013    18002.439887\n",
       "2014    20783.400598\n",
       "2015    23455.011732\n",
       "2016    23864.962145\n",
       "2017    27915.384300\n",
       "2018    38822.428416\n",
       "Name: Price, dtype: float64"
      ]
     },
     "execution_count": 13,
     "metadata": {},
     "output_type": "execute_result"
    }
   ],
   "source": [
    "df.groupby('Year')['Price'].mean()"
   ]
  },
  {
   "cell_type": "code",
   "execution_count": 14,
   "id": "1e910b86-6341-4a4d-8e27-1e1596683c30",
   "metadata": {},
   "outputs": [
    {
     "data": {
      "image/png": "[encoded data removed]",
      "text/plain": [
       "<Figure size 432x288 with 1 Axes>"
      ]
     },
     "metadata": {
      "needs_background": "light"
     },
     "output_type": "display_data"
    }
   ],
   "source": [
    "df.groupby('Year')['Price'].mean().plot(kind='bar') \n",
    "plt.ylabel('Price') # добавляем подпись на оси Оу\n",
    "plt.show();"
   ]
  },
  {
   "cell_type": "code",
   "execution_count": 15,
   "id": "44b36e37-6c1b-4f1b-9ad3-da57011a4c1d",
   "metadata": {},
   "outputs": [
    {
     "data": {
      "image/png": "[encoded data removed]",
      "text/plain": [
       "<Figure size 432x288 with 1 Axes>"
      ]
     },
     "metadata": {
      "needs_background": "light"
     },
     "output_type": "display_data"
    }
   ],
   "source": [
    "plt.scatter(df.Year, df.Price);"
   ]
  },
  {
   "cell_type": "code",
   "execution_count": 16,
   "id": "933f4cef-04a7-48c2-b7c9-cd14d95803e9",
   "metadata": {},
   "outputs": [
    {
     "data": {
      "image/png": "[encoded data removed]",
      "text/plain": [
       "<Figure size 432x432 with 3 Axes>"
      ]
     },
     "metadata": {
      "needs_background": "light"
     },
     "output_type": "display_data"
    }
   ],
   "source": [
    "sns.jointplot(x='Year', y='Price', data=df);"
   ]
  },
  {
   "cell_type": "code",
   "execution_count": 17,
   "id": "311dd324-83cb-47ca-bf1a-ce35d822c86b",
   "metadata": {},
   "outputs": [
    {
     "data": {
      "text/plain": [
       "<matplotlib.collections.PathCollection at 0x7ffdeb94ff70>"
      ]
     },
     "execution_count": 17,
     "metadata": {},
     "output_type": "execute_result"
    },
    {
     "data": {
      "image/png": "[encoded data removed]",
      "text/plain": [
       "<Figure size 432x288 with 1 Axes>"
      ]
     },
     "metadata": {
      "needs_background": "light"
     },
     "output_type": "display_data"
    }
   ],
   "source": [
    "x = df.Year\n",
    "y = df.Price\n",
    "plt.scatter(x, y)"
   ]
  },
  {
   "cell_type": "markdown",
   "id": "472ded74-058c-4f54-aeeb-d04b3134a51a",
   "metadata": {},
   "source": [
    "Линейная регрессия scipy"
   ]
  },
  {
   "cell_type": "code",
   "execution_count": 18,
   "id": "1cd339b7-6afa-430d-8e5d-e7b2c6508f41",
   "metadata": {},
   "outputs": [
    {
     "data": {
      "image/png": "[encoded data removed]",
      "text/plain": [
       "<Figure size 432x288 with 1 Axes>"
      ]
     },
     "metadata": {
      "needs_background": "light"
     },
     "output_type": "display_data"
    }
   ],
   "source": [
    "stats = linregress(x, y)\n",
    "\n",
    "m = stats.slope\n",
    "b = stats.intercept\n",
    "plt.scatter(x, y)\n",
    "plt.plot(x, m * x + b, 'red')\n",
    "plt.show()"
   ]
  },
  {
   "cell_type": "code",
   "execution_count": 19,
   "id": "b8f634ef-31e4-44b0-b146-85edc8d00d8e",
   "metadata": {},
   "outputs": [
    {
     "name": "stdout",
     "output_type": "stream",
     "text": [
      "1498.9212349544455\n"
     ]
    }
   ],
   "source": [
    "print(m)"
   ]
  },
  {
   "cell_type": "code",
   "execution_count": null,
   "id": "d676c8c9-e39a-4e63-8f15-8fa30561f5c0",
   "metadata": {},
   "outputs": [],
   "source": []
  }
 ],
 "metadata": {
  "kernelspec": {
   "display_name": "Python 3 (ipykernel)",
   "language": "python",
   "name": "python3"
  },
  "language_info": {
   "codemirror_mode": {
    "name": "ipython",
    "version": 3
   },
   "file_extension": ".py",
   "mimetype": "text/x-python",
   "name": "python",
   "nbconvert_exporter": "python",
   "pygments_lexer": "ipython3",
   "version": "3.8.0"
  }
 },
 "nbformat": 4,
 "nbformat_minor": 5
}